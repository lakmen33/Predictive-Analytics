{
 "cells": [
  {
   "cell_type": "markdown",
   "id": "9d248b62-f9d2-46db-9103-5036cdda7f64",
   "metadata": {},
   "source": [
    "# Bitcoin Price Prediction"
   ]
  },
  {
   "cell_type": "code",
   "execution_count": 10,
   "id": "c4dfb8fd-b176-4499-9a56-d8c3df9a386d",
   "metadata": {},
   "outputs": [],
   "source": [
    "# Setting the format\n",
    "import sys\n",
    "\n",
    "assert sys.version_info >= (3, 7)\n",
    "\n",
    "from packaging import version\n",
    "import sklearn\n",
    "\n",
    "assert version.parse(sklearn.__version__) >= version.parse(\"1.0.1\")\n",
    "\n",
    "from pathlib import Path\n",
    "import pandas as pd\n",
    "import tarfile\n",
    "import urllib.request"
   ]
  },
  {
   "cell_type": "code",
   "execution_count": 11,
   "id": "1f4c637c-e327-45cc-832d-8acba97dfe85",
   "metadata": {},
   "outputs": [
    {
     "name": "stdout",
     "output_type": "stream",
     "text": [
      "Requirement already satisfied: tensorflow in c:\\users\\lakme\\anaconda3\\lib\\site-packages (2.16.1)\n",
      "Requirement already satisfied: tensorflow-intel==2.16.1 in c:\\users\\lakme\\anaconda3\\lib\\site-packages (from tensorflow) (2.16.1)\n",
      "Requirement already satisfied: absl-py>=1.0.0 in c:\\users\\lakme\\anaconda3\\lib\\site-packages (from tensorflow-intel==2.16.1->tensorflow) (2.1.0)\n",
      "Requirement already satisfied: astunparse>=1.6.0 in c:\\users\\lakme\\anaconda3\\lib\\site-packages (from tensorflow-intel==2.16.1->tensorflow) (1.6.3)\n",
      "Requirement already satisfied: flatbuffers>=23.5.26 in c:\\users\\lakme\\anaconda3\\lib\\site-packages (from tensorflow-intel==2.16.1->tensorflow) (24.3.25)\n",
      "Requirement already satisfied: gast!=0.5.0,!=0.5.1,!=0.5.2,>=0.2.1 in c:\\users\\lakme\\anaconda3\\lib\\site-packages (from tensorflow-intel==2.16.1->tensorflow) (0.5.4)\n",
      "Requirement already satisfied: google-pasta>=0.1.1 in c:\\users\\lakme\\anaconda3\\lib\\site-packages (from tensorflow-intel==2.16.1->tensorflow) (0.2.0)\n",
      "Requirement already satisfied: h5py>=3.10.0 in c:\\users\\lakme\\anaconda3\\lib\\site-packages (from tensorflow-intel==2.16.1->tensorflow) (3.10.0)\n",
      "Requirement already satisfied: libclang>=13.0.0 in c:\\users\\lakme\\anaconda3\\lib\\site-packages (from tensorflow-intel==2.16.1->tensorflow) (18.1.1)\n",
      "Requirement already satisfied: ml-dtypes~=0.3.1 in c:\\users\\lakme\\anaconda3\\lib\\site-packages (from tensorflow-intel==2.16.1->tensorflow) (0.3.2)\n",
      "Requirement already satisfied: opt-einsum>=2.3.2 in c:\\users\\lakme\\anaconda3\\lib\\site-packages (from tensorflow-intel==2.16.1->tensorflow) (3.3.0)\n",
      "Requirement already satisfied: packaging in c:\\users\\lakme\\anaconda3\\lib\\site-packages (from tensorflow-intel==2.16.1->tensorflow) (23.2)\n",
      "Requirement already satisfied: protobuf!=4.21.0,!=4.21.1,!=4.21.2,!=4.21.3,!=4.21.4,!=4.21.5,<5.0.0dev,>=3.20.3 in c:\\users\\lakme\\anaconda3\\lib\\site-packages (from tensorflow-intel==2.16.1->tensorflow) (4.25.3)\n",
      "Requirement already satisfied: requests<3,>=2.21.0 in c:\\users\\lakme\\anaconda3\\lib\\site-packages (from tensorflow-intel==2.16.1->tensorflow) (2.31.0)\n",
      "Requirement already satisfied: setuptools in c:\\users\\lakme\\anaconda3\\lib\\site-packages (from tensorflow-intel==2.16.1->tensorflow) (68.0.0)\n",
      "Requirement already satisfied: six>=1.12.0 in c:\\users\\lakme\\anaconda3\\lib\\site-packages (from tensorflow-intel==2.16.1->tensorflow) (1.16.0)\n",
      "Requirement already satisfied: termcolor>=1.1.0 in c:\\users\\lakme\\anaconda3\\lib\\site-packages (from tensorflow-intel==2.16.1->tensorflow) (2.4.0)\n",
      "Requirement already satisfied: typing-extensions>=3.6.6 in c:\\users\\lakme\\anaconda3\\lib\\site-packages (from tensorflow-intel==2.16.1->tensorflow) (4.8.0)\n",
      "Requirement already satisfied: wrapt>=1.11.0 in c:\\users\\lakme\\anaconda3\\lib\\site-packages (from tensorflow-intel==2.16.1->tensorflow) (1.16.0)\n",
      "Requirement already satisfied: grpcio<2.0,>=1.24.3 in c:\\users\\lakme\\anaconda3\\lib\\site-packages (from tensorflow-intel==2.16.1->tensorflow) (1.62.1)\n",
      "Requirement already satisfied: tensorboard<2.17,>=2.16 in c:\\users\\lakme\\anaconda3\\lib\\site-packages (from tensorflow-intel==2.16.1->tensorflow) (2.16.2)\n",
      "Requirement already satisfied: keras>=3.0.0 in c:\\users\\lakme\\anaconda3\\lib\\site-packages (from tensorflow-intel==2.16.1->tensorflow) (3.2.0)\n",
      "Requirement already satisfied: tensorflow-io-gcs-filesystem>=0.23.1 in c:\\users\\lakme\\anaconda3\\lib\\site-packages (from tensorflow-intel==2.16.1->tensorflow) (0.31.0)\n",
      "Requirement already satisfied: numpy<2.0.0,>=1.23.5 in c:\\users\\lakme\\anaconda3\\lib\\site-packages (from tensorflow-intel==2.16.1->tensorflow) (1.26.2)\n",
      "Requirement already satisfied: wheel<1.0,>=0.23.0 in c:\\users\\lakme\\anaconda3\\lib\\site-packages (from astunparse>=1.6.0->tensorflow-intel==2.16.1->tensorflow) (0.38.4)\n",
      "Requirement already satisfied: rich in c:\\users\\lakme\\anaconda3\\lib\\site-packages (from keras>=3.0.0->tensorflow-intel==2.16.1->tensorflow) (13.7.0)\n",
      "Requirement already satisfied: namex in c:\\users\\lakme\\anaconda3\\lib\\site-packages (from keras>=3.0.0->tensorflow-intel==2.16.1->tensorflow) (0.0.7)\n",
      "Requirement already satisfied: optree in c:\\users\\lakme\\anaconda3\\lib\\site-packages (from keras>=3.0.0->tensorflow-intel==2.16.1->tensorflow) (0.11.0)\n",
      "Requirement already satisfied: charset-normalizer<4,>=2 in c:\\users\\lakme\\anaconda3\\lib\\site-packages (from requests<3,>=2.21.0->tensorflow-intel==2.16.1->tensorflow) (3.3.2)\n",
      "Requirement already satisfied: idna<4,>=2.5 in c:\\users\\lakme\\anaconda3\\lib\\site-packages (from requests<3,>=2.21.0->tensorflow-intel==2.16.1->tensorflow) (3.6)\n",
      "Requirement already satisfied: urllib3<3,>=1.21.1 in c:\\users\\lakme\\anaconda3\\lib\\site-packages (from requests<3,>=2.21.0->tensorflow-intel==2.16.1->tensorflow) (1.26.8)\n",
      "Requirement already satisfied: certifi>=2017.4.17 in c:\\users\\lakme\\anaconda3\\lib\\site-packages (from requests<3,>=2.21.0->tensorflow-intel==2.16.1->tensorflow) (2023.11.17)\n",
      "Requirement already satisfied: markdown>=2.6.8 in c:\\users\\lakme\\anaconda3\\lib\\site-packages (from tensorboard<2.17,>=2.16->tensorflow-intel==2.16.1->tensorflow) (3.5.1)\n",
      "Requirement already satisfied: tensorboard-data-server<0.8.0,>=0.7.0 in c:\\users\\lakme\\anaconda3\\lib\\site-packages (from tensorboard<2.17,>=2.16->tensorflow-intel==2.16.1->tensorflow) (0.7.2)\n",
      "Requirement already satisfied: werkzeug>=1.0.1 in c:\\users\\lakme\\anaconda3\\lib\\site-packages (from tensorboard<2.17,>=2.16->tensorflow-intel==2.16.1->tensorflow) (3.0.1)\n",
      "Requirement already satisfied: MarkupSafe>=2.1.1 in c:\\users\\lakme\\anaconda3\\lib\\site-packages (from werkzeug>=1.0.1->tensorboard<2.17,>=2.16->tensorflow-intel==2.16.1->tensorflow) (2.1.3)\n",
      "Requirement already satisfied: markdown-it-py>=2.2.0 in c:\\users\\lakme\\anaconda3\\lib\\site-packages (from rich->keras>=3.0.0->tensorflow-intel==2.16.1->tensorflow) (3.0.0)\n",
      "Requirement already satisfied: pygments<3.0.0,>=2.13.0 in c:\\users\\lakme\\anaconda3\\lib\\site-packages (from rich->keras>=3.0.0->tensorflow-intel==2.16.1->tensorflow) (2.17.2)\n",
      "Requirement already satisfied: mdurl~=0.1 in c:\\users\\lakme\\anaconda3\\lib\\site-packages (from markdown-it-py>=2.2.0->rich->keras>=3.0.0->tensorflow-intel==2.16.1->tensorflow) (0.1.0)\n",
      "Note: you may need to restart the kernel to use updated packages.\n",
      "Requirement already satisfied: scikeras in c:\\users\\lakme\\anaconda3\\lib\\site-packages (0.13.0)\n",
      "Requirement already satisfied: keras>=3.2.0 in c:\\users\\lakme\\anaconda3\\lib\\site-packages (from scikeras) (3.2.0)\n",
      "Requirement already satisfied: scikit-learn>=1.4.2 in c:\\users\\lakme\\anaconda3\\lib\\site-packages (from scikeras) (1.4.2)\n",
      "Requirement already satisfied: absl-py in c:\\users\\lakme\\anaconda3\\lib\\site-packages (from keras>=3.2.0->scikeras) (2.1.0)\n",
      "Requirement already satisfied: numpy in c:\\users\\lakme\\anaconda3\\lib\\site-packages (from keras>=3.2.0->scikeras) (1.26.2)\n",
      "Requirement already satisfied: rich in c:\\users\\lakme\\anaconda3\\lib\\site-packages (from keras>=3.2.0->scikeras) (13.7.0)\n",
      "Requirement already satisfied: namex in c:\\users\\lakme\\anaconda3\\lib\\site-packages (from keras>=3.2.0->scikeras) (0.0.7)\n",
      "Requirement already satisfied: h5py in c:\\users\\lakme\\anaconda3\\lib\\site-packages (from keras>=3.2.0->scikeras) (3.10.0)\n",
      "Requirement already satisfied: optree in c:\\users\\lakme\\anaconda3\\lib\\site-packages (from keras>=3.2.0->scikeras) (0.11.0)\n",
      "Requirement already satisfied: ml-dtypes in c:\\users\\lakme\\anaconda3\\lib\\site-packages (from keras>=3.2.0->scikeras) (0.3.2)\n",
      "Requirement already satisfied: scipy>=1.6.0 in c:\\users\\lakme\\anaconda3\\lib\\site-packages (from scikit-learn>=1.4.2->scikeras) (1.11.4)\n",
      "Requirement already satisfied: joblib>=1.2.0 in c:\\users\\lakme\\anaconda3\\lib\\site-packages (from scikit-learn>=1.4.2->scikeras) (1.3.2)\n",
      "Requirement already satisfied: threadpoolctl>=2.0.0 in c:\\users\\lakme\\anaconda3\\lib\\site-packages (from scikit-learn>=1.4.2->scikeras) (3.2.0)\n",
      "Requirement already satisfied: typing-extensions>=4.0.0 in c:\\users\\lakme\\anaconda3\\lib\\site-packages (from optree->keras>=3.2.0->scikeras) (4.8.0)\n",
      "Requirement already satisfied: markdown-it-py>=2.2.0 in c:\\users\\lakme\\anaconda3\\lib\\site-packages (from rich->keras>=3.2.0->scikeras) (3.0.0)\n",
      "Requirement already satisfied: pygments<3.0.0,>=2.13.0 in c:\\users\\lakme\\anaconda3\\lib\\site-packages (from rich->keras>=3.2.0->scikeras) (2.17.2)\n",
      "Requirement already satisfied: mdurl~=0.1 in c:\\users\\lakme\\anaconda3\\lib\\site-packages (from markdown-it-py>=2.2.0->rich->keras>=3.2.0->scikeras) (0.1.0)\n",
      "Note: you may need to restart the kernel to use updated packages.\n",
      "Requirement already satisfied: scikit-learn in c:\\users\\lakme\\anaconda3\\lib\\site-packages (1.4.2)\n",
      "Requirement already satisfied: scikeras in c:\\users\\lakme\\anaconda3\\lib\\site-packages (0.13.0)\n",
      "Requirement already satisfied: numpy>=1.19.5 in c:\\users\\lakme\\anaconda3\\lib\\site-packages (from scikit-learn) (1.26.2)\n",
      "Requirement already satisfied: scipy>=1.6.0 in c:\\users\\lakme\\anaconda3\\lib\\site-packages (from scikit-learn) (1.11.4)\n",
      "Requirement already satisfied: joblib>=1.2.0 in c:\\users\\lakme\\anaconda3\\lib\\site-packages (from scikit-learn) (1.3.2)\n",
      "Requirement already satisfied: threadpoolctl>=2.0.0 in c:\\users\\lakme\\anaconda3\\lib\\site-packages (from scikit-learn) (3.2.0)\n",
      "Requirement already satisfied: keras>=3.2.0 in c:\\users\\lakme\\anaconda3\\lib\\site-packages (from scikeras) (3.2.0)\n",
      "Requirement already satisfied: absl-py in c:\\users\\lakme\\anaconda3\\lib\\site-packages (from keras>=3.2.0->scikeras) (2.1.0)\n",
      "Requirement already satisfied: rich in c:\\users\\lakme\\anaconda3\\lib\\site-packages (from keras>=3.2.0->scikeras) (13.7.0)\n",
      "Requirement already satisfied: namex in c:\\users\\lakme\\anaconda3\\lib\\site-packages (from keras>=3.2.0->scikeras) (0.0.7)\n",
      "Requirement already satisfied: h5py in c:\\users\\lakme\\anaconda3\\lib\\site-packages (from keras>=3.2.0->scikeras) (3.10.0)\n",
      "Requirement already satisfied: optree in c:\\users\\lakme\\anaconda3\\lib\\site-packages (from keras>=3.2.0->scikeras) (0.11.0)\n",
      "Requirement already satisfied: ml-dtypes in c:\\users\\lakme\\anaconda3\\lib\\site-packages (from keras>=3.2.0->scikeras) (0.3.2)\n",
      "Requirement already satisfied: typing-extensions>=4.0.0 in c:\\users\\lakme\\anaconda3\\lib\\site-packages (from optree->keras>=3.2.0->scikeras) (4.8.0)\n",
      "Requirement already satisfied: markdown-it-py>=2.2.0 in c:\\users\\lakme\\anaconda3\\lib\\site-packages (from rich->keras>=3.2.0->scikeras) (3.0.0)\n",
      "Requirement already satisfied: pygments<3.0.0,>=2.13.0 in c:\\users\\lakme\\anaconda3\\lib\\site-packages (from rich->keras>=3.2.0->scikeras) (2.17.2)\n",
      "Requirement already satisfied: mdurl~=0.1 in c:\\users\\lakme\\anaconda3\\lib\\site-packages (from markdown-it-py>=2.2.0->rich->keras>=3.2.0->scikeras) (0.1.0)\n",
      "Note: you may need to restart the kernel to use updated packages.\n",
      "Note: you may need to restart the kernel to use updated packages.\n"
     ]
    },
    {
     "name": "stderr",
     "output_type": "stream",
     "text": [
      "ERROR: Invalid requirement: '#'\n"
     ]
    },
    {
     "name": "stdout",
     "output_type": "stream",
     "text": [
      "Note: you may need to restart the kernel to use updated packages.\n"
     ]
    },
    {
     "name": "stderr",
     "output_type": "stream",
     "text": [
      "ERROR: Invalid requirement: '#'\n"
     ]
    }
   ],
   "source": [
    "%pip install tensorflow\n",
    "%pip install scikeras\n",
    "%pip install --upgrade scikit-learn scikeras\n",
    "%pip install scikit-learn==0.xx.x  # replace xx.x with the required version\n",
    "%pip install scikeras --upgrade  # ensure scikeras is up to date\n",
    "\n"
   ]
  },
  {
   "cell_type": "code",
   "execution_count": 12,
   "id": "eac9cd5b-6124-4779-8f06-36047863494c",
   "metadata": {},
   "outputs": [],
   "source": [
    "# Importing necessary libraries\n",
    "import seaborn as sns\n",
    "import matplotlib.pyplot as plt\n",
    "import numpy as np\n",
    "import matplotlib\n",
    "matplotlib.use('TkAgg')  \n",
    "import os\n",
    "import pandas as pd\n",
    "\n",
    "from sklearn.model_selection import train_test_split\n",
    "from sklearn.model_selection import StratifiedShuffleSplit\n",
    "from sklearn.preprocessing import StandardScaler\n",
    "from sklearn.preprocessing import MinMaxScaler\n",
    "from sklearn.ensemble import IsolationForest\n",
    "\n",
    "import math\n",
    "from sklearn.preprocessing import MinMaxScaler\n",
    "from tensorflow.keras.models import Sequential\n",
    "from sklearn.metrics import mean_squared_error, mean_absolute_error\n",
    "from tensorflow.keras.layers import LSTM, Dense, Dropout\n",
    "import json\n",
    "from keras.models import Sequential\n",
    "from keras.layers import LSTM, Dense, Dropout\n",
    "\n",
    "from sklearn.ensemble import RandomForestRegressor\n",
    "from statsmodels.tsa.statespace.sarimax import SARIMAX\n",
    "from sklearn.metrics import mean_squared_error\n",
    "from sklearn.ensemble import GradientBoostingRegressor\n",
    "from sklearn.svm import SVR\n",
    "\n",
    "from scikeras.wrappers import KerasRegressor\n",
    "from sklearn.model_selection import GridSearchCV, RandomizedSearchCV\n",
    "from tensorflow.keras.callbacks import EarlyStopping\n",
    "from sklearn.pipeline import Pipeline\n",
    "from tensorflow.keras.optimizers import Adam\n",
    "from scipy.stats import randint as sp_randint\n",
    "from scipy.stats import uniform"
   ]
  },
  {
   "cell_type": "markdown",
   "id": "248c7eb1-a238-4f22-bfa0-6a37d1a57648",
   "metadata": {},
   "source": [
    "# Download the Dataset"
   ]
  },
  {
   "cell_type": "code",
   "execution_count": 13,
   "id": "55929fa7-fc38-47d5-8283-75452b3b79d1",
   "metadata": {},
   "outputs": [],
   "source": [
    "# Loading the CSV file into a DataFrame called 'df'\n",
    "df = pd.read_csv(\"C:/Users/lakme/Downloads/Bitcoin Larger Dataset.csv\")\n",
    "# Loading the same CSV file into another DataFrame called 'Bitcoin'\n",
    "Bitcoin = pd.read_csv(\"C:/Users/lakme/Downloads/Bitcoin Larger Dataset.csv\")"
   ]
  },
  {
   "cell_type": "markdown",
   "id": "f1127aea-2c1a-47e0-ab1a-555867aecdde",
   "metadata": {},
   "source": [
    "Cryptocurrency markets are renowned for their volatility, which presents both opportunities and challenges for investors and traders. Bitcoin, being the first and most well-known cryptocurrency, has seen substantial fluctuations in its price since its inception in 2009. Predicting Bitcoin prices involves analyzing various factors including market trends, investor sentiment, and broader economic indicators. Models for predicting Bitcoin prices often utilize historical price data to capture trends and patterns that may inform future movements. One approach to building a Bitcoin price prediction model is to employ machine learning techniques. These can range from simple linear regression models to more complex deep learning models like Long Short-Term Memory (LSTM) networks, which are particularly well-suited to time series data like stock or cryptocurrency prices. This dataset from Cryptodatadownload provides minute-by-minute trading data for various cryptocurrencies, including opening, high, low, and closing prices, along with trading volume.\n",
    "\n",
    "https://www.cryptodatadownload.com/data/gemini/\n"
   ]
  },
  {
   "cell_type": "markdown",
   "id": "d40a1d75-9f54-41c4-b6d1-b821f13fa240",
   "metadata": {},
   "source": [
    "# Summary Statistics"
   ]
  },
  {
   "cell_type": "code",
   "execution_count": 14,
   "id": "d7ac0c94-6b2e-43a2-87d0-f06a990bcba3",
   "metadata": {},
   "outputs": [
    {
     "data": {
      "text/html": [
       "<div>\n",
       "<style scoped>\n",
       "    .dataframe tbody tr th:only-of-type {\n",
       "        vertical-align: middle;\n",
       "    }\n",
       "\n",
       "    .dataframe tbody tr th {\n",
       "        vertical-align: top;\n",
       "    }\n",
       "\n",
       "    .dataframe thead th {\n",
       "        text-align: right;\n",
       "    }\n",
       "</style>\n",
       "<table border=\"1\" class=\"dataframe\">\n",
       "  <thead>\n",
       "    <tr style=\"text-align: right;\">\n",
       "      <th></th>\n",
       "      <th>unix</th>\n",
       "      <th>date</th>\n",
       "      <th>symbol</th>\n",
       "      <th>open</th>\n",
       "      <th>high</th>\n",
       "      <th>low</th>\n",
       "      <th>close</th>\n",
       "      <th>Volume ANKR</th>\n",
       "      <th>Volume USD</th>\n",
       "    </tr>\n",
       "  </thead>\n",
       "  <tbody>\n",
       "    <tr>\n",
       "      <th>0</th>\n",
       "      <td>1.710000e+12</td>\n",
       "      <td>06-04-2024 23:00</td>\n",
       "      <td>ANKR/USD</td>\n",
       "      <td>0.05952</td>\n",
       "      <td>0.06000</td>\n",
       "      <td>0.05896</td>\n",
       "      <td>0.05896</td>\n",
       "      <td>27119.77964</td>\n",
       "      <td>1598.982207</td>\n",
       "    </tr>\n",
       "    <tr>\n",
       "      <th>1</th>\n",
       "      <td>1.710000e+12</td>\n",
       "      <td>06-04-2024 22:00</td>\n",
       "      <td>ANKR/USD</td>\n",
       "      <td>0.05876</td>\n",
       "      <td>0.05952</td>\n",
       "      <td>0.05876</td>\n",
       "      <td>0.05952</td>\n",
       "      <td>110532.11190</td>\n",
       "      <td>6578.871298</td>\n",
       "    </tr>\n",
       "    <tr>\n",
       "      <th>2</th>\n",
       "      <td>1.710000e+12</td>\n",
       "      <td>06-04-2024 21:00</td>\n",
       "      <td>ANKR/USD</td>\n",
       "      <td>0.05996</td>\n",
       "      <td>0.06060</td>\n",
       "      <td>0.05868</td>\n",
       "      <td>0.05876</td>\n",
       "      <td>49945.15188</td>\n",
       "      <td>2934.777125</td>\n",
       "    </tr>\n",
       "    <tr>\n",
       "      <th>3</th>\n",
       "      <td>1.710000e+12</td>\n",
       "      <td>06-04-2024 20:00</td>\n",
       "      <td>ANKR/USD</td>\n",
       "      <td>0.06089</td>\n",
       "      <td>0.06120</td>\n",
       "      <td>0.05950</td>\n",
       "      <td>0.05996</td>\n",
       "      <td>44108.20466</td>\n",
       "      <td>2644.727951</td>\n",
       "    </tr>\n",
       "    <tr>\n",
       "      <th>4</th>\n",
       "      <td>1.710000e+12</td>\n",
       "      <td>06-04-2024 19:00</td>\n",
       "      <td>ANKR/USD</td>\n",
       "      <td>0.06167</td>\n",
       "      <td>0.06250</td>\n",
       "      <td>0.06089</td>\n",
       "      <td>0.06089</td>\n",
       "      <td>35800.30204</td>\n",
       "      <td>2179.880391</td>\n",
       "    </tr>\n",
       "  </tbody>\n",
       "</table>\n",
       "</div>"
      ],
      "text/plain": [
       "           unix              date    symbol     open     high      low  \\\n",
       "0  1.710000e+12  06-04-2024 23:00  ANKR/USD  0.05952  0.06000  0.05896   \n",
       "1  1.710000e+12  06-04-2024 22:00  ANKR/USD  0.05876  0.05952  0.05876   \n",
       "2  1.710000e+12  06-04-2024 21:00  ANKR/USD  0.05996  0.06060  0.05868   \n",
       "3  1.710000e+12  06-04-2024 20:00  ANKR/USD  0.06089  0.06120  0.05950   \n",
       "4  1.710000e+12  06-04-2024 19:00  ANKR/USD  0.06167  0.06250  0.06089   \n",
       "\n",
       "     close   Volume ANKR   Volume USD  \n",
       "0  0.05896   27119.77964  1598.982207  \n",
       "1  0.05952  110532.11190  6578.871298  \n",
       "2  0.05876   49945.15188  2934.777125  \n",
       "3  0.05996   44108.20466  2644.727951  \n",
       "4  0.06089   35800.30204  2179.880391  "
      ]
     },
     "execution_count": 14,
     "metadata": {},
     "output_type": "execute_result"
    }
   ],
   "source": [
    "# Displaying the first few rows of the Dataframe\n",
    "Bitcoin.head()"
   ]
  },
  {
   "cell_type": "code",
   "execution_count": 15,
   "id": "40aa27fc-560a-42ff-82d9-bfb2f211d9c1",
   "metadata": {},
   "outputs": [
    {
     "name": "stdout",
     "output_type": "stream",
     "text": [
      "<class 'pandas.core.frame.DataFrame'>\n",
      "RangeIndex: 19028 entries, 0 to 19027\n",
      "Data columns (total 9 columns):\n",
      " #   Column       Non-Null Count  Dtype  \n",
      "---  ------       --------------  -----  \n",
      " 0   unix         19028 non-null  float64\n",
      " 1   date         19028 non-null  object \n",
      " 2   symbol       19028 non-null  object \n",
      " 3   open         19028 non-null  float64\n",
      " 4   high         19028 non-null  float64\n",
      " 5   low          19028 non-null  float64\n",
      " 6   close        19028 non-null  float64\n",
      " 7   Volume ANKR  19028 non-null  float64\n",
      " 8   Volume USD   19028 non-null  float64\n",
      "dtypes: float64(7), object(2)\n",
      "memory usage: 1.3+ MB\n"
     ]
    }
   ],
   "source": [
    "# Giving basic information about the dataset\n",
    "Bitcoin.info()"
   ]
  },
  {
   "cell_type": "code",
   "execution_count": 16,
   "id": "5a6be5c2-c91f-4c77-8fcc-c1e8fad7b664",
   "metadata": {},
   "outputs": [
    {
     "name": "stdout",
     "output_type": "stream",
     "text": [
      "Missing Values:\n",
      "unix           0\n",
      "date           0\n",
      "symbol         0\n",
      "open           0\n",
      "high           0\n",
      "low            0\n",
      "close          0\n",
      "Volume ANKR    0\n",
      "Volume USD     0\n",
      "dtype: int64\n"
     ]
    }
   ],
   "source": [
    "# Calculating the number of missing values in each column\n",
    "missing_values = Bitcoin.isnull().sum()\n",
    "print(\"Missing Values:\")\n",
    "print(missing_values)"
   ]
  },
  {
   "cell_type": "code",
   "execution_count": 17,
   "id": "eb0e302c-e8de-48d8-8da3-1d8a7b9417eb",
   "metadata": {},
   "outputs": [
    {
     "name": "stdout",
     "output_type": "stream",
     "text": [
      "Unique Values:\n",
      "unix               8\n",
      "date           19028\n",
      "symbol             1\n",
      "open            4860\n",
      "high            4736\n",
      "low             4704\n",
      "close           4859\n",
      "Volume ANKR    17536\n",
      "Volume USD     17576\n",
      "dtype: int64\n"
     ]
    }
   ],
   "source": [
    "# Calculating the number of unique values in each column of the DataFrame\n",
    "unique_values = Bitcoin.nunique()\n",
    "print(\"Unique Values:\")\n",
    "print(unique_values)"
   ]
  },
  {
   "cell_type": "code",
   "execution_count": 18,
   "id": "39aaf671-38fc-4379-88f0-81e91681556a",
   "metadata": {},
   "outputs": [
    {
     "data": {
      "text/html": [
       "<div>\n",
       "<style scoped>\n",
       "    .dataframe tbody tr th:only-of-type {\n",
       "        vertical-align: middle;\n",
       "    }\n",
       "\n",
       "    .dataframe tbody tr th {\n",
       "        vertical-align: top;\n",
       "    }\n",
       "\n",
       "    .dataframe thead th {\n",
       "        text-align: right;\n",
       "    }\n",
       "</style>\n",
       "<table border=\"1\" class=\"dataframe\">\n",
       "  <thead>\n",
       "    <tr style=\"text-align: right;\">\n",
       "      <th></th>\n",
       "      <th>unix</th>\n",
       "      <th>open</th>\n",
       "      <th>high</th>\n",
       "      <th>low</th>\n",
       "      <th>close</th>\n",
       "      <th>Volume ANKR</th>\n",
       "      <th>Volume USD</th>\n",
       "    </tr>\n",
       "  </thead>\n",
       "  <tbody>\n",
       "    <tr>\n",
       "      <th>count</th>\n",
       "      <td>1.902800e+04</td>\n",
       "      <td>19028.000000</td>\n",
       "      <td>19028.000000</td>\n",
       "      <td>19028.000000</td>\n",
       "      <td>19028.000000</td>\n",
       "      <td>1.902800e+04</td>\n",
       "      <td>19028.000000</td>\n",
       "    </tr>\n",
       "    <tr>\n",
       "      <th>mean</th>\n",
       "      <td>1.678271e+12</td>\n",
       "      <td>0.034107</td>\n",
       "      <td>0.034373</td>\n",
       "      <td>0.033849</td>\n",
       "      <td>0.034105</td>\n",
       "      <td>2.067530e+04</td>\n",
       "      <td>835.351435</td>\n",
       "    </tr>\n",
       "    <tr>\n",
       "      <th>std</th>\n",
       "      <td>1.992063e+10</td>\n",
       "      <td>0.017073</td>\n",
       "      <td>0.017234</td>\n",
       "      <td>0.016922</td>\n",
       "      <td>0.017071</td>\n",
       "      <td>6.946901e+04</td>\n",
       "      <td>2946.621630</td>\n",
       "    </tr>\n",
       "    <tr>\n",
       "      <th>min</th>\n",
       "      <td>1.640000e+12</td>\n",
       "      <td>0.014650</td>\n",
       "      <td>0.014770</td>\n",
       "      <td>0.014000</td>\n",
       "      <td>0.014650</td>\n",
       "      <td>0.000000e+00</td>\n",
       "      <td>0.000000</td>\n",
       "    </tr>\n",
       "    <tr>\n",
       "      <th>25%</th>\n",
       "      <td>1.660000e+12</td>\n",
       "      <td>0.024008</td>\n",
       "      <td>0.024100</td>\n",
       "      <td>0.023910</td>\n",
       "      <td>0.024008</td>\n",
       "      <td>5.733072e+02</td>\n",
       "      <td>15.766961</td>\n",
       "    </tr>\n",
       "    <tr>\n",
       "      <th>50%</th>\n",
       "      <td>1.680000e+12</td>\n",
       "      <td>0.028400</td>\n",
       "      <td>0.028590</td>\n",
       "      <td>0.028225</td>\n",
       "      <td>0.028400</td>\n",
       "      <td>3.708878e+03</td>\n",
       "      <td>111.409796</td>\n",
       "    </tr>\n",
       "    <tr>\n",
       "      <th>75%</th>\n",
       "      <td>1.700000e+12</td>\n",
       "      <td>0.036150</td>\n",
       "      <td>0.036500</td>\n",
       "      <td>0.035800</td>\n",
       "      <td>0.036150</td>\n",
       "      <td>1.373017e+04</td>\n",
       "      <td>492.662859</td>\n",
       "    </tr>\n",
       "    <tr>\n",
       "      <th>max</th>\n",
       "      <td>1.710000e+12</td>\n",
       "      <td>0.101830</td>\n",
       "      <td>0.102680</td>\n",
       "      <td>0.099250</td>\n",
       "      <td>0.101830</td>\n",
       "      <td>2.000370e+06</td>\n",
       "      <td>84869.704380</td>\n",
       "    </tr>\n",
       "  </tbody>\n",
       "</table>\n",
       "</div>"
      ],
      "text/plain": [
       "               unix          open          high           low         close  \\\n",
       "count  1.902800e+04  19028.000000  19028.000000  19028.000000  19028.000000   \n",
       "mean   1.678271e+12      0.034107      0.034373      0.033849      0.034105   \n",
       "std    1.992063e+10      0.017073      0.017234      0.016922      0.017071   \n",
       "min    1.640000e+12      0.014650      0.014770      0.014000      0.014650   \n",
       "25%    1.660000e+12      0.024008      0.024100      0.023910      0.024008   \n",
       "50%    1.680000e+12      0.028400      0.028590      0.028225      0.028400   \n",
       "75%    1.700000e+12      0.036150      0.036500      0.035800      0.036150   \n",
       "max    1.710000e+12      0.101830      0.102680      0.099250      0.101830   \n",
       "\n",
       "        Volume ANKR    Volume USD  \n",
       "count  1.902800e+04  19028.000000  \n",
       "mean   2.067530e+04    835.351435  \n",
       "std    6.946901e+04   2946.621630  \n",
       "min    0.000000e+00      0.000000  \n",
       "25%    5.733072e+02     15.766961  \n",
       "50%    3.708878e+03    111.409796  \n",
       "75%    1.373017e+04    492.662859  \n",
       "max    2.000370e+06  84869.704380  "
      ]
     },
     "execution_count": 18,
     "metadata": {},
     "output_type": "execute_result"
    }
   ],
   "source": [
    "# Generating descriptive statistics that summarize the central tendency, dispersion, and shape of a dataset's distribution.\n",
    "Bitcoin.describe()"
   ]
  },
  {
   "cell_type": "code",
   "execution_count": 20,
   "id": "12425d20-7bdf-4c58-8281-60811568fc3a",
   "metadata": {},
   "outputs": [
    {
     "name": "stdout",
     "output_type": "stream",
     "text": [
      "Data type of 'date': datetime64[ns]\n",
      "Number of rows in dataset: 19028\n",
      "Start Date: 2022-02-04 04:00:00\n",
      "End Date: 2024-04-06 23:00:00\n"
     ]
    }
   ],
   "source": [
    "# Adjusting the format string to include both date and time components\n",
    "df['date'] = pd.to_datetime(df['date'], format='%d-%m-%Y %H:%M')\n",
    "print(\"Data type of 'date':\", df['date'].dtype)\n",
    "print(\"Number of rows in dataset:\", len(df))\n",
    "\n",
    "# Finding the minimum (first) and maximum (last) date to understand the range of Dataset\n",
    "start_date = df['date'].min()\n",
    "end_date = df['date'].max()\n",
    "\n",
    "print(f\"Start Date: {start_date}\")\n",
    "print(f\"End Date: {end_date}\")\n"
   ]
  },
  {
   "cell_type": "code",
   "execution_count": 19,
   "id": "091a2305-d822-40dc-bede-ae03a0938846",
   "metadata": {},
   "outputs": [
    {
     "name": "stdout",
     "output_type": "stream",
     "text": [
      "unix           0\n",
      "date           0\n",
      "symbol         0\n",
      "open           0\n",
      "high           0\n",
      "low            0\n",
      "close          0\n",
      "Volume ANKR    0\n",
      "Volume USD     0\n",
      "dtype: int64\n"
     ]
    },
    {
     "name": "stderr",
     "output_type": "stream",
     "text": [
      "C:\\Users\\lakme\\AppData\\Local\\Temp\\ipykernel_28920\\2861189451.py:6: FutureWarning: DataFrame.fillna with 'method' is deprecated and will raise in a future version. Use obj.ffill() or obj.bfill() instead.\n",
      "  df.fillna(method='ffill', inplace=True)\n"
     ]
    }
   ],
   "source": [
    "# Checking for the number of missing values in each column\n",
    "print(df.isnull().sum())\n",
    "df.dropna(inplace=True)\n",
    "\n",
    "# Or fill missing values with the previous value in the column (useful for time series)\n",
    "df.fillna(method='ffill', inplace=True)"
   ]
  },
  {
   "cell_type": "code",
   "execution_count": 21,
   "id": "ad5e8a9b-a369-4c20-ad09-605bca4187b7",
   "metadata": {},
   "outputs": [
    {
     "name": "stdout",
     "output_type": "stream",
     "text": [
      "               unix                date    symbol     open     high      low  \\\n",
      "19023  1.640000e+12 2022-02-04 08:00:00  ANKR/USD  0.07821  0.07893  0.07821   \n",
      "19024  1.640000e+12 2022-02-04 07:00:00  ANKR/USD  0.07900  0.07907  0.07814   \n",
      "19025  1.640000e+12 2022-02-04 06:00:00  ANKR/USD  0.07948  0.07971  0.07883   \n",
      "19026  1.640000e+12 2022-02-04 05:00:00  ANKR/USD  0.07941  0.07989  0.07903   \n",
      "19027  1.640000e+12 2022-02-04 04:00:00  ANKR/USD  0.07843  0.07979  0.07843   \n",
      "\n",
      "         close   Volume ANKR   Volume USD     MA_30  DayOfWeek  \n",
      "19023  0.07841   4652.595363   364.810002  0.082422          4  \n",
      "19024  0.07821   1066.650674    83.422749  0.082097          4  \n",
      "19025  0.07900  11687.923880   923.345987  0.081808          4  \n",
      "19026  0.07948  36357.684290  2889.708747  0.081584          4  \n",
      "19027  0.07941    787.104250    62.503948  0.081368          4  \n"
     ]
    }
   ],
   "source": [
    "# Feature Engineering\n",
    "\n",
    "# Adding a moving average column using the column name for price\n",
    "df['MA_30'] = df['close'].rolling(window=30).mean()\n",
    "\n",
    "# 'Date' column is converted to DateTime format for day of the week calculation\n",
    "df['DayOfWeek'] = df['date'].dt.dayofweek\n",
    "print(df.tail())\n"
   ]
  },
  {
   "cell_type": "markdown",
   "id": "b1e937ba-55b2-4f5a-97b4-cb5da492c4ad",
   "metadata": {},
   "source": [
    "During the exploratory data analysis (EDA) phase of the project, several new features will be engineered to enhance the original dataset, which primarily consisted of basic trading metrics such as open, high, low, close prices, and trading volume. The additional features include MA_30, a 30-day moving average that helps identify long-term price trends by smoothing out short-term fluctuations; DayOfWeek, which analyzes trading patterns across different days of the week; Price_Change, measuring daily price movements; Daily_Return, providing insights into the day-to-day profitability of investments; and Month, to detect seasonal variations in trading activity.   "
   ]
  },
  {
   "cell_type": "markdown",
   "id": "bc8dd1e1-c4ac-48dd-bb58-0744e1868fc3",
   "metadata": {},
   "source": [
    "# EDA"
   ]
  },
  {
   "cell_type": "code",
   "execution_count": 22,
   "id": "dec83ea9-2872-4662-a7f7-c9ad34a3471f",
   "metadata": {},
   "outputs": [
    {
     "name": "stdout",
     "output_type": "stream",
     "text": [
      "Directory exists: True\n"
     ]
    }
   ],
   "source": [
    "# To save the images to the notebook\n",
    "# Defining the directory\n",
    "directory = \"Predictive Analytics\"\n",
    "\n",
    "# Checking if the directory exists\n",
    "if not os.path.exists(directory):\n",
    "    os.makedirs(directory)\n",
    "\n",
    "# confirming\n",
    "print(\"Directory exists:\", os.path.exists(directory))"
   ]
  },
  {
   "cell_type": "code",
   "execution_count": 23,
   "id": "68ad8a86-3cc7-45d7-934a-972457104e67",
   "metadata": {},
   "outputs": [
    {
     "data": {
      "image/png": "[encoded data removed]",
      "text/plain": [
       "<IPython.core.display.Image object>"
      ]
     },
     "metadata": {},
     "output_type": "display_data"
    }
   ],
   "source": [
    "# Trend Analysis of Closing Prices\n",
    "\n",
    "df['close'].plot(figsize=(10, 5), title='Bitcoin Closing Prices Over Time')\n",
    "plt.xlabel('Date')\n",
    "plt.ylabel('Price')\n",
    "plt.savefig('Predictive Analytics/EDA1.png')  \n",
    "\n",
    "from IPython.display import Image, display\n",
    "display(Image(filename='EDA1.png'))\n"
   ]
  },
  {
   "cell_type": "code",
   "execution_count": 24,
   "id": "e1663414-3126-4660-a095-7d786a0730aa",
   "metadata": {},
   "outputs": [],
   "source": [
    "# This graph plots the closing prices of Bitcoin over a specific time period. \n",
    "# It is crucial for understanding the overall trend of Bitcoin's market value and spotting any long-term patterns or cycles in price movement. \n",
    "# The x-axis appears to represent time, while the y-axis represents the normalized closing price. \n",
    "# The peaks and troughs could indicate market volatility or stability.\n"
   ]
  },
  {
   "cell_type": "code",
   "execution_count": 25,
   "id": "b441ab0d-ef3e-42d6-aa98-7c67c95feffb",
   "metadata": {},
   "outputs": [
    {
     "data": {
      "image/jpeg": "[encoded data removed]",
      "text/plain": [
       "<IPython.core.display.Image object>"
      ]
     },
     "metadata": {},
     "output_type": "display_data"
    }
   ],
   "source": [
    "# Volume Analysis\n",
    "\n",
    "df.plot(x='date', y=['Volume USD', 'Volume ANKR'], figsize=(10, 5), title='Bitcoin Trading Volume Over Time')\n",
    "plt.xlabel('Date')\n",
    "plt.ylabel('Volume')\n",
    "plt.savefig('EDA2.jpg')  \n",
    "\n",
    "from IPython.display import Image, display\n",
    "display(Image(filename='EDA2.jpg'))\n",
    "\n"
   ]
  },
  {
   "cell_type": "code",
   "execution_count": 26,
   "id": "391dd5d8-1d5d-4a42-8a51-86ef8d5fc179",
   "metadata": {},
   "outputs": [],
   "source": [
    "# This graph displays the trading volume of Bitcoin, in 2 different currencies.\n",
    "# High volumes can signal high investor interest and correlate with major price movements, indicating periods of market entry or exit. \n",
    "# It is especially useful to compare these spikes in volume with corresponding price changes \n",
    "# to infer investor behavior during different market conditions."
   ]
  },
  {
   "cell_type": "code",
   "execution_count": 27,
   "id": "5cc70c61-9d60-4a6d-b7da-ff875ea15954",
   "metadata": {},
   "outputs": [
    {
     "data": {
      "image/png": "[encoded data removed]",
      "text/plain": [
       "<IPython.core.display.Image object>"
      ]
     },
     "metadata": {},
     "output_type": "display_data"
    }
   ],
   "source": [
    "# Moving Average Analysis\n",
    "\n",
    "df.plot(x='date', y=['close', 'MA_30'], figsize=(10, 5), title='Closing Price vs. 30-Day Moving Average')\n",
    "plt.savefig('EDA3.png')  \n",
    "\n",
    "from IPython.display import Image, display\n",
    "display(Image(filename='EDA3.png'))\n",
    "\n"
   ]
  },
  {
   "cell_type": "code",
   "execution_count": 28,
   "id": "05d97f4d-f5a5-4677-869f-1bdcf15181cd",
   "metadata": {},
   "outputs": [],
   "source": [
    "# This graph compares the daily closing price of Bitcoin to its 30-day moving average. \n",
    "# The moving average smooths out short-term fluctuations and helps to identify the direction of the longer-term trend. \n",
    "# When the closing price consistently lies above the moving average, it can be interpreted as a bullish market, \n",
    "# and conversely, if it is below, it might suggest a bearish market. \n",
    "# This is instrumental in trend analysis and could be used to inform the development of trading strategies."
   ]
  },
  {
   "cell_type": "code",
   "execution_count": 29,
   "id": "a931655e-c9b8-4cca-b262-14e33721538e",
   "metadata": {},
   "outputs": [
    {
     "name": "stdout",
     "output_type": "stream",
     "text": [
      "     close  Price_Change\n",
      "0  0.05896           NaN\n",
      "1  0.05952       0.00056\n",
      "2  0.05876      -0.00076\n",
      "3  0.05996       0.00120\n",
      "4  0.06089       0.00093\n"
     ]
    },
    {
     "data": {
      "image/png": "[encoded data removed]",
      "text/plain": [
       "<IPython.core.display.Image object>"
      ]
     },
     "metadata": {},
     "output_type": "display_data"
    }
   ],
   "source": [
    "# Distribution of Daily Price Changes\n",
    "\n",
    "# Calculate the daily price change\n",
    "df['Price_Change'] = df['close'].diff()\n",
    "print(df[['close', 'Price_Change']].head())\n",
    "plt.figure(figsize=(10, 6))\n",
    "sns.histplot(df['Price_Change'], bins=50, kde=True, color=\"skyblue\", alpha=0.6, linewidth=0)\n",
    "\n",
    "# Adding mean and median lines to the plot\n",
    "mean_change = df['Price_Change'].mean()\n",
    "median_change = df['Price_Change'].median()\n",
    "plt.axvline(mean_change, color='r', linestyle='--', label=f'Mean: {mean_change:.2f}')\n",
    "plt.axvline(median_change, color='g', linestyle='-', label=f'Median: {median_change:.2f}')\n",
    "plt.legend()\n",
    "\n",
    "plt.title('Distribution of Daily Price Changes')\n",
    "plt.xlabel('Daily Price Change')\n",
    "plt.ylabel('Frequency')\n",
    "plt.tight_layout()\n",
    "plt.savefig('EDA4.png')  \n",
    "\n",
    "from IPython.display import Image, display\n",
    "display(Image(filename='EDA4.png'))"
   ]
  },
  {
   "cell_type": "code",
   "execution_count": 30,
   "id": "b210cc25-a513-4145-af9a-d2139f26157a",
   "metadata": {},
   "outputs": [],
   "source": [
    "# This histogram illustrates the distribution of daily price changes for Bitcoin. \n",
    "# The shape of the distribution, which appears quite narrow and centered around zero,\n",
    "# suggests that most daily price changes are relatively small, indicating stability on many days. \n",
    "# The tails of the distribution imply that significant price swings are not uncommon. \n",
    "# Understanding the frequency and magnitude of price changes is crucial for risk assessment and for setting thresholds in automated trading systems."
   ]
  },
  {
   "cell_type": "code",
   "execution_count": 31,
   "id": "5020ef73-d9eb-4d24-868c-8cb8642f6707",
   "metadata": {},
   "outputs": [
    {
     "data": {
      "image/png": "[encoded data removed]",
      "text/plain": [
       "<IPython.core.display.Image object>"
      ]
     },
     "metadata": {},
     "output_type": "display_data"
    }
   ],
   "source": [
    "# Correlation Matrix\n",
    "\n",
    "columns_of_interest = ['open', 'high', 'low', 'close', 'Volume ANKR', 'Volume USD', 'MA_30', 'DayOfWeek']\n",
    "\n",
    "# Ensuring format\n",
    "df['DayOfWeek'] = pd.to_numeric(df['DayOfWeek'], errors='coerce')\n",
    "df['MA_30'] = pd.to_numeric(df['MA_30'], errors='coerce')\n",
    "df['Volume ANKR'] = pd.to_numeric(df['Volume ANKR'], errors='coerce')\n",
    "df['Volume USD'] = pd.to_numeric(df['Volume USD'], errors='coerce')\n",
    "\n",
    "\n",
    "df_selected = df[columns_of_interest]\n",
    "correlation_matrix = df_selected.corr()\n",
    "plt.figure(figsize=(10, 8))\n",
    "sns.heatmap(correlation_matrix, annot=True, cmap='coolwarm')\n",
    "plt.title('Correlation Matrix for Selected Features')\n",
    "plt.savefig('EDA5.png') \n",
    "\n",
    "from IPython.display import Image, display\n",
    "display(Image(filename='EDA5.png'))"
   ]
  },
  {
   "cell_type": "code",
   "execution_count": 32,
   "id": "8039dab3-32fe-4f8e-8502-4ac36f3b91a4",
   "metadata": {},
   "outputs": [],
   "source": [
    "# This heatmap represents the correlation between different variables, such as open, high, low, close prices, \n",
    "# and trading volumes in different currencies or from different sources.\n",
    "# Values close to 1 or -1 indicate strong positive or negative correlations, respectively, \n",
    "# while values close to 0 indicate a lack of linear relationship.\n",
    "# Such visualizations are essential for identifying multicollinearity between features, which could affect model performance, \n",
    "# and for selecting features that provide unique information for predictive modeling."
   ]
  },
  {
   "cell_type": "code",
   "execution_count": 33,
   "id": "d71d42be-8ff0-4ed2-9638-ee29f3c9d478",
   "metadata": {},
   "outputs": [
    {
     "data": {
      "image/png": "[encoded data removed]",
      "text/plain": [
       "<IPython.core.display.Image object>"
      ]
     },
     "metadata": {},
     "output_type": "display_data"
    }
   ],
   "source": [
    "# Daily Returns Analysis\n",
    "\n",
    "# Calculating daily returns\n",
    "df['Daily_Return'] = df['close'].pct_change()\n",
    "plt.figure(figsize=(10, 5))\n",
    "plt.plot(df['Daily_Return'], label='Daily Returns', color='blue', alpha=0.5)\n",
    "\n",
    "# Highlighting the mean line\n",
    "mean_return = df['Daily_Return'].mean()\n",
    "plt.axhline(mean_return, color='green', linestyle='--', label='Mean')\n",
    "\n",
    "# Highlighting 1 standard deviation above and below the mean\n",
    "std_dev = df['Daily_Return'].std()\n",
    "plt.axhline(mean_return + std_dev, color='red', linestyle='--', label='Mean ± Std. Dev.', alpha=0.7)\n",
    "plt.axhline(mean_return - std_dev, color='red', linestyle='--', alpha=0.7)\n",
    "\n",
    "# Shading regions between 1 standard deviation\n",
    "plt.fill_between(df.index, mean_return + std_dev, mean_return - std_dev, color='red', alpha=0.1)\n",
    "plt.title('Daily Returns with Mean and Standard Deviation')\n",
    "plt.xlabel('Date')\n",
    "plt.ylabel('Daily Return')\n",
    "plt.legend()\n",
    "plt.tight_layout()\n",
    "plt.savefig('EDA7.png') \n",
    "\n",
    "from IPython.display import Image, display\n",
    "display(Image(filename='EDA7.png'))\n",
    "\n"
   ]
  },
  {
   "cell_type": "code",
   "execution_count": 34,
   "id": "7bfbf873-cb73-4287-aafd-030b2918a49b",
   "metadata": {},
   "outputs": [],
   "source": [
    "# This plot shows Bitcoin's daily returns, overlaid with lines representing the mean and mean ± standard deviation. \n",
    "# The returns are normalized to show relative gains or losses each day. \n",
    "# The mean line provides a baseline to assess typical performance, while the standard deviation bands \n",
    "# give a sense of volatility; returns that frequently exceed these bands could indicate a highly volatile market. \n",
    "# This visualization is important for evaluating the risk and return profile of Bitcoin \n",
    "# and for developing strategies that might, involve buying or selling based on deviations from the mean."
   ]
  },
  {
   "cell_type": "code",
   "execution_count": 35,
   "id": "1af92eeb-908b-4f0f-9872-695405ac34c3",
   "metadata": {},
   "outputs": [
    {
     "data": {
      "image/png": "[encoded data removed]",
      "text/plain": [
       "<IPython.core.display.Image object>"
      ]
     },
     "metadata": {},
     "output_type": "display_data"
    }
   ],
   "source": [
    "# Distribution of Closing Prices with Mean and Median\n",
    "\n",
    "# Plotting the histogram\n",
    "sns.set(style=\"whitegrid\")\n",
    "plt.figure(figsize=(10, 6))\n",
    "sns.histplot(df['close'], bins=50, kde=True, color=\"skyblue\", alpha=0.6, linewidth=0)\n",
    "\n",
    "# Calculating mean and median\n",
    "mean_value = df['close'].mean()\n",
    "median_value = df['close'].median()\n",
    "plt.axvline(mean_value, color='r', linestyle='--')\n",
    "plt.axvline(median_value, color='g', linestyle='-')\n",
    "plt.text(mean_value, plt.gca().get_ylim()[1]*0.9, f'Mean: {mean_value:.2f}', color = 'r')\n",
    "plt.text(median_value, plt.gca().get_ylim()[1]*0.8, f'Median: {median_value:.2f}', color = 'g')\n",
    "\n",
    "# Labeling\n",
    "plt.title('Distribution of Closing Prices with Mean and Median')\n",
    "plt.xlabel('Closing Price')\n",
    "plt.ylabel('Frequency')\n",
    "plt.tight_layout()\n",
    "plt.savefig('EDA8.png')  \n",
    "\n",
    "from IPython.display import Image, display\n",
    "display(Image(filename='EDA8.png'))\n"
   ]
  },
  {
   "cell_type": "code",
   "execution_count": 36,
   "id": "22556924-1492-4bb6-a464-7bc2e4e083c2",
   "metadata": {},
   "outputs": [],
   "source": [
    "# This histogram visualizes the distribution of Bitcoin closing prices, with lines indicating the mean and median prices.\n",
    "# The presence of both mean and median provides a sense of central tendency and distribution symmetry. \n",
    "# If the mean and median are close together, it suggests a symmetrical distribution; if they diverge, it suggests skewness.\n",
    "# This is important for understanding the typical price level and whether any skew could affect prediction models, \n",
    "# which assumes a normal distribution of prices."
   ]
  },
  {
   "cell_type": "markdown",
   "id": "dfc5e1de-2c15-4b34-a25c-e83ff1622094",
   "metadata": {},
   "source": [
    "# Create a Test set"
   ]
  },
  {
   "cell_type": "code",
   "execution_count": 37,
   "id": "1cbfd45f-0940-496a-9c02-18b9369eb740",
   "metadata": {},
   "outputs": [],
   "source": [
    "# Shuffle Split"
   ]
  },
  {
   "cell_type": "code",
   "execution_count": 38,
   "id": "6a02c5d3-5531-4a67-82f2-e43b609be80c",
   "metadata": {},
   "outputs": [
    {
     "name": "stdout",
     "output_type": "stream",
     "text": [
      "Training set size: 15223\n",
      "Test set size: 3805\n"
     ]
    }
   ],
   "source": [
    "# Correctly converting 'Date' to datetime and then to integer for model compatibility\n",
    "if 'Date' in df.columns:\n",
    "    df['Date'] = pd.to_datetime(df['Date'], dayfirst=True)  \n",
    "    reference_date = pd.Timestamp('1970-01-01')\n",
    "    df['Date_Int'] = (df['Date'] - reference_date).dt.days\n",
    "\n",
    "# Define the function to shuffle and split the data\n",
    "def shuffle_and_split_data(data, test_ratio):\n",
    "    np.random.seed(42)  \n",
    "    shuffled_indices = np.random.permutation(len(data))\n",
    "    test_set_size = int(len(data) * test_ratio)\n",
    "    test_indices = shuffled_indices[:test_set_size]\n",
    "    train_indices = shuffled_indices[test_set_size:]\n",
    "    return data.iloc[train_indices], data.iloc[test_indices]\n",
    "\n",
    "# Creating a training set and a test set\n",
    "train_set, test_set = shuffle_and_split_data(df, 0.2)\n",
    "\n",
    "# Verify the split\n",
    "print(f\"Training set size: {len(train_set)}\")\n",
    "print(f\"Test set size: {len(test_set)}\")\n"
   ]
  },
  {
   "cell_type": "code",
   "execution_count": 39,
   "id": "14c9729d-e23c-4781-a641-ebbca6a38abd",
   "metadata": {},
   "outputs": [
    {
     "name": "stdout",
     "output_type": "stream",
     "text": [
      "15222\n",
      "3806\n"
     ]
    }
   ],
   "source": [
    "train_set, test_set = train_test_split(df, test_size=0.2, random_state=42)\n",
    "print(len(train_set))\n",
    "print(len(test_set))\n"
   ]
  },
  {
   "cell_type": "code",
   "execution_count": 40,
   "id": "c5492ff6-1e12-4fe4-9a2b-e4ea5fd909f8",
   "metadata": {},
   "outputs": [],
   "source": [
    "# Stratified Shuffle split"
   ]
  },
  {
   "cell_type": "code",
   "execution_count": 41,
   "id": "63abf6f4-109a-49f2-968e-ae79cc8795e0",
   "metadata": {},
   "outputs": [],
   "source": [
    "# Fixing dataset to perform stratified shuffle split using months to adjust for temporal factors"
   ]
  },
  {
   "cell_type": "code",
   "execution_count": 42,
   "id": "a6f72a2b-8f8c-410f-84e2-043bcfd218cc",
   "metadata": {},
   "outputs": [
    {
     "name": "stdout",
     "output_type": "stream",
     "text": [
      "           unix            DateTime\n",
      "0  1.710000e+12 2024-03-09 16:00:00\n",
      "1  1.710000e+12 2024-03-09 16:00:00\n",
      "2  1.710000e+12 2024-03-09 16:00:00\n",
      "3  1.710000e+12 2024-03-09 16:00:00\n",
      "4  1.710000e+12 2024-03-09 16:00:00\n"
     ]
    }
   ],
   "source": [
    "df['DateTime'] = pd.to_datetime(df['unix'], unit='ms')\n",
    "print(df[['unix', 'DateTime']].head())\n",
    "\n",
    "df['Month'] = df['DateTime'].dt.month"
   ]
  },
  {
   "cell_type": "code",
   "execution_count": 43,
   "id": "08661cf2-17cb-425a-adb9-24ac0311e348",
   "metadata": {},
   "outputs": [],
   "source": [
    "split = StratifiedShuffleSplit(n_splits=1, test_size=0.2, random_state=42)\n",
    "\n",
    "# Performing the split using the 'Month' column for stratification\n",
    "for train_index, test_index in split.split(df, df['Month']):\n",
    "    strat_train_set = df.iloc[train_index]\n",
    "    strat_test_set = df.iloc[test_index]\n"
   ]
  },
  {
   "cell_type": "code",
   "execution_count": 44,
   "id": "ceeb87d7-1ec8-4c32-808f-aaf9443c0b22",
   "metadata": {},
   "outputs": [
    {
     "name": "stdout",
     "output_type": "stream",
     "text": [
      "Original Distribution of Months:\n",
      " Month\n",
      "3     0.254782\n",
      "4     0.145943\n",
      "7     0.145943\n",
      "8     0.145995\n",
      "11    0.145995\n",
      "12    0.161341\n",
      "Name: proportion, dtype: float64\n"
     ]
    }
   ],
   "source": [
    "# Checking the Distribution in the Original Dataset\n",
    "month_distribution_original = df['Month'].value_counts(normalize=True).sort_index()\n",
    "print(\"Original Distribution of Months:\\n\", month_distribution_original)\n"
   ]
  },
  {
   "cell_type": "code",
   "execution_count": 45,
   "id": "77f49ecc-1165-4665-b1cf-5192a09fe325",
   "metadata": {},
   "outputs": [
    {
     "name": "stdout",
     "output_type": "stream",
     "text": [
      "\n",
      "Training Set Distribution of Months:\n",
      " Month\n",
      "3     0.254763\n",
      "4     0.145973\n",
      "7     0.145973\n",
      "8     0.145973\n",
      "11    0.145973\n",
      "12    0.161345\n",
      "Name: proportion, dtype: float64\n"
     ]
    }
   ],
   "source": [
    "# Checking the Distribution in the Training Set\n",
    "month_distribution_train = strat_train_set['Month'].value_counts(normalize=True).sort_index()\n",
    "print(\"\\nTraining Set Distribution of Months:\\n\", month_distribution_train)\n"
   ]
  },
  {
   "cell_type": "code",
   "execution_count": 46,
   "id": "8c122d61-19de-4b33-9776-33acca6f2ec1",
   "metadata": {},
   "outputs": [
    {
     "name": "stdout",
     "output_type": "stream",
     "text": [
      "\n",
      "Test Set Distribution of Months:\n",
      " Month\n",
      "3     0.254861\n",
      "4     0.145822\n",
      "7     0.145822\n",
      "8     0.146085\n",
      "11    0.146085\n",
      "12    0.161324\n",
      "Name: proportion, dtype: float64\n"
     ]
    }
   ],
   "source": [
    "# Checking the Distribution in the Test Set\n",
    "month_distribution_test = strat_test_set['Month'].value_counts(normalize=True).sort_index()\n",
    "print(\"\\nTest Set Distribution of Months:\\n\", month_distribution_test)\n"
   ]
  },
  {
   "cell_type": "code",
   "execution_count": 47,
   "id": "7da36948-c2b7-4645-95bb-afb8b5bc7a4c",
   "metadata": {},
   "outputs": [
    {
     "name": "stdout",
     "output_type": "stream",
     "text": [
      "Training Set Shape: (15222, 15)\n",
      "Test Set Shape: (3806, 15)\n"
     ]
    }
   ],
   "source": [
    "# Printing the shape of the training set\n",
    "print(\"Training Set Shape:\", strat_train_set.shape)\n",
    "\n",
    "# Printing the shape of the test set\n",
    "print(\"Test Set Shape:\", strat_test_set.shape)\n"
   ]
  },
  {
   "cell_type": "code",
   "execution_count": 48,
   "id": "ce875b2c-2013-415a-bcd1-a5b169320995",
   "metadata": {},
   "outputs": [
    {
     "data": {
      "image/png": "[encoded data removed]",
      "text/plain": [
       "<IPython.core.display.Image object>"
      ]
     },
     "metadata": {},
     "output_type": "display_data"
    }
   ],
   "source": [
    "# Visualizing the stratified shuffle split to ensure proportions and split across months\n",
    "\n",
    "plt.figure(figsize=(12, 6))\n",
    "plt.plot(month_distribution_original.index, month_distribution_original.values, label='Original', marker='o')\n",
    "plt.plot(month_distribution_train.index, month_distribution_train.values, label='Training', marker='x')\n",
    "plt.plot(month_distribution_test.index, month_distribution_test.values, label='Test', marker='^')\n",
    "plt.title('Comparison of Month Distribution Across Original, Training, and Test Sets')\n",
    "plt.xlabel('Month')\n",
    "plt.ylabel('Proportion')\n",
    "plt.xticks(month_distribution_original.index)\n",
    "plt.legend()\n",
    "plt.grid(True)\n",
    "plt.savefig('Test 1.png') \n",
    "\n",
    "\n",
    "from IPython.display import Image, display\n",
    "display(Image(filename='Test 1.png'))\n"
   ]
  },
  {
   "cell_type": "markdown",
   "id": "a02e9396-bbb9-4d9f-a6bc-10f1219965b6",
   "metadata": {},
   "source": [
    "The exact overlap of the trend lines in the stratification process indicates a successful and even division of the dataset based on the 'Month' distribution, preserving the proportion of data points for each month in both the training and test sets. This maintenance of seasonality and trends ensures that time-related patterns are consistently represented across the splits, which is essential for time series data aimed at predicting future values from past observations.  "
   ]
  },
  {
   "cell_type": "markdown",
   "id": "23efd18c-6d0b-4116-8131-e60e0c19b976",
   "metadata": {},
   "source": [
    "# Prepare the Data for Machine Learning Algorithms"
   ]
  },
  {
   "cell_type": "code",
   "execution_count": 49,
   "id": "4b14a2db-f206-4950-855c-10eae06aea35",
   "metadata": {},
   "outputs": [],
   "source": [
    "# Data Cleaning"
   ]
  },
  {
   "cell_type": "code",
   "execution_count": 50,
   "id": "448c2288-136f-4f35-abf3-d29e24f463ba",
   "metadata": {},
   "outputs": [],
   "source": [
    "# Converting the 'unix' column to datetime format \n",
    "df['DateTime'] = pd.to_datetime(df['unix'], unit='ms')\n",
    "df.set_index('DateTime', inplace=True)"
   ]
  },
  {
   "cell_type": "code",
   "execution_count": 51,
   "id": "5cb3530a-0f1e-4e78-94b1-0be24e58d865",
   "metadata": {},
   "outputs": [
    {
     "name": "stdout",
     "output_type": "stream",
     "text": [
      "Columns with NaN values: Index(['MA_30', 'Price_Change', 'Daily_Return'], dtype='object')\n"
     ]
    },
    {
     "data": {
      "text/html": [
       "<div>\n",
       "<style scoped>\n",
       "    .dataframe tbody tr th:only-of-type {\n",
       "        vertical-align: middle;\n",
       "    }\n",
       "\n",
       "    .dataframe tbody tr th {\n",
       "        vertical-align: top;\n",
       "    }\n",
       "\n",
       "    .dataframe thead th {\n",
       "        text-align: right;\n",
       "    }\n",
       "</style>\n",
       "<table border=\"1\" class=\"dataframe\">\n",
       "  <thead>\n",
       "    <tr style=\"text-align: right;\">\n",
       "      <th></th>\n",
       "      <th>unix</th>\n",
       "      <th>date</th>\n",
       "      <th>symbol</th>\n",
       "      <th>open</th>\n",
       "      <th>high</th>\n",
       "      <th>low</th>\n",
       "      <th>close</th>\n",
       "      <th>Volume ANKR</th>\n",
       "      <th>Volume USD</th>\n",
       "      <th>MA_30</th>\n",
       "      <th>DayOfWeek</th>\n",
       "      <th>Price_Change</th>\n",
       "      <th>Daily_Return</th>\n",
       "      <th>Month</th>\n",
       "    </tr>\n",
       "    <tr>\n",
       "      <th>DateTime</th>\n",
       "      <th></th>\n",
       "      <th></th>\n",
       "      <th></th>\n",
       "      <th></th>\n",
       "      <th></th>\n",
       "      <th></th>\n",
       "      <th></th>\n",
       "      <th></th>\n",
       "      <th></th>\n",
       "      <th></th>\n",
       "      <th></th>\n",
       "      <th></th>\n",
       "      <th></th>\n",
       "      <th></th>\n",
       "    </tr>\n",
       "  </thead>\n",
       "  <tbody>\n",
       "    <tr>\n",
       "      <th>2024-03-09 16:00:00</th>\n",
       "      <td>1.710000e+12</td>\n",
       "      <td>2024-04-06 23:00:00</td>\n",
       "      <td>ANKR/USD</td>\n",
       "      <td>0.05952</td>\n",
       "      <td>0.06000</td>\n",
       "      <td>0.05896</td>\n",
       "      <td>0.05896</td>\n",
       "      <td>27119.77964</td>\n",
       "      <td>1598.982207</td>\n",
       "      <td>NaN</td>\n",
       "      <td>5</td>\n",
       "      <td>NaN</td>\n",
       "      <td>NaN</td>\n",
       "      <td>3</td>\n",
       "    </tr>\n",
       "    <tr>\n",
       "      <th>2024-03-09 16:00:00</th>\n",
       "      <td>1.710000e+12</td>\n",
       "      <td>2024-04-06 22:00:00</td>\n",
       "      <td>ANKR/USD</td>\n",
       "      <td>0.05876</td>\n",
       "      <td>0.05952</td>\n",
       "      <td>0.05876</td>\n",
       "      <td>0.05952</td>\n",
       "      <td>110532.11190</td>\n",
       "      <td>6578.871298</td>\n",
       "      <td>NaN</td>\n",
       "      <td>5</td>\n",
       "      <td>0.00056</td>\n",
       "      <td>0.009498</td>\n",
       "      <td>3</td>\n",
       "    </tr>\n",
       "    <tr>\n",
       "      <th>2024-03-09 16:00:00</th>\n",
       "      <td>1.710000e+12</td>\n",
       "      <td>2024-04-06 21:00:00</td>\n",
       "      <td>ANKR/USD</td>\n",
       "      <td>0.05996</td>\n",
       "      <td>0.06060</td>\n",
       "      <td>0.05868</td>\n",
       "      <td>0.05876</td>\n",
       "      <td>49945.15188</td>\n",
       "      <td>2934.777125</td>\n",
       "      <td>NaN</td>\n",
       "      <td>5</td>\n",
       "      <td>-0.00076</td>\n",
       "      <td>-0.012769</td>\n",
       "      <td>3</td>\n",
       "    </tr>\n",
       "    <tr>\n",
       "      <th>2024-03-09 16:00:00</th>\n",
       "      <td>1.710000e+12</td>\n",
       "      <td>2024-04-06 20:00:00</td>\n",
       "      <td>ANKR/USD</td>\n",
       "      <td>0.06089</td>\n",
       "      <td>0.06120</td>\n",
       "      <td>0.05950</td>\n",
       "      <td>0.05996</td>\n",
       "      <td>44108.20466</td>\n",
       "      <td>2644.727951</td>\n",
       "      <td>NaN</td>\n",
       "      <td>5</td>\n",
       "      <td>0.00120</td>\n",
       "      <td>0.020422</td>\n",
       "      <td>3</td>\n",
       "    </tr>\n",
       "    <tr>\n",
       "      <th>2024-03-09 16:00:00</th>\n",
       "      <td>1.710000e+12</td>\n",
       "      <td>2024-04-06 19:00:00</td>\n",
       "      <td>ANKR/USD</td>\n",
       "      <td>0.06167</td>\n",
       "      <td>0.06250</td>\n",
       "      <td>0.06089</td>\n",
       "      <td>0.06089</td>\n",
       "      <td>35800.30204</td>\n",
       "      <td>2179.880391</td>\n",
       "      <td>NaN</td>\n",
       "      <td>5</td>\n",
       "      <td>0.00093</td>\n",
       "      <td>0.015510</td>\n",
       "      <td>3</td>\n",
       "    </tr>\n",
       "  </tbody>\n",
       "</table>\n",
       "</div>"
      ],
      "text/plain": [
       "                             unix                date    symbol     open  \\\n",
       "DateTime                                                                   \n",
       "2024-03-09 16:00:00  1.710000e+12 2024-04-06 23:00:00  ANKR/USD  0.05952   \n",
       "2024-03-09 16:00:00  1.710000e+12 2024-04-06 22:00:00  ANKR/USD  0.05876   \n",
       "2024-03-09 16:00:00  1.710000e+12 2024-04-06 21:00:00  ANKR/USD  0.05996   \n",
       "2024-03-09 16:00:00  1.710000e+12 2024-04-06 20:00:00  ANKR/USD  0.06089   \n",
       "2024-03-09 16:00:00  1.710000e+12 2024-04-06 19:00:00  ANKR/USD  0.06167   \n",
       "\n",
       "                        high      low    close   Volume ANKR   Volume USD  \\\n",
       "DateTime                                                                    \n",
       "2024-03-09 16:00:00  0.06000  0.05896  0.05896   27119.77964  1598.982207   \n",
       "2024-03-09 16:00:00  0.05952  0.05876  0.05952  110532.11190  6578.871298   \n",
       "2024-03-09 16:00:00  0.06060  0.05868  0.05876   49945.15188  2934.777125   \n",
       "2024-03-09 16:00:00  0.06120  0.05950  0.05996   44108.20466  2644.727951   \n",
       "2024-03-09 16:00:00  0.06250  0.06089  0.06089   35800.30204  2179.880391   \n",
       "\n",
       "                     MA_30  DayOfWeek  Price_Change  Daily_Return  Month  \n",
       "DateTime                                                                  \n",
       "2024-03-09 16:00:00    NaN          5           NaN           NaN      3  \n",
       "2024-03-09 16:00:00    NaN          5       0.00056      0.009498      3  \n",
       "2024-03-09 16:00:00    NaN          5      -0.00076     -0.012769      3  \n",
       "2024-03-09 16:00:00    NaN          5       0.00120      0.020422      3  \n",
       "2024-03-09 16:00:00    NaN          5       0.00093      0.015510      3  "
      ]
     },
     "execution_count": 51,
     "metadata": {},
     "output_type": "execute_result"
    }
   ],
   "source": [
    "# Identify columns with NaN values\n",
    "null_columns = df.columns[df.isnull().any()]\n",
    "print(\"Columns with NaN values:\", null_columns)\n",
    "\n",
    "# Display rows with NaN values\n",
    "null_rows_idx = df.isnull().any(axis=1)\n",
    "df.loc[null_rows_idx].head()\n"
   ]
  },
  {
   "cell_type": "code",
   "execution_count": 52,
   "id": "0da0cc18-2d3c-4976-b2ba-4a564654fe20",
   "metadata": {},
   "outputs": [],
   "source": [
    "# Fill NaN with the median of the column\n",
    "\n",
    "df_Bitcoin = df.copy()\n",
    "median = df_Bitcoin[\"MA_30\"].median()  \n",
    "df_Bitcoin[\"MA_30\"].fillna(median, inplace=True)  \n"
   ]
  },
  {
   "cell_type": "code",
   "execution_count": 53,
   "id": "14c029c6-38fa-4138-b1eb-950968514a6d",
   "metadata": {},
   "outputs": [
    {
     "name": "stdout",
     "output_type": "stream",
     "text": [
      "Remaining NaNs in 'MA_30': 0\n"
     ]
    }
   ],
   "source": [
    "if df_Bitcoin['MA_30'].isna().all():\n",
    "    print(\"The 'MA_30' column has only NaN values, so the median cannot be calculated.\")\n",
    "else:\n",
    "    median = df_Bitcoin['MA_30'].median()\n",
    "    df_Bitcoin['MA_30'].fillna(median, inplace=True)\n",
    "    remaining_nans = df_Bitcoin['MA_30'].isnull().sum()\n",
    "    print(f\"Remaining NaNs in 'MA_30': {remaining_nans}\")\n"
   ]
  },
  {
   "cell_type": "code",
   "execution_count": 54,
   "id": "fb68b23f-2c82-4d8c-be7b-42c1b328e40b",
   "metadata": {},
   "outputs": [],
   "source": [
    "# Fill NaN with the median of the column\n",
    "\n",
    "df_Bitcoin = df.copy()\n",
    "median = df_Bitcoin[\"Daily_Return\"].median()  \n",
    "df_Bitcoin[\"Daily_Return\"].fillna(median, inplace=True)  "
   ]
  },
  {
   "cell_type": "code",
   "execution_count": 55,
   "id": "744a5e31-3db3-4c51-b639-e9c28a188987",
   "metadata": {},
   "outputs": [
    {
     "name": "stdout",
     "output_type": "stream",
     "text": [
      "Remaining NaNs in 'Daily_Return': 0\n"
     ]
    }
   ],
   "source": [
    "if df_Bitcoin['Daily_Return'].isna().all():\n",
    "    print(\"The 'Daily_Return' column has only NaN values, so the median cannot be calculated.\")\n",
    "else:\n",
    "    median = df_Bitcoin['Daily_Return'].median()\n",
    "    df_Bitcoin['Daily_Return'].fillna(median, inplace=True)\n",
    "    remaining_nans = df_Bitcoin['Daily_Return'].isnull().sum()\n",
    "    print(f\"Remaining NaNs in 'Daily_Return': {remaining_nans}\")"
   ]
  },
  {
   "cell_type": "code",
   "execution_count": 56,
   "id": "bc93ce5b-2950-460a-b9de-06ba80733986",
   "metadata": {},
   "outputs": [],
   "source": [
    "# Fill NaN with the median of the column\n",
    "\n",
    "df_Bitcoin = df.copy()\n",
    "median = df_Bitcoin[\"Price_Change\"].median() \n",
    "df_Bitcoin[\"Price_Change\"].fillna(median, inplace=True)  "
   ]
  },
  {
   "cell_type": "code",
   "execution_count": 57,
   "id": "c4f711c0-244d-4c0f-8431-32d731e8f581",
   "metadata": {},
   "outputs": [
    {
     "name": "stdout",
     "output_type": "stream",
     "text": [
      "Remaining NaNs in 'Price_Change': 0\n"
     ]
    }
   ],
   "source": [
    "if df_Bitcoin['Price_Change'].isna().all():\n",
    "    print(\"The 'Price_Change' column has only NaN values, so the median cannot be calculated.\")\n",
    "else:\n",
    "    median = df_Bitcoin['Price_Change'].median()\n",
    "    df_Bitcoin['Price_Change'].fillna(median, inplace=True)\n",
    "    remaining_nans = df_Bitcoin['Price_Change'].isnull().sum()\n",
    "    print(f\"Remaining NaNs in 'Price_Change': {remaining_nans}\")"
   ]
  },
  {
   "cell_type": "markdown",
   "id": "0cf8bfca-2184-4c69-981d-a5581d02aaa5",
   "metadata": {},
   "source": [
    "The conversion of the 'unix' timestamp to a human-readable datetime format is a crucial step in preparing data for time series analysis. By converting these timestamps using pd.to_datetime(df['unix'], unit='ms'), the data becomes easier to interpret and manipulate. Setting this datetime data as the DataFrame index with df.set_index('DateTime', inplace=True) organizes the dataset in chronological order.  \n",
    "\n",
    "Filling missing values, or NaNs, is another crucial preprocessing step to ensure the integrity of a dataset before analysis or modeling. In this case, NaN values are filled using the median of their respective columns, a method chosen for its robustness against data skewness and outliers. The median provides a central value that is representative of a typical data point, without being overly influenced by extreme values, making it an ideal choice for imputation in many scenarios. MA_30, Daily_Return and Price_Change are the columns that are filled with their column median values. "
   ]
  },
  {
   "cell_type": "code",
   "execution_count": 58,
   "id": "7dd71b01-2721-4057-913c-ddf26270e954",
   "metadata": {},
   "outputs": [],
   "source": [
    "#  Feature Scaling"
   ]
  },
  {
   "cell_type": "code",
   "execution_count": 59,
   "id": "af62722b-bd02-468b-8efd-21c61ca004c7",
   "metadata": {},
   "outputs": [],
   "source": [
    "# Creating a StandardScaler object\n",
    "scaler = StandardScaler()\n",
    "numerical_cols = ['open', 'high', 'low', 'close', 'Volume USD', 'Volume ANKR']\n",
    "df_Bitcoin.loc[:, numerical_cols] = scaler.fit_transform(df_Bitcoin[numerical_cols])\n"
   ]
  },
  {
   "cell_type": "code",
   "execution_count": 60,
   "id": "93aa490e-0a55-4aba-b8a8-46dfd4eb152b",
   "metadata": {},
   "outputs": [],
   "source": [
    "# Creating a MinMax Scaler Object\n",
    "min_max_scaler = MinMaxScaler(feature_range=(-1, 1))\n",
    "numerical_cols = ['open', 'high', 'low', 'close', 'Volume USD', 'Volume ANKR']  \n",
    "df_Bitcoin_scaled = min_max_scaler.fit_transform(df_Bitcoin[numerical_cols])\n",
    "\n",
    "df_Bitcoin.loc[:, numerical_cols] = df_Bitcoin_scaled\n",
    "\n"
   ]
  },
  {
   "cell_type": "code",
   "execution_count": 61,
   "id": "6dc77dfc-fc17-4e03-8a3e-028fb24d58f7",
   "metadata": {},
   "outputs": [
    {
     "name": "stdout",
     "output_type": "stream",
     "text": [
      "(14899, 14)\n"
     ]
    }
   ],
   "source": [
    "# Handling Outliers\n",
    "# Using IsolationForest:\n",
    "\n",
    "numerical_cols = ['open', 'high', 'low', 'close', 'Volume ANKR', 'Volume USD']\n",
    "isolation_forest = IsolationForest(random_state=42)\n",
    "outlier_pred = isolation_forest.fit_predict(df_Bitcoin[numerical_cols])\n",
    "df_Bitcoin_filtered = df_Bitcoin[outlier_pred == 1]\n",
    "\n",
    "# Print the new shape of the DataFrame\n",
    "print(df_Bitcoin_filtered.shape)\n"
   ]
  },
  {
   "cell_type": "markdown",
   "id": "9e9ad8cd-3279-4d12-a037-6f9170fac6e4",
   "metadata": {},
   "source": [
    "Feature scaling is a pivotal aspect of data preprocessing that ensures the model processes each feature equitably, irrespective of their original scale. By implementing StandardScaler, the Bitcoin price data is normalized to have zero mean and unit variance, which is critical for algorithms like linear regression that assume data normality, improving their accuracy and convergence speed. Subsequent application of MinMaxScaler adjusts these values to fall within a range of -1 to 1, which is particularly beneficial for neural network models, as it helps in achieving faster and more stable convergence during training by ensuring that all input features have equal influence on the model's learning process. Additionally, using IsolationForest for outlier detection removes extreme price values that could potentially distort the predictive model’s performance.  "
   ]
  },
  {
   "cell_type": "markdown",
   "id": "dc5e66bf-0536-4025-b0b5-3ed9928f03b1",
   "metadata": {},
   "source": [
    "# Select and Train a Model"
   ]
  },
  {
   "cell_type": "markdown",
   "id": "c00c9979-3849-4c59-a838-130525f9fb72",
   "metadata": {},
   "source": [
    "## LSTM"
   ]
  },
  {
   "cell_type": "code",
   "execution_count": 62,
   "id": "10fe4e27-7b80-42e9-bc25-4fc75eb27939",
   "metadata": {},
   "outputs": [],
   "source": [
    "# Fixing NaN values"
   ]
  },
  {
   "cell_type": "code",
   "execution_count": 63,
   "id": "33a5fd56-0572-4c7a-a38c-8cfaba8c4d6e",
   "metadata": {},
   "outputs": [
    {
     "name": "stdout",
     "output_type": "stream",
     "text": [
      "unix            0\n",
      "date            0\n",
      "symbol          0\n",
      "open            0\n",
      "high            0\n",
      "low             0\n",
      "close           0\n",
      "Volume ANKR     0\n",
      "Volume USD      0\n",
      "MA_30           0\n",
      "DayOfWeek       0\n",
      "Price_Change    0\n",
      "Daily_Return    0\n",
      "Month           0\n",
      "dtype: int64\n"
     ]
    }
   ],
   "source": [
    "median_MA_30 = df['MA_30'].median()\n",
    "median_Price_Change = df['Price_Change'].median()\n",
    "median_Daily_Return = df['Daily_Return'].median()\n",
    "\n",
    "df['MA_30'] = df['MA_30'].fillna(median_MA_30)\n",
    "df['Price_Change'] = df['Price_Change'].fillna(median_Price_Change)\n",
    "df['Daily_Return'] = df['Daily_Return'].fillna(median_Daily_Return)\n",
    "\n",
    "print(df.isnull().sum())\n"
   ]
  },
  {
   "cell_type": "code",
   "execution_count": 64,
   "id": "1a925d05-96c7-42ab-b4c9-0942861cf86a",
   "metadata": {},
   "outputs": [
    {
     "name": "stdout",
     "output_type": "stream",
     "text": [
      "Epoch 1/100\n"
     ]
    },
    {
     "name": "stderr",
     "output_type": "stream",
     "text": [
      "C:\\Users\\lakme\\anaconda3\\Lib\\site-packages\\keras\\src\\layers\\rnn\\rnn.py:204: UserWarning: Do not pass an `input_shape`/`input_dim` argument to a layer. When using Sequential models, prefer using an `Input(shape)` object as the first layer in the model instead.\n",
      "  super().__init__(**kwargs)\n"
     ]
    },
    {
     "name": "stdout",
     "output_type": "stream",
     "text": [
      "\u001b[1m3045/3045\u001b[0m \u001b[32m━━━━━━━━━━━━━━━━━━━━\u001b[0m\u001b[37m\u001b[0m \u001b[1m5s\u001b[0m 1ms/step - loss: 0.0432\n",
      "Epoch 2/100\n",
      "\u001b[1m3045/3045\u001b[0m \u001b[32m━━━━━━━━━━━━━━━━━━━━\u001b[0m\u001b[37m\u001b[0m \u001b[1m4s\u001b[0m 1ms/step - loss: 0.0377\n",
      "Epoch 3/100\n",
      "\u001b[1m3045/3045\u001b[0m \u001b[32m━━━━━━━━━━━━━━━━━━━━\u001b[0m\u001b[37m\u001b[0m \u001b[1m4s\u001b[0m 1ms/step - loss: 0.0391\n",
      "Epoch 4/100\n",
      "\u001b[1m3045/3045\u001b[0m \u001b[32m━━━━━━━━━━━━━━━━━━━━\u001b[0m\u001b[37m\u001b[0m \u001b[1m4s\u001b[0m 1ms/step - loss: 0.0386\n",
      "Epoch 5/100\n",
      "\u001b[1m3045/3045\u001b[0m \u001b[32m━━━━━━━━━━━━━━━━━━━━\u001b[0m\u001b[37m\u001b[0m \u001b[1m4s\u001b[0m 1ms/step - loss: 0.0378\n",
      "Epoch 6/100\n",
      "\u001b[1m3045/3045\u001b[0m \u001b[32m━━━━━━━━━━━━━━━━━━━━\u001b[0m\u001b[37m\u001b[0m \u001b[1m4s\u001b[0m 1ms/step - loss: 0.0383\n",
      "Epoch 7/100\n",
      "\u001b[1m3045/3045\u001b[0m \u001b[32m━━━━━━━━━━━━━━━━━━━━\u001b[0m\u001b[37m\u001b[0m \u001b[1m5s\u001b[0m 2ms/step - loss: 0.0382\n",
      "Epoch 8/100\n",
      "\u001b[1m3045/3045\u001b[0m \u001b[32m━━━━━━━━━━━━━━━━━━━━\u001b[0m\u001b[37m\u001b[0m \u001b[1m4s\u001b[0m 1ms/step - loss: 0.0382\n",
      "Epoch 9/100\n",
      "\u001b[1m3045/3045\u001b[0m \u001b[32m━━━━━━━━━━━━━━━━━━━━\u001b[0m\u001b[37m\u001b[0m \u001b[1m4s\u001b[0m 1ms/step - loss: 0.0385\n",
      "Epoch 10/100\n",
      "\u001b[1m3045/3045\u001b[0m \u001b[32m━━━━━━━━━━━━━━━━━━━━\u001b[0m\u001b[37m\u001b[0m \u001b[1m4s\u001b[0m 1ms/step - loss: 0.0387\n",
      "Epoch 11/100\n",
      "\u001b[1m3045/3045\u001b[0m \u001b[32m━━━━━━━━━━━━━━━━━━━━\u001b[0m\u001b[37m\u001b[0m \u001b[1m5s\u001b[0m 2ms/step - loss: 0.0390\n",
      "Epoch 12/100\n",
      "\u001b[1m3045/3045\u001b[0m \u001b[32m━━━━━━━━━━━━━━━━━━━━\u001b[0m\u001b[37m\u001b[0m \u001b[1m4s\u001b[0m 1ms/step - loss: 0.0397\n",
      "Epoch 13/100\n",
      "\u001b[1m3045/3045\u001b[0m \u001b[32m━━━━━━━━━━━━━━━━━━━━\u001b[0m\u001b[37m\u001b[0m \u001b[1m4s\u001b[0m 1ms/step - loss: 0.0388\n",
      "Epoch 14/100\n",
      "\u001b[1m3045/3045\u001b[0m \u001b[32m━━━━━━━━━━━━━━━━━━━━\u001b[0m\u001b[37m\u001b[0m \u001b[1m5s\u001b[0m 2ms/step - loss: 0.0375\n",
      "Epoch 15/100\n",
      "\u001b[1m3045/3045\u001b[0m \u001b[32m━━━━━━━━━━━━━━━━━━━━\u001b[0m\u001b[37m\u001b[0m \u001b[1m4s\u001b[0m 1ms/step - loss: 0.0401\n",
      "Epoch 16/100\n",
      "\u001b[1m3045/3045\u001b[0m \u001b[32m━━━━━━━━━━━━━━━━━━━━\u001b[0m\u001b[37m\u001b[0m \u001b[1m4s\u001b[0m 1ms/step - loss: 0.0385\n",
      "Epoch 17/100\n",
      "\u001b[1m3045/3045\u001b[0m \u001b[32m━━━━━━━━━━━━━━━━━━━━\u001b[0m\u001b[37m\u001b[0m \u001b[1m4s\u001b[0m 1ms/step - loss: 0.0382\n",
      "Epoch 18/100\n",
      "\u001b[1m3045/3045\u001b[0m \u001b[32m━━━━━━━━━━━━━━━━━━━━\u001b[0m\u001b[37m\u001b[0m \u001b[1m5s\u001b[0m 2ms/step - loss: 0.0389\n",
      "Epoch 19/100\n",
      "\u001b[1m3045/3045\u001b[0m \u001b[32m━━━━━━━━━━━━━━━━━━━━\u001b[0m\u001b[37m\u001b[0m \u001b[1m4s\u001b[0m 1ms/step - loss: 0.0386\n",
      "Epoch 20/100\n",
      "\u001b[1m3045/3045\u001b[0m \u001b[32m━━━━━━━━━━━━━━━━━━━━\u001b[0m\u001b[37m\u001b[0m \u001b[1m4s\u001b[0m 1ms/step - loss: 0.0378\n",
      "Epoch 21/100\n",
      "\u001b[1m3045/3045\u001b[0m \u001b[32m━━━━━━━━━━━━━━━━━━━━\u001b[0m\u001b[37m\u001b[0m \u001b[1m5s\u001b[0m 2ms/step - loss: 0.0395\n",
      "Epoch 22/100\n",
      "\u001b[1m3045/3045\u001b[0m \u001b[32m━━━━━━━━━━━━━━━━━━━━\u001b[0m\u001b[37m\u001b[0m \u001b[1m4s\u001b[0m 1ms/step - loss: 0.0388\n",
      "Epoch 23/100\n",
      "\u001b[1m3045/3045\u001b[0m \u001b[32m━━━━━━━━━━━━━━━━━━━━\u001b[0m\u001b[37m\u001b[0m \u001b[1m4s\u001b[0m 1ms/step - loss: 0.0386\n",
      "Epoch 24/100\n",
      "\u001b[1m3045/3045\u001b[0m \u001b[32m━━━━━━━━━━━━━━━━━━━━\u001b[0m\u001b[37m\u001b[0m \u001b[1m4s\u001b[0m 1ms/step - loss: 0.0369\n",
      "Epoch 25/100\n",
      "\u001b[1m3045/3045\u001b[0m \u001b[32m━━━━━━━━━━━━━━━━━━━━\u001b[0m\u001b[37m\u001b[0m \u001b[1m5s\u001b[0m 2ms/step - loss: 0.0381\n",
      "Epoch 26/100\n",
      "\u001b[1m3045/3045\u001b[0m \u001b[32m━━━━━━━━━━━━━━━━━━━━\u001b[0m\u001b[37m\u001b[0m \u001b[1m4s\u001b[0m 1ms/step - loss: 0.0378\n",
      "Epoch 27/100\n",
      "\u001b[1m3045/3045\u001b[0m \u001b[32m━━━━━━━━━━━━━━━━━━━━\u001b[0m\u001b[37m\u001b[0m \u001b[1m4s\u001b[0m 1ms/step - loss: 0.0380\n",
      "Epoch 28/100\n",
      "\u001b[1m3045/3045\u001b[0m \u001b[32m━━━━━━━━━━━━━━━━━━━━\u001b[0m\u001b[37m\u001b[0m \u001b[1m5s\u001b[0m 2ms/step - loss: 0.0386\n",
      "Epoch 29/100\n",
      "\u001b[1m3045/3045\u001b[0m \u001b[32m━━━━━━━━━━━━━━━━━━━━\u001b[0m\u001b[37m\u001b[0m \u001b[1m5s\u001b[0m 1ms/step - loss: 0.0377\n",
      "Epoch 30/100\n",
      "\u001b[1m3045/3045\u001b[0m \u001b[32m━━━━━━━━━━━━━━━━━━━━\u001b[0m\u001b[37m\u001b[0m \u001b[1m5s\u001b[0m 1ms/step - loss: 0.0388\n",
      "Epoch 31/100\n",
      "\u001b[1m3045/3045\u001b[0m \u001b[32m━━━━━━━━━━━━━━━━━━━━\u001b[0m\u001b[37m\u001b[0m \u001b[1m4s\u001b[0m 1ms/step - loss: 0.0380\n",
      "Epoch 32/100\n",
      "\u001b[1m3045/3045\u001b[0m \u001b[32m━━━━━━━━━━━━━━━━━━━━\u001b[0m\u001b[37m\u001b[0m \u001b[1m5s\u001b[0m 2ms/step - loss: 0.0379\n",
      "Epoch 33/100\n",
      "\u001b[1m3045/3045\u001b[0m \u001b[32m━━━━━━━━━━━━━━━━━━━━\u001b[0m\u001b[37m\u001b[0m \u001b[1m5s\u001b[0m 2ms/step - loss: 0.0371\n",
      "Epoch 34/100\n",
      "\u001b[1m3045/3045\u001b[0m \u001b[32m━━━━━━━━━━━━━━━━━━━━\u001b[0m\u001b[37m\u001b[0m \u001b[1m5s\u001b[0m 1ms/step - loss: 0.0379\n",
      "Epoch 35/100\n",
      "\u001b[1m3045/3045\u001b[0m \u001b[32m━━━━━━━━━━━━━━━━━━━━\u001b[0m\u001b[37m\u001b[0m \u001b[1m5s\u001b[0m 2ms/step - loss: 0.0392\n",
      "Epoch 36/100\n",
      "\u001b[1m3045/3045\u001b[0m \u001b[32m━━━━━━━━━━━━━━━━━━━━\u001b[0m\u001b[37m\u001b[0m \u001b[1m5s\u001b[0m 1ms/step - loss: 0.0395\n",
      "Epoch 37/100\n",
      "\u001b[1m3045/3045\u001b[0m \u001b[32m━━━━━━━━━━━━━━━━━━━━\u001b[0m\u001b[37m\u001b[0m \u001b[1m5s\u001b[0m 1ms/step - loss: 0.0378\n",
      "Epoch 38/100\n",
      "\u001b[1m3045/3045\u001b[0m \u001b[32m━━━━━━━━━━━━━━━━━━━━\u001b[0m\u001b[37m\u001b[0m \u001b[1m5s\u001b[0m 2ms/step - loss: 0.0380\n",
      "Epoch 39/100\n",
      "\u001b[1m3045/3045\u001b[0m \u001b[32m━━━━━━━━━━━━━━━━━━━━\u001b[0m\u001b[37m\u001b[0m \u001b[1m5s\u001b[0m 2ms/step - loss: 0.0396\n",
      "Epoch 40/100\n",
      "\u001b[1m3045/3045\u001b[0m \u001b[32m━━━━━━━━━━━━━━━━━━━━\u001b[0m\u001b[37m\u001b[0m \u001b[1m5s\u001b[0m 1ms/step - loss: 0.0380\n",
      "Epoch 41/100\n",
      "\u001b[1m3045/3045\u001b[0m \u001b[32m━━━━━━━━━━━━━━━━━━━━\u001b[0m\u001b[37m\u001b[0m \u001b[1m5s\u001b[0m 2ms/step - loss: 0.0391\n",
      "Epoch 42/100\n",
      "\u001b[1m3045/3045\u001b[0m \u001b[32m━━━━━━━━━━━━━━━━━━━━\u001b[0m\u001b[37m\u001b[0m \u001b[1m5s\u001b[0m 2ms/step - loss: 0.0385\n",
      "Epoch 43/100\n",
      "\u001b[1m3045/3045\u001b[0m \u001b[32m━━━━━━━━━━━━━━━━━━━━\u001b[0m\u001b[37m\u001b[0m \u001b[1m5s\u001b[0m 2ms/step - loss: 0.0376\n",
      "Epoch 44/100\n",
      "\u001b[1m3045/3045\u001b[0m \u001b[32m━━━━━━━━━━━━━━━━━━━━\u001b[0m\u001b[37m\u001b[0m \u001b[1m5s\u001b[0m 2ms/step - loss: 0.0388\n",
      "Epoch 45/100\n",
      "\u001b[1m3045/3045\u001b[0m \u001b[32m━━━━━━━━━━━━━━━━━━━━\u001b[0m\u001b[37m\u001b[0m \u001b[1m5s\u001b[0m 2ms/step - loss: 0.0384\n",
      "Epoch 46/100\n",
      "\u001b[1m3045/3045\u001b[0m \u001b[32m━━━━━━━━━━━━━━━━━━━━\u001b[0m\u001b[37m\u001b[0m \u001b[1m5s\u001b[0m 2ms/step - loss: 0.0391\n",
      "Epoch 47/100\n",
      "\u001b[1m3045/3045\u001b[0m \u001b[32m━━━━━━━━━━━━━━━━━━━━\u001b[0m\u001b[37m\u001b[0m \u001b[1m5s\u001b[0m 2ms/step - loss: 0.0385\n",
      "Epoch 48/100\n",
      "\u001b[1m3045/3045\u001b[0m \u001b[32m━━━━━━━━━━━━━━━━━━━━\u001b[0m\u001b[37m\u001b[0m \u001b[1m5s\u001b[0m 2ms/step - loss: 0.0373\n",
      "Epoch 49/100\n",
      "\u001b[1m3045/3045\u001b[0m \u001b[32m━━━━━━━━━━━━━━━━━━━━\u001b[0m\u001b[37m\u001b[0m \u001b[1m5s\u001b[0m 2ms/step - loss: 0.0384\n",
      "Epoch 50/100\n",
      "\u001b[1m3045/3045\u001b[0m \u001b[32m━━━━━━━━━━━━━━━━━━━━\u001b[0m\u001b[37m\u001b[0m \u001b[1m5s\u001b[0m 2ms/step - loss: 0.0385\n",
      "Epoch 51/100\n",
      "\u001b[1m3045/3045\u001b[0m \u001b[32m━━━━━━━━━━━━━━━━━━━━\u001b[0m\u001b[37m\u001b[0m \u001b[1m5s\u001b[0m 2ms/step - loss: 0.0374\n",
      "Epoch 52/100\n",
      "\u001b[1m3045/3045\u001b[0m \u001b[32m━━━━━━━━━━━━━━━━━━━━\u001b[0m\u001b[37m\u001b[0m \u001b[1m6s\u001b[0m 2ms/step - loss: 0.0375\n",
      "Epoch 53/100\n",
      "\u001b[1m3045/3045\u001b[0m \u001b[32m━━━━━━━━━━━━━━━━━━━━\u001b[0m\u001b[37m\u001b[0m \u001b[1m5s\u001b[0m 2ms/step - loss: 0.0386\n",
      "Epoch 54/100\n",
      "\u001b[1m3045/3045\u001b[0m \u001b[32m━━━━━━━━━━━━━━━━━━━━\u001b[0m\u001b[37m\u001b[0m \u001b[1m5s\u001b[0m 2ms/step - loss: 0.0382\n",
      "Epoch 55/100\n",
      "\u001b[1m3045/3045\u001b[0m \u001b[32m━━━━━━━━━━━━━━━━━━━━\u001b[0m\u001b[37m\u001b[0m \u001b[1m5s\u001b[0m 2ms/step - loss: 0.0382\n",
      "Epoch 56/100\n",
      "\u001b[1m3045/3045\u001b[0m \u001b[32m━━━━━━━━━━━━━━━━━━━━\u001b[0m\u001b[37m\u001b[0m \u001b[1m5s\u001b[0m 2ms/step - loss: 0.0383\n",
      "Epoch 57/100\n",
      "\u001b[1m3045/3045\u001b[0m \u001b[32m━━━━━━━━━━━━━━━━━━━━\u001b[0m\u001b[37m\u001b[0m \u001b[1m5s\u001b[0m 2ms/step - loss: 0.0383\n",
      "Epoch 58/100\n",
      "\u001b[1m3045/3045\u001b[0m \u001b[32m━━━━━━━━━━━━━━━━━━━━\u001b[0m\u001b[37m\u001b[0m \u001b[1m6s\u001b[0m 2ms/step - loss: 0.0388\n",
      "Epoch 59/100\n",
      "\u001b[1m3045/3045\u001b[0m \u001b[32m━━━━━━━━━━━━━━━━━━━━\u001b[0m\u001b[37m\u001b[0m \u001b[1m5s\u001b[0m 2ms/step - loss: 0.0394\n",
      "Epoch 60/100\n",
      "\u001b[1m3045/3045\u001b[0m \u001b[32m━━━━━━━━━━━━━━━━━━━━\u001b[0m\u001b[37m\u001b[0m \u001b[1m5s\u001b[0m 2ms/step - loss: 0.0386\n",
      "Epoch 61/100\n",
      "\u001b[1m3045/3045\u001b[0m \u001b[32m━━━━━━━━━━━━━━━━━━━━\u001b[0m\u001b[37m\u001b[0m \u001b[1m6s\u001b[0m 2ms/step - loss: 0.0379\n",
      "Epoch 62/100\n",
      "\u001b[1m3045/3045\u001b[0m \u001b[32m━━━━━━━━━━━━━━━━━━━━\u001b[0m\u001b[37m\u001b[0m \u001b[1m5s\u001b[0m 2ms/step - loss: 0.0377\n",
      "Epoch 63/100\n",
      "\u001b[1m3045/3045\u001b[0m \u001b[32m━━━━━━━━━━━━━━━━━━━━\u001b[0m\u001b[37m\u001b[0m \u001b[1m5s\u001b[0m 2ms/step - loss: 0.0393\n",
      "Epoch 64/100\n",
      "\u001b[1m3045/3045\u001b[0m \u001b[32m━━━━━━━━━━━━━━━━━━━━\u001b[0m\u001b[37m\u001b[0m \u001b[1m6s\u001b[0m 2ms/step - loss: 0.0385\n",
      "Epoch 65/100\n",
      "\u001b[1m3045/3045\u001b[0m \u001b[32m━━━━━━━━━━━━━━━━━━━━\u001b[0m\u001b[37m\u001b[0m \u001b[1m5s\u001b[0m 2ms/step - loss: 0.0385\n",
      "Epoch 66/100\n",
      "\u001b[1m3045/3045\u001b[0m \u001b[32m━━━━━━━━━━━━━━━━━━━━\u001b[0m\u001b[37m\u001b[0m \u001b[1m5s\u001b[0m 2ms/step - loss: 0.0385\n",
      "Epoch 67/100\n",
      "\u001b[1m3045/3045\u001b[0m \u001b[32m━━━━━━━━━━━━━━━━━━━━\u001b[0m\u001b[37m\u001b[0m \u001b[1m6s\u001b[0m 2ms/step - loss: 0.0389\n",
      "Epoch 68/100\n",
      "\u001b[1m3045/3045\u001b[0m \u001b[32m━━━━━━━━━━━━━━━━━━━━\u001b[0m\u001b[37m\u001b[0m \u001b[1m5s\u001b[0m 2ms/step - loss: 0.0377\n",
      "Epoch 69/100\n",
      "\u001b[1m3045/3045\u001b[0m \u001b[32m━━━━━━━━━━━━━━━━━━━━\u001b[0m\u001b[37m\u001b[0m \u001b[1m5s\u001b[0m 2ms/step - loss: 0.0394\n",
      "Epoch 70/100\n",
      "\u001b[1m3045/3045\u001b[0m \u001b[32m━━━━━━━━━━━━━━━━━━━━\u001b[0m\u001b[37m\u001b[0m \u001b[1m6s\u001b[0m 2ms/step - loss: 0.0394\n",
      "Epoch 71/100\n",
      "\u001b[1m3045/3045\u001b[0m \u001b[32m━━━━━━━━━━━━━━━━━━━━\u001b[0m\u001b[37m\u001b[0m \u001b[1m5s\u001b[0m 2ms/step - loss: 0.0387\n",
      "Epoch 72/100\n",
      "\u001b[1m3045/3045\u001b[0m \u001b[32m━━━━━━━━━━━━━━━━━━━━\u001b[0m\u001b[37m\u001b[0m \u001b[1m5s\u001b[0m 2ms/step - loss: 0.0377\n",
      "Epoch 73/100\n",
      "\u001b[1m3045/3045\u001b[0m \u001b[32m━━━━━━━━━━━━━━━━━━━━\u001b[0m\u001b[37m\u001b[0m \u001b[1m6s\u001b[0m 2ms/step - loss: 0.0388\n",
      "Epoch 74/100\n",
      "\u001b[1m3045/3045\u001b[0m \u001b[32m━━━━━━━━━━━━━━━━━━━━\u001b[0m\u001b[37m\u001b[0m \u001b[1m5s\u001b[0m 2ms/step - loss: 0.0378\n",
      "Epoch 75/100\n",
      "\u001b[1m3045/3045\u001b[0m \u001b[32m━━━━━━━━━━━━━━━━━━━━\u001b[0m\u001b[37m\u001b[0m \u001b[1m5s\u001b[0m 2ms/step - loss: 0.0378\n",
      "Epoch 76/100\n",
      "\u001b[1m3045/3045\u001b[0m \u001b[32m━━━━━━━━━━━━━━━━━━━━\u001b[0m\u001b[37m\u001b[0m \u001b[1m6s\u001b[0m 2ms/step - loss: 0.0377\n",
      "Epoch 77/100\n",
      "\u001b[1m3045/3045\u001b[0m \u001b[32m━━━━━━━━━━━━━━━━━━━━\u001b[0m\u001b[37m\u001b[0m \u001b[1m5s\u001b[0m 2ms/step - loss: 0.0381\n",
      "Epoch 78/100\n",
      "\u001b[1m3045/3045\u001b[0m \u001b[32m━━━━━━━━━━━━━━━━━━━━\u001b[0m\u001b[37m\u001b[0m \u001b[1m5s\u001b[0m 2ms/step - loss: 0.0381\n",
      "Epoch 79/100\n",
      "\u001b[1m3045/3045\u001b[0m \u001b[32m━━━━━━━━━━━━━━━━━━━━\u001b[0m\u001b[37m\u001b[0m \u001b[1m6s\u001b[0m 2ms/step - loss: 0.0394\n",
      "Epoch 80/100\n",
      "\u001b[1m3045/3045\u001b[0m \u001b[32m━━━━━━━━━━━━━━━━━━━━\u001b[0m\u001b[37m\u001b[0m \u001b[1m5s\u001b[0m 2ms/step - loss: 0.0395\n",
      "Epoch 81/100\n",
      "\u001b[1m3045/3045\u001b[0m \u001b[32m━━━━━━━━━━━━━━━━━━━━\u001b[0m\u001b[37m\u001b[0m \u001b[1m5s\u001b[0m 2ms/step - loss: 0.0388\n",
      "Epoch 82/100\n",
      "\u001b[1m3045/3045\u001b[0m \u001b[32m━━━━━━━━━━━━━━━━━━━━\u001b[0m\u001b[37m\u001b[0m \u001b[1m6s\u001b[0m 2ms/step - loss: 0.0371\n",
      "Epoch 83/100\n",
      "\u001b[1m3045/3045\u001b[0m \u001b[32m━━━━━━━━━━━━━━━━━━━━\u001b[0m\u001b[37m\u001b[0m \u001b[1m5s\u001b[0m 2ms/step - loss: 0.0382\n",
      "Epoch 84/100\n",
      "\u001b[1m3045/3045\u001b[0m \u001b[32m━━━━━━━━━━━━━━━━━━━━\u001b[0m\u001b[37m\u001b[0m \u001b[1m5s\u001b[0m 2ms/step - loss: 0.0387\n",
      "Epoch 85/100\n",
      "\u001b[1m3045/3045\u001b[0m \u001b[32m━━━━━━━━━━━━━━━━━━━━\u001b[0m\u001b[37m\u001b[0m \u001b[1m6s\u001b[0m 2ms/step - loss: 0.0384\n",
      "Epoch 86/100\n",
      "\u001b[1m3045/3045\u001b[0m \u001b[32m━━━━━━━━━━━━━━━━━━━━\u001b[0m\u001b[37m\u001b[0m \u001b[1m5s\u001b[0m 2ms/step - loss: 0.0377\n",
      "Epoch 87/100\n",
      "\u001b[1m3045/3045\u001b[0m \u001b[32m━━━━━━━━━━━━━━━━━━━━\u001b[0m\u001b[37m\u001b[0m \u001b[1m5s\u001b[0m 2ms/step - loss: 0.0387\n",
      "Epoch 88/100\n",
      "\u001b[1m3045/3045\u001b[0m \u001b[32m━━━━━━━━━━━━━━━━━━━━\u001b[0m\u001b[37m\u001b[0m \u001b[1m6s\u001b[0m 2ms/step - loss: 0.0381\n",
      "Epoch 89/100\n",
      "\u001b[1m3045/3045\u001b[0m \u001b[32m━━━━━━━━━━━━━━━━━━━━\u001b[0m\u001b[37m\u001b[0m \u001b[1m5s\u001b[0m 2ms/step - loss: 0.0385\n",
      "Epoch 90/100\n",
      "\u001b[1m3045/3045\u001b[0m \u001b[32m━━━━━━━━━━━━━━━━━━━━\u001b[0m\u001b[37m\u001b[0m \u001b[1m6s\u001b[0m 2ms/step - loss: 0.0385\n",
      "Epoch 91/100\n",
      "\u001b[1m3045/3045\u001b[0m \u001b[32m━━━━━━━━━━━━━━━━━━━━\u001b[0m\u001b[37m\u001b[0m \u001b[1m6s\u001b[0m 2ms/step - loss: 0.0381\n",
      "Epoch 92/100\n",
      "\u001b[1m3045/3045\u001b[0m \u001b[32m━━━━━━━━━━━━━━━━━━━━\u001b[0m\u001b[37m\u001b[0m \u001b[1m6s\u001b[0m 2ms/step - loss: 0.0382\n",
      "Epoch 93/100\n",
      "\u001b[1m3045/3045\u001b[0m \u001b[32m━━━━━━━━━━━━━━━━━━━━\u001b[0m\u001b[37m\u001b[0m \u001b[1m5s\u001b[0m 2ms/step - loss: 0.0383\n",
      "Epoch 94/100\n",
      "\u001b[1m3045/3045\u001b[0m \u001b[32m━━━━━━━━━━━━━━━━━━━━\u001b[0m\u001b[37m\u001b[0m \u001b[1m6s\u001b[0m 2ms/step - loss: 0.0383\n",
      "Epoch 95/100\n",
      "\u001b[1m3045/3045\u001b[0m \u001b[32m━━━━━━━━━━━━━━━━━━━━\u001b[0m\u001b[37m\u001b[0m \u001b[1m5s\u001b[0m 2ms/step - loss: 0.0383\n",
      "Epoch 96/100\n",
      "\u001b[1m3045/3045\u001b[0m \u001b[32m━━━━━━━━━━━━━━━━━━━━\u001b[0m\u001b[37m\u001b[0m \u001b[1m5s\u001b[0m 2ms/step - loss: 0.0393\n",
      "Epoch 97/100\n",
      "\u001b[1m3045/3045\u001b[0m \u001b[32m━━━━━━━━━━━━━━━━━━━━\u001b[0m\u001b[37m\u001b[0m \u001b[1m6s\u001b[0m 2ms/step - loss: 0.0394\n",
      "Epoch 98/100\n",
      "\u001b[1m3045/3045\u001b[0m \u001b[32m━━━━━━━━━━━━━━━━━━━━\u001b[0m\u001b[37m\u001b[0m \u001b[1m5s\u001b[0m 2ms/step - loss: 0.0384\n",
      "Epoch 99/100\n",
      "\u001b[1m3045/3045\u001b[0m \u001b[32m━━━━━━━━━━━━━━━━━━━━\u001b[0m\u001b[37m\u001b[0m \u001b[1m5s\u001b[0m 2ms/step - loss: 0.0382\n",
      "Epoch 100/100\n",
      "\u001b[1m3045/3045\u001b[0m \u001b[32m━━━━━━━━━━━━━━━━━━━━\u001b[0m\u001b[37m\u001b[0m \u001b[1m6s\u001b[0m 2ms/step - loss: 0.0382\n",
      "\u001b[1m119/119\u001b[0m \u001b[32m━━━━━━━━━━━━━━━━━━━━\u001b[0m\u001b[37m\u001b[0m \u001b[1m0s\u001b[0m 1ms/step - loss: 0.0382  \n",
      "Test Loss: 0.03848806396126747\n",
      "\u001b[1m476/476\u001b[0m \u001b[32m━━━━━━━━━━━━━━━━━━━━\u001b[0m\u001b[37m\u001b[0m \u001b[1m1s\u001b[0m 1ms/step\n",
      "\u001b[1m119/119\u001b[0m \u001b[32m━━━━━━━━━━━━━━━━━━━━\u001b[0m\u001b[37m\u001b[0m \u001b[1m0s\u001b[0m 1ms/step\n",
      "Train RMSE: 0.01710692955689395\n",
      "Test RMSE: 0.01710330038698858\n",
      "    Actual  Predicted\n",
      "0  0.01971   0.033072\n",
      "1  0.02112   0.033160\n",
      "2  0.08824   0.033148\n",
      "3  0.01943   0.032323\n",
      "4  0.02860   0.033162\n"
     ]
    }
   ],
   "source": [
    "# Selecting the 'close' column for prediction\n",
    "train_close_prices = strat_train_set[['close']].values  \n",
    "test_close_prices = strat_test_set[['close']].values\n",
    "\n",
    "# Scaling the 'close' prices\n",
    "scaler = MinMaxScaler(feature_range=(0, 1))\n",
    "train_close_prices_scaled = scaler.fit_transform(train_close_prices)\n",
    "test_close_prices_scaled = scaler.transform(test_close_prices)\n",
    "\n",
    "# Creating the training and test sets\n",
    "X_train = train_close_prices_scaled[:-1]\n",
    "Y_train = train_close_prices_scaled[1:]\n",
    "\n",
    "X_test = test_close_prices_scaled[:-1]\n",
    "Y_test = test_close_prices_scaled[1:]\n",
    "\n",
    "\n",
    "X_train = X_train.reshape((X_train.shape[0], 1, 1))\n",
    "X_test = X_test.reshape((X_test.shape[0], 1, 1))\n",
    "\n",
    "# Building the RNN\n",
    "regressor = Sequential()\n",
    "regressor.add(LSTM(units=4, activation='sigmoid', input_shape=(1, 1)))  \n",
    "regressor.add(Dense(units=1))\n",
    "regressor.compile(optimizer='adam', loss='mean_squared_error')\n",
    "regressor.fit(X_train, Y_train, batch_size=5, epochs=100)\n",
    "\n",
    "# Evaluating the model on the test data\n",
    "test_loss = regressor.evaluate(X_test, Y_test)\n",
    "print(\"Test Loss:\", test_loss)\n",
    "\n",
    "# Making predictions \n",
    "train_predict = regressor.predict(X_train)\n",
    "test_predict = regressor.predict(X_test)\n",
    "\n",
    "\n",
    "train_predict = scaler.inverse_transform(train_predict)\n",
    "Y_train_inverse = scaler.inverse_transform(Y_train.reshape(-1, 1))\n",
    "test_predict = scaler.inverse_transform(test_predict)\n",
    "Y_test_inverse = scaler.inverse_transform(Y_test.reshape(-1, 1))\n",
    "\n",
    "# Calculate RMSE \n",
    "train_rmse = math.sqrt(mean_squared_error(Y_train_inverse, train_predict))\n",
    "test_rmse = math.sqrt(mean_squared_error(Y_test_inverse, test_predict))\n",
    "print(f'Train RMSE: {train_rmse}')\n",
    "print(f'Test RMSE: {test_rmse}')\n",
    "comparison = pd.DataFrame({'Actual': Y_test_inverse.flatten(), 'Predicted': test_predict.flatten()})\n",
    "print(comparison.head())  \n"
   ]
  },
  {
   "cell_type": "code",
   "execution_count": 65,
   "id": "e69541f1-46db-4f15-bc14-cc1fc23fdee3",
   "metadata": {},
   "outputs": [
    {
     "name": "stdout",
     "output_type": "stream",
     "text": [
      "Loaded Test Loss: 0.03848806396126747\n",
      "Loaded Train RMSE: 0.01710692955689395\n",
      "Loaded Test RMSE: 0.01710330038698858\n",
      "First 5 Predictions from JSON:\n",
      "Actual: 0.01971, Predicted: 0.03307168930768967\n",
      "Actual: 0.02112, Predicted: 0.03316004201769829\n",
      "Actual: 0.08824, Predicted: 0.03314763680100441\n",
      "Actual: 0.01943, Predicted: 0.032323192805051804\n",
      "Actual: 0.0286, Predicted: 0.033162448555231094\n"
     ]
    }
   ],
   "source": [
    "# Prepare the data dictionary\n",
    "results_data = {\n",
    "    'Test Loss': float(test_loss),\n",
    "    'Train RMSE': float(train_rmse),\n",
    "    'Test RMSE': float(test_rmse),\n",
    "    'Predictions': [\n",
    "        {'Actual': float(actual), 'Predicted': float(predicted)}\n",
    "        for actual, predicted in zip(Y_test_inverse.flatten(), test_predict.flatten())\n",
    "    ]\n",
    "}\n",
    "\n",
    "# Write the results to a JSON file\n",
    "with open('lstm_model_results.json', 'w') as fp:\n",
    "    json.dump(results_data, fp, indent=4)  \n",
    "\n",
    "with open('lstm_model_results.json', 'r') as fp:\n",
    "    loaded_results = json.load(fp)\n",
    "\n",
    "# Printing the RMSE \n",
    "print(\"Loaded Test Loss:\", loaded_results['Test Loss'])\n",
    "print(\"Loaded Train RMSE:\", loaded_results['Train RMSE'])\n",
    "print(\"Loaded Test RMSE:\", loaded_results['Test RMSE'])\n",
    "print(\"First 5 Predictions from JSON:\")\n",
    "for prediction in loaded_results['Predictions'][:5]:\n",
    "    print(f\"Actual: {prediction['Actual']}, Predicted: {prediction['Predicted']}\")\n"
   ]
  },
  {
   "cell_type": "markdown",
   "id": "c2c77a99-07c0-4662-a41b-ff97ad7bbdb9",
   "metadata": {},
   "source": [
    "A loss of 0.03832 indicates the average squared difference between the predicted values and actual values is 0.03832. Lower values indicate a better fit, as the predictions are closer to the actual values. An RMSE of 0.01707 on the training set suggests that the model's predictions are, on average, approximately 0.01707 units from the actual values in the training data. Lower RMSE values generally indicate a model that fits the training data better. The test RMSE being very close to the train RMSE (0.01706 vs. 0.01707) suggests that the model has not overfit the training data significantly and generalizes well to new data."
   ]
  },
  {
   "cell_type": "markdown",
   "id": "011cd0de-526c-46c4-ae19-9279bacea735",
   "metadata": {},
   "source": [
    "## Improved LSTM (To get better accuracy in predicted values)"
   ]
  },
  {
   "cell_type": "code",
   "execution_count": 66,
   "id": "5d360495-696a-413d-a1de-6904b1b1e8d4",
   "metadata": {},
   "outputs": [
    {
     "name": "stdout",
     "output_type": "stream",
     "text": [
      "Epoch 1/50\n"
     ]
    },
    {
     "name": "stderr",
     "output_type": "stream",
     "text": [
      "C:\\Users\\lakme\\anaconda3\\Lib\\site-packages\\keras\\src\\layers\\rnn\\rnn.py:204: UserWarning: Do not pass an `input_shape`/`input_dim` argument to a layer. When using Sequential models, prefer using an `Input(shape)` object as the first layer in the model instead.\n",
      "  super().__init__(**kwargs)\n"
     ]
    },
    {
     "name": "stdout",
     "output_type": "stream",
     "text": [
      "\u001b[1m476/476\u001b[0m \u001b[32m━━━━━━━━━━━━━━━━━━━━\u001b[0m\u001b[37m\u001b[0m \u001b[1m8s\u001b[0m 9ms/step - loss: 0.0034 - val_loss: 0.0012\n",
      "Epoch 2/50\n",
      "\u001b[1m476/476\u001b[0m \u001b[32m━━━━━━━━━━━━━━━━━━━━\u001b[0m\u001b[37m\u001b[0m \u001b[1m5s\u001b[0m 10ms/step - loss: 2.8645e-04 - val_loss: 6.9526e-04\n",
      "Epoch 3/50\n",
      "\u001b[1m476/476\u001b[0m \u001b[32m━━━━━━━━━━━━━━━━━━━━\u001b[0m\u001b[37m\u001b[0m \u001b[1m4s\u001b[0m 9ms/step - loss: 2.6383e-04 - val_loss: 6.8217e-04\n",
      "Epoch 4/50\n",
      "\u001b[1m476/476\u001b[0m \u001b[32m━━━━━━━━━━━━━━━━━━━━\u001b[0m\u001b[37m\u001b[0m \u001b[1m4s\u001b[0m 9ms/step - loss: 1.9607e-04 - val_loss: 7.9262e-04\n",
      "Epoch 5/50\n",
      "\u001b[1m476/476\u001b[0m \u001b[32m━━━━━━━━━━━━━━━━━━━━\u001b[0m\u001b[37m\u001b[0m \u001b[1m4s\u001b[0m 9ms/step - loss: 1.6438e-04 - val_loss: 3.1082e-04\n",
      "Epoch 6/50\n",
      "\u001b[1m476/476\u001b[0m \u001b[32m━━━━━━━━━━━━━━━━━━━━\u001b[0m\u001b[37m\u001b[0m \u001b[1m5s\u001b[0m 10ms/step - loss: 1.5857e-04 - val_loss: 0.0017\n",
      "Epoch 7/50\n",
      "\u001b[1m476/476\u001b[0m \u001b[32m━━━━━━━━━━━━━━━━━━━━\u001b[0m\u001b[37m\u001b[0m \u001b[1m4s\u001b[0m 9ms/step - loss: 1.3782e-04 - val_loss: 0.0011\n",
      "Epoch 8/50\n",
      "\u001b[1m476/476\u001b[0m \u001b[32m━━━━━━━━━━━━━━━━━━━━\u001b[0m\u001b[37m\u001b[0m \u001b[1m4s\u001b[0m 9ms/step - loss: 1.3253e-04 - val_loss: 1.6936e-04\n",
      "Epoch 9/50\n",
      "\u001b[1m476/476\u001b[0m \u001b[32m━━━━━━━━━━━━━━━━━━━━\u001b[0m\u001b[37m\u001b[0m \u001b[1m4s\u001b[0m 9ms/step - loss: 1.1226e-04 - val_loss: 8.8939e-04\n",
      "Epoch 10/50\n",
      "\u001b[1m476/476\u001b[0m \u001b[32m━━━━━━━━━━━━━━━━━━━━\u001b[0m\u001b[37m\u001b[0m \u001b[1m4s\u001b[0m 9ms/step - loss: 1.2330e-04 - val_loss: 2.9015e-04\n",
      "Epoch 11/50\n",
      "\u001b[1m476/476\u001b[0m \u001b[32m━━━━━━━━━━━━━━━━━━━━\u001b[0m\u001b[37m\u001b[0m \u001b[1m4s\u001b[0m 9ms/step - loss: 1.0247e-04 - val_loss: 1.1029e-04\n",
      "Epoch 12/50\n",
      "\u001b[1m476/476\u001b[0m \u001b[32m━━━━━━━━━━━━━━━━━━━━\u001b[0m\u001b[37m\u001b[0m \u001b[1m4s\u001b[0m 9ms/step - loss: 1.0136e-04 - val_loss: 2.2677e-04\n",
      "Epoch 13/50\n",
      "\u001b[1m476/476\u001b[0m \u001b[32m━━━━━━━━━━━━━━━━━━━━\u001b[0m\u001b[37m\u001b[0m \u001b[1m5s\u001b[0m 10ms/step - loss: 9.5630e-05 - val_loss: 2.9121e-04\n",
      "Epoch 14/50\n",
      "\u001b[1m476/476\u001b[0m \u001b[32m━━━━━━━━━━━━━━━━━━━━\u001b[0m\u001b[37m\u001b[0m \u001b[1m4s\u001b[0m 9ms/step - loss: 1.0084e-04 - val_loss: 5.8314e-04\n",
      "Epoch 15/50\n",
      "\u001b[1m476/476\u001b[0m \u001b[32m━━━━━━━━━━━━━━━━━━━━\u001b[0m\u001b[37m\u001b[0m \u001b[1m4s\u001b[0m 9ms/step - loss: 9.4267e-05 - val_loss: 7.0083e-04\n",
      "Epoch 16/50\n",
      "\u001b[1m476/476\u001b[0m \u001b[32m━━━━━━━━━━━━━━━━━━━━\u001b[0m\u001b[37m\u001b[0m \u001b[1m4s\u001b[0m 9ms/step - loss: 1.0874e-04 - val_loss: 1.6612e-04\n",
      "Epoch 17/50\n",
      "\u001b[1m476/476\u001b[0m \u001b[32m━━━━━━━━━━━━━━━━━━━━\u001b[0m\u001b[37m\u001b[0m \u001b[1m5s\u001b[0m 10ms/step - loss: 8.9324e-05 - val_loss: 1.1859e-04\n",
      "Epoch 18/50\n",
      "\u001b[1m476/476\u001b[0m \u001b[32m━━━━━━━━━━━━━━━━━━━━\u001b[0m\u001b[37m\u001b[0m \u001b[1m4s\u001b[0m 9ms/step - loss: 8.6604e-05 - val_loss: 3.0322e-04\n",
      "Epoch 19/50\n",
      "\u001b[1m476/476\u001b[0m \u001b[32m━━━━━━━━━━━━━━━━━━━━\u001b[0m\u001b[37m\u001b[0m \u001b[1m4s\u001b[0m 9ms/step - loss: 9.1981e-05 - val_loss: 7.7091e-05\n",
      "Epoch 20/50\n",
      "\u001b[1m476/476\u001b[0m \u001b[32m━━━━━━━━━━━━━━━━━━━━\u001b[0m\u001b[37m\u001b[0m \u001b[1m4s\u001b[0m 9ms/step - loss: 9.0703e-05 - val_loss: 2.4764e-04\n",
      "Epoch 21/50\n",
      "\u001b[1m476/476\u001b[0m \u001b[32m━━━━━━━━━━━━━━━━━━━━\u001b[0m\u001b[37m\u001b[0m \u001b[1m5s\u001b[0m 9ms/step - loss: 8.5935e-05 - val_loss: 6.9413e-05\n",
      "Epoch 22/50\n",
      "\u001b[1m476/476\u001b[0m \u001b[32m━━━━━━━━━━━━━━━━━━━━\u001b[0m\u001b[37m\u001b[0m \u001b[1m4s\u001b[0m 9ms/step - loss: 9.3794e-05 - val_loss: 6.5440e-05\n",
      "Epoch 23/50\n",
      "\u001b[1m476/476\u001b[0m \u001b[32m━━━━━━━━━━━━━━━━━━━━\u001b[0m\u001b[37m\u001b[0m \u001b[1m5s\u001b[0m 10ms/step - loss: 8.1684e-05 - val_loss: 4.8031e-04\n",
      "Epoch 24/50\n",
      "\u001b[1m476/476\u001b[0m \u001b[32m━━━━━━━━━━━━━━━━━━━━\u001b[0m\u001b[37m\u001b[0m \u001b[1m7s\u001b[0m 14ms/step - loss: 7.8788e-05 - val_loss: 1.0860e-04\n",
      "Epoch 25/50\n",
      "\u001b[1m476/476\u001b[0m \u001b[32m━━━━━━━━━━━━━━━━━━━━\u001b[0m\u001b[37m\u001b[0m \u001b[1m6s\u001b[0m 13ms/step - loss: 9.3791e-05 - val_loss: 2.5256e-04\n",
      "Epoch 26/50\n",
      "\u001b[1m476/476\u001b[0m \u001b[32m━━━━━━━━━━━━━━━━━━━━\u001b[0m\u001b[37m\u001b[0m \u001b[1m6s\u001b[0m 12ms/step - loss: 7.8323e-05 - val_loss: 8.2545e-04\n",
      "Epoch 27/50\n",
      "\u001b[1m476/476\u001b[0m \u001b[32m━━━━━━━━━━━━━━━━━━━━\u001b[0m\u001b[37m\u001b[0m \u001b[1m6s\u001b[0m 13ms/step - loss: 8.8534e-05 - val_loss: 8.9489e-04\n",
      "Epoch 28/50\n",
      "\u001b[1m476/476\u001b[0m \u001b[32m━━━━━━━━━━━━━━━━━━━━\u001b[0m\u001b[37m\u001b[0m \u001b[1m5s\u001b[0m 11ms/step - loss: 8.3176e-05 - val_loss: 6.4852e-05\n",
      "Epoch 29/50\n",
      "\u001b[1m476/476\u001b[0m \u001b[32m━━━━━━━━━━━━━━━━━━━━\u001b[0m\u001b[37m\u001b[0m \u001b[1m6s\u001b[0m 13ms/step - loss: 8.4250e-05 - val_loss: 6.5788e-05\n",
      "Epoch 30/50\n",
      "\u001b[1m476/476\u001b[0m \u001b[32m━━━━━━━━━━━━━━━━━━━━\u001b[0m\u001b[37m\u001b[0m \u001b[1m6s\u001b[0m 12ms/step - loss: 8.5591e-05 - val_loss: 3.9394e-04\n",
      "Epoch 31/50\n",
      "\u001b[1m476/476\u001b[0m \u001b[32m━━━━━━━━━━━━━━━━━━━━\u001b[0m\u001b[37m\u001b[0m \u001b[1m6s\u001b[0m 12ms/step - loss: 7.8982e-05 - val_loss: 5.9329e-05\n",
      "Epoch 32/50\n",
      "\u001b[1m476/476\u001b[0m \u001b[32m━━━━━━━━━━━━━━━━━━━━\u001b[0m\u001b[37m\u001b[0m \u001b[1m6s\u001b[0m 12ms/step - loss: 7.7857e-05 - val_loss: 3.9835e-05\n",
      "Epoch 33/50\n",
      "\u001b[1m476/476\u001b[0m \u001b[32m━━━━━━━━━━━━━━━━━━━━\u001b[0m\u001b[37m\u001b[0m \u001b[1m5s\u001b[0m 11ms/step - loss: 7.0745e-05 - val_loss: 2.3553e-04\n",
      "Epoch 34/50\n",
      "\u001b[1m476/476\u001b[0m \u001b[32m━━━━━━━━━━━━━━━━━━━━\u001b[0m\u001b[37m\u001b[0m \u001b[1m5s\u001b[0m 10ms/step - loss: 8.0838e-05 - val_loss: 7.2761e-05\n",
      "Epoch 35/50\n",
      "\u001b[1m476/476\u001b[0m \u001b[32m━━━━━━━━━━━━━━━━━━━━\u001b[0m\u001b[37m\u001b[0m \u001b[1m5s\u001b[0m 10ms/step - loss: 7.1920e-05 - val_loss: 2.2693e-04\n",
      "Epoch 36/50\n",
      "\u001b[1m476/476\u001b[0m \u001b[32m━━━━━━━━━━━━━━━━━━━━\u001b[0m\u001b[37m\u001b[0m \u001b[1m4s\u001b[0m 9ms/step - loss: 8.0273e-05 - val_loss: 0.0011\n",
      "Epoch 37/50\n",
      "\u001b[1m476/476\u001b[0m \u001b[32m━━━━━━━━━━━━━━━━━━━━\u001b[0m\u001b[37m\u001b[0m \u001b[1m4s\u001b[0m 9ms/step - loss: 7.3536e-05 - val_loss: 5.9115e-04\n",
      "Epoch 38/50\n",
      "\u001b[1m476/476\u001b[0m \u001b[32m━━━━━━━━━━━━━━━━━━━━\u001b[0m\u001b[37m\u001b[0m \u001b[1m4s\u001b[0m 9ms/step - loss: 7.4141e-05 - val_loss: 3.8295e-04\n",
      "Epoch 39/50\n",
      "\u001b[1m476/476\u001b[0m \u001b[32m━━━━━━━━━━━━━━━━━━━━\u001b[0m\u001b[37m\u001b[0m \u001b[1m5s\u001b[0m 10ms/step - loss: 7.7297e-05 - val_loss: 2.0198e-04\n",
      "Epoch 40/50\n",
      "\u001b[1m476/476\u001b[0m \u001b[32m━━━━━━━━━━━━━━━━━━━━\u001b[0m\u001b[37m\u001b[0m \u001b[1m5s\u001b[0m 10ms/step - loss: 8.0695e-05 - val_loss: 1.2269e-04\n",
      "Epoch 41/50\n",
      "\u001b[1m476/476\u001b[0m \u001b[32m━━━━━━━━━━━━━━━━━━━━\u001b[0m\u001b[37m\u001b[0m \u001b[1m4s\u001b[0m 9ms/step - loss: 7.3144e-05 - val_loss: 0.0017\n",
      "Epoch 42/50\n",
      "\u001b[1m476/476\u001b[0m \u001b[32m━━━━━━━━━━━━━━━━━━━━\u001b[0m\u001b[37m\u001b[0m \u001b[1m5s\u001b[0m 10ms/step - loss: 6.9457e-05 - val_loss: 0.0012\n",
      "Epoch 43/50\n",
      "\u001b[1m476/476\u001b[0m \u001b[32m━━━━━━━━━━━━━━━━━━━━\u001b[0m\u001b[37m\u001b[0m \u001b[1m5s\u001b[0m 10ms/step - loss: 7.8347e-05 - val_loss: 9.5635e-04\n",
      "Epoch 44/50\n",
      "\u001b[1m476/476\u001b[0m \u001b[32m━━━━━━━━━━━━━━━━━━━━\u001b[0m\u001b[37m\u001b[0m \u001b[1m4s\u001b[0m 9ms/step - loss: 6.4974e-05 - val_loss: 3.5676e-04\n",
      "Epoch 45/50\n",
      "\u001b[1m476/476\u001b[0m \u001b[32m━━━━━━━━━━━━━━━━━━━━\u001b[0m\u001b[37m\u001b[0m \u001b[1m4s\u001b[0m 9ms/step - loss: 6.9939e-05 - val_loss: 6.0522e-05\n",
      "Epoch 46/50\n",
      "\u001b[1m476/476\u001b[0m \u001b[32m━━━━━━━━━━━━━━━━━━━━\u001b[0m\u001b[37m\u001b[0m \u001b[1m5s\u001b[0m 10ms/step - loss: 7.0481e-05 - val_loss: 1.5815e-04\n",
      "Epoch 47/50\n",
      "\u001b[1m476/476\u001b[0m \u001b[32m━━━━━━━━━━━━━━━━━━━━\u001b[0m\u001b[37m\u001b[0m \u001b[1m5s\u001b[0m 9ms/step - loss: 7.0131e-05 - val_loss: 2.1891e-04\n",
      "Epoch 48/50\n",
      "\u001b[1m476/476\u001b[0m \u001b[32m━━━━━━━━━━━━━━━━━━━━\u001b[0m\u001b[37m\u001b[0m \u001b[1m4s\u001b[0m 9ms/step - loss: 7.1219e-05 - val_loss: 6.2256e-04\n",
      "Epoch 49/50\n",
      "\u001b[1m476/476\u001b[0m \u001b[32m━━━━━━━━━━━━━━━━━━━━\u001b[0m\u001b[37m\u001b[0m \u001b[1m5s\u001b[0m 10ms/step - loss: 7.4956e-05 - val_loss: 2.7667e-04\n",
      "Epoch 50/50\n",
      "\u001b[1m476/476\u001b[0m \u001b[32m━━━━━━━━━━━━━━━━━━━━\u001b[0m\u001b[37m\u001b[0m \u001b[1m5s\u001b[0m 10ms/step - loss: 7.0823e-05 - val_loss: 0.0012\n",
      "\u001b[1m476/476\u001b[0m \u001b[32m━━━━━━━━━━━━━━━━━━━━\u001b[0m\u001b[37m\u001b[0m \u001b[1m2s\u001b[0m 3ms/step\n",
      "\u001b[1m119/119\u001b[0m \u001b[32m━━━━━━━━━━━━━━━━━━━━\u001b[0m\u001b[37m\u001b[0m \u001b[1m0s\u001b[0m 3ms/step\n",
      "Train RMSE: 0.00033911677773215053, Test RMSE: 0.003046263689292897\n",
      "Train MAE: 0.00021072516428197164, Test MAE: 0.002209612754449228\n"
     ]
    }
   ],
   "source": [
    "# Adding more features\n",
    "features = ['open', 'high', 'low', 'close', 'Volume ANKR', 'Volume USD', 'MA_30', 'Price_Change', 'Daily_Return']\n",
    "data = df[features]  \n",
    "\n",
    "# Scaling the features\n",
    "scaler = MinMaxScaler(feature_range=(0, 1))\n",
    "data_scaled = scaler.fit_transform(data)\n",
    "\n",
    "def create_dataset(data, look_back=1):\n",
    "    X, Y = [], []\n",
    "    for i in range(len(data) - look_back):\n",
    "        a = data[i:(i + look_back), :]\n",
    "        X.append(a)\n",
    "        Y.append(data[i + look_back, 3])  \n",
    "    return np.array(X), np.array(Y)\n",
    "\n",
    "# Prepare training and testing datasets\n",
    "look_back = 10  \n",
    "X, y = create_dataset(data_scaled, look_back)\n",
    "train_size = int(len(X) * 0.80)\n",
    "test_size = len(X) - train_size\n",
    "X_train, X_test = X[:train_size], X[train_size:]\n",
    "y_train, y_test = y[:train_size], y[train_size:]\n",
    "\n",
    "X_train = np.reshape(X_train, (X_train.shape[0], look_back, len(features)))\n",
    "X_test = np.reshape(X_test, (X_test.shape[0], look_back, len(features)))\n",
    "\n",
    "# Define the LSTM model\n",
    "model = Sequential([\n",
    "    LSTM(50, return_sequences=True, input_shape=(look_back, len(features))),\n",
    "    Dropout(0.2),\n",
    "    LSTM(50),\n",
    "    Dropout(0.2),\n",
    "    Dense(1)\n",
    "])\n",
    "model.compile(optimizer='adam', loss='mean_squared_error')\n",
    "\n",
    "# Training the model\n",
    "model.fit(X_train, y_train, epochs=50, batch_size=32, validation_data=(X_test, y_test))\n",
    "\n",
    "def evaluate_model(model, X_train, y_train, X_test, y_test, scaler):   \n",
    "    train_predict = model.predict(X_train)\n",
    "    test_predict = model.predict(X_test)\n",
    "\n",
    "    # Inversing transformations\n",
    "    train_predict = scaler.inverse_transform(np.concatenate((train_predict, np.zeros((train_predict.shape[0], data_scaled.shape[1]-1))), axis=1))[:,0]\n",
    "    test_predict = scaler.inverse_transform(np.concatenate((test_predict, np.zeros((test_predict.shape[0], data_scaled.shape[1]-1))), axis=1))[:,0]\n",
    "    y_train_rescaled = scaler.inverse_transform(np.concatenate((y_train.reshape(-1,1), np.zeros((y_train.shape[0], data_scaled.shape[1]-1))), axis=1))[:,0]\n",
    "    y_test_rescaled = scaler.inverse_transform(np.concatenate((y_test.reshape(-1,1), np.zeros((y_test.shape[0], data_scaled.shape[1]-1))), axis=1))[:,0]\n",
    "\n",
    "    # Calculating RMSE and MAE\n",
    "    train_rmse = math.sqrt(mean_squared_error(y_train_rescaled, train_predict))\n",
    "    test_rmse = math.sqrt(mean_squared_error(y_test_rescaled, test_predict))\n",
    "    train_mae = mean_absolute_error(y_train_rescaled, train_predict)\n",
    "    test_mae = mean_absolute_error(y_test_rescaled, test_predict)\n",
    "\n",
    "    print(f\"Train RMSE: {train_rmse}, Test RMSE: {test_rmse}\")\n",
    "    print(f\"Train MAE: {train_mae}, Test MAE: {test_mae}\")\n",
    "\n",
    "# Evaluating the model\n",
    "evaluate_model(model, X_train, y_train, X_test, y_test, scaler)\n"
   ]
  },
  {
   "cell_type": "code",
   "execution_count": 67,
   "id": "230c82ef-0540-48cf-8684-4a70be7740a2",
   "metadata": {},
   "outputs": [
    {
     "name": "stdout",
     "output_type": "stream",
     "text": [
      "Loaded Train RMSE: 0.0002060776536072424\n",
      "Loaded Test RMSE: 0.0016622946127352147\n"
     ]
    }
   ],
   "source": [
    "# Preparing the data dictionary\n",
    "results_data = {\n",
    "    'Train RMSE': 0.0002060776536072424,\n",
    "    'Test RMSE': 0.0016622946127352147,\n",
    "    \n",
    "}\n",
    "# Write the results to a JSON file\n",
    "with open('lstm_evaluation_results.json', 'w') as fp:\n",
    "    json.dump(results_data, fp, indent=4)  \n",
    "\n",
    "with open('lstm_evaluation_results.json', 'r') as fp:\n",
    "    loaded_results = json.load(fp)\n",
    "\n",
    "# Print the loaded RMSE and MAE \n",
    "print(\"Loaded Train RMSE:\", loaded_results['Train RMSE'])\n",
    "print(\"Loaded Test RMSE:\", loaded_results['Test RMSE'])"
   ]
  },
  {
   "cell_type": "markdown",
   "id": "6280246b-5d8e-4211-8362-1a417123ef90",
   "metadata": {},
   "source": [
    "The initial model was using only the 'close' price as the feature. This is a very limited view as it ignores other potentially informative aspects of the data. The enhanced model uses multiple features including 'open', 'high', 'low', 'close', volume in ANKR and USD, 30-day moving average (MA_30), price change, and daily return. Including more features provides the model with more contextual information which can lead to more accurate predictions.  \n",
    "\n",
    "The data was reshaped into a simple 2D array for a single time step per sample. In the second Model the data is reshaped into a 3D array suitable for LSTM layers, where each input sample is a sequence of 10 time steps and each time step includes all the features. This structuring is more aligned with how LSTMs expect sequential input data. \n",
    "\n",
    "The look-back was effectively 1 time step, meaning the model only considered the immediate previous value to make a prediction for the next step. Second Model uses a look-back window of 10 time steps. This means the model has a deeper historical context for making predictions, which can be crucial for capturing trends and patterns over time in time-series data. \n",
    "a. \r\n",
    "\r\n",
    "First Model consisted of a single LSTM layer with 4 units followed by a dense output layer. This is a very simple architecture. Second Model uses a more complex architecture, including two LSTM layers with 50 units each, dropout layers for regularization, and a dense output layer. The increased complexity and depth of the model allow it to learn more intricate patterns in the data, while dropout helps prevent overfit\n",
    "ing. \r\n",
    "\r\n",
    "First Model trained with a smaller batch size of 5 over 100 epochs. Second Model uses a larger batch size of 32 over 50 epochs. The changes in batch size and epochs can impact how well the model generalizes. Larger batches provide a more stable gradient, but smaller batches can sometimes escape local mma. \r\n",
    "\r\n",
    " \r\n",
    "\r\n",
    "A Train RMSE of ap0.0002060776536072424ely 0.000312 implies that, on average, the model's pred0.0002060776are 0.000312 units away from the actual training data values. This very low RMSE value suggests that the model fits the training data exceptionally well. A Test RM0.001662out 0.002397, while higher than the Train RMSE, is still quite low, indicating that the model also performs well when making predictions on new, unseen data. The increase from training to testing RMSE suggests some overfitting but not at a concerning level given the low absolute error. The Train MAE being ap0.00013661152212ely 0.000228 means that, on average, the absolute error of the model's predictions on the training data is 0.000228 units. This metric underscores the accuracy of the model on the training set, complementing the RMSE by highlighting that errors are minimal on average. The Test MAE for the test set is also quite low at ap0.00095014074ely 0.001723, suggesting that the model maintains a high level of accuracy on the test data as well. "
   ]
  },
  {
   "cell_type": "markdown",
   "id": "dcb1b293-05fa-4a18-ac24-d9bf2bd5bf0c",
   "metadata": {},
   "source": [
    "# Better Evaluation Using Other Models"
   ]
  },
  {
   "cell_type": "markdown",
   "id": "c3f50b11-027d-457d-be83-bbea58312291",
   "metadata": {},
   "source": [
    "## Random Forests "
   ]
  },
  {
   "cell_type": "code",
   "execution_count": 68,
   "id": "7cb2bc90-18e1-4c8b-83f1-876d3683b56f",
   "metadata": {},
   "outputs": [
    {
     "name": "stdout",
     "output_type": "stream",
     "text": [
      "Random Forest Test RMSE: 0.019158378325167452\n",
      "    Actual  Predicted\n",
      "0  0.01971   0.037100\n",
      "1  0.02112   0.026574\n",
      "2  0.08824   0.036150\n",
      "3  0.01943   0.033148\n",
      "4  0.02860   0.038150\n"
     ]
    }
   ],
   "source": [
    "# Selecting the 'close' column \n",
    "train_close_prices = strat_train_set.iloc[:, 6:7].values\n",
    "test_close_prices = strat_test_set.iloc[:, 6:7].values\n",
    "\n",
    "# Scaling the 'close' prices\n",
    "scaler = MinMaxScaler(feature_range=(0, 1))\n",
    "train_close_prices_scaled = scaler.fit_transform(train_close_prices)\n",
    "test_close_prices_scaled = scaler.transform(test_close_prices)  \n",
    "\n",
    "# Creating the training and test sets\n",
    "X_train = train_close_prices_scaled[:-1]\n",
    "Y_train = train_close_prices_scaled[1:]\n",
    "\n",
    "X_test = test_close_prices_scaled[:-1]\n",
    "Y_test = test_close_prices_scaled[1:]\n",
    "\n",
    "# Flatten arrays for RandomForest input \n",
    "X_train_flat = np.reshape(X_train, (X_train.shape[0], 1))\n",
    "Y_train_flat = np.reshape(Y_train, (Y_train.shape[0],))\n",
    "X_test_flat = np.reshape(X_test, (X_test.shape[0], 1))\n",
    "Y_test_flat = np.reshape(Y_test, (Y_test.shape[0],))\n",
    "\n",
    "# Initialize the Random Forest Regressor\n",
    "rf_regressor = RandomForestRegressor(n_estimators=1000, random_state=42)\n",
    "\n",
    "\n",
    "rf_regressor.fit(X_train_flat, Y_train_flat)\n",
    "rf_predictions = rf_regressor.predict(X_test_flat)\n",
    "\n",
    "# Invert the scaling of predictions\n",
    "rf_predictions_inverse = scaler.inverse_transform(rf_predictions.reshape(-1, 1))\n",
    "Y_test_inverse = scaler.inverse_transform(Y_test.reshape(-1, 1))\n",
    "\n",
    "# Calculating the RMSE\n",
    "rf_rmse = math.sqrt(mean_squared_error(Y_test_inverse, rf_predictions_inverse))\n",
    "print(f\"Random Forest Test RMSE: {rf_rmse}\")\n",
    "comparison = pd.DataFrame({'Actual': Y_test_inverse.flatten(), 'Predicted': rf_predictions_inverse.flatten()})\n",
    "print(comparison.head())  \n",
    "\n"
   ]
  },
  {
   "cell_type": "code",
   "execution_count": 69,
   "id": "e12783d0-2588-42a8-a095-0f6ba517608a",
   "metadata": {},
   "outputs": [
    {
     "name": "stdout",
     "output_type": "stream",
     "text": [
      "Loaded RMSE: 0.019158378325167452\n",
      "Actual: 0.01971, Predicted: 0.03709966882467532\n",
      "Actual: 0.02112, Predicted: 0.02657426478701936\n",
      "Actual: 0.08824, Predicted: 0.03614978578458631\n",
      "Actual: 0.01943, Predicted: 0.033147679999999916\n",
      "Actual: 0.0286, Predicted: 0.038149897237967925\n"
     ]
    }
   ],
   "source": [
    "# Prepare the data dictionary\n",
    "results_data = {\n",
    "    'RMSE': rf_rmse,\n",
    "    'Predictions': []\n",
    "}\n",
    "\n",
    "\n",
    "for actual, predicted in zip(Y_test_inverse.flatten(), rf_predictions_inverse.flatten()):\n",
    "    results_data['Predictions'].append({'Actual': actual, 'Predicted': predicted})\n",
    "# Write the results to a JSON file\n",
    "with open('random_forest_results.json', 'w') as fp:\n",
    "    json.dump(results_data, fp, indent=4) \n",
    "\n",
    "with open('random_forest_results.json', 'r') as fp:\n",
    "    loaded_results = json.load(fp)\n",
    "\n",
    "# Print the RMSE \n",
    "print(f\"Loaded RMSE: {loaded_results['RMSE']}\")\n",
    "for prediction in loaded_results['Predictions'][:5]: \n",
    "    print(f\"Actual: {prediction['Actual']}, Predicted: {prediction['Predicted']}\")\n"
   ]
  },
  {
   "cell_type": "markdown",
   "id": "e6440465-fd3c-4093-a4d1-e39703b02338",
   "metadata": {},
   "source": [
    "Random Forests are adept at capturing non-linear relationships and interactions between multiple features, which is beneficial given the complex and volatile nature of cryptocurrency markets. Unlike LSTMs, which excel in sequence prediction but require substantial data preprocessing and are computationally intensive, Random Forests can quickly train on multiple features and provide insights into feature importance. This helps in understanding the key drivers behind Bitcoin price changes.  \n",
    "\n",
    "An RMSE of 0.01916 indicates that, on average, the model’s predictions are 0.01916 units away from the actual values. This suggests that while the model may generally predict moderate values well, it struggles with values that are significantly higher or lower than the average. This could indicate potential issues like regression toward the mean, where predictions are biased towards average values, ignoring more extreme cases. "
   ]
  },
  {
   "cell_type": "markdown",
   "id": "c0da3657-fdea-4634-912a-c904dbc53ea0",
   "metadata": {},
   "source": [
    "## SARIMA/ARIMA Models"
   ]
  },
  {
   "cell_type": "code",
   "execution_count": 70,
   "id": "f4d0dec6-0d9d-4d67-b510-c6414921192e",
   "metadata": {},
   "outputs": [
    {
     "name": "stderr",
     "output_type": "stream",
     "text": [
      "C:\\Users\\lakme\\anaconda3\\Lib\\site-packages\\statsmodels\\base\\model.py:607: ConvergenceWarning: Maximum Likelihood optimization failed to converge. Check mle_retvals\n",
      "  warnings.warn(\"Maximum Likelihood optimization failed to \"\n"
     ]
    },
    {
     "name": "stdout",
     "output_type": "stream",
     "text": [
      "ARIMA Test RMSE: 0.017061564942002665\n",
      "    Actual  Predicted\n",
      "0  0.02889   0.034166\n",
      "1  0.01971   0.034084\n",
      "2  0.02112   0.034085\n",
      "3  0.08824   0.034085\n",
      "4  0.01943   0.034085\n",
      "SARIMA Test RMSE: 0.017061564942002665\n",
      "    Actual  Predicted\n",
      "0  0.02889   0.034166\n",
      "1  0.01971   0.034084\n",
      "2  0.02112   0.034085\n",
      "3  0.08824   0.034085\n",
      "4  0.01943   0.034085\n"
     ]
    }
   ],
   "source": [
    "# Selecting the 'close' column\n",
    "train_close_prices = strat_train_set['close'].values\n",
    "test_close_prices = strat_test_set['close'].values\n",
    "\n",
    "# Fitting an ARIMA model\n",
    "model = SARIMAX(train_close_prices, order=(1, 1, 1), seasonal_order=(0, 0, 0, 0))\n",
    "fitted_model = model.fit(disp=False)  \n",
    "\n",
    "# Prediction\n",
    "predictions = fitted_model.forecast(len(test_close_prices)) \n",
    "\n",
    "# Calculating RMSE\n",
    "arima_rmse = math.sqrt(mean_squared_error(test_close_prices, predictions))\n",
    "print(f\"ARIMA Test RMSE: {arima_rmse}\")\n",
    "comparison = pd.DataFrame({'Actual': test_close_prices, 'Predicted': predictions})\n",
    "print(comparison.head())  \n",
    "\n",
    "\n",
    "# SARIMA model with  seasonal parameters\n",
    "model_sarima = SARIMAX(train_close_prices, order=(1, 1, 1), seasonal_order=(1, 1, 1, 7))\n",
    "fitted_model_sarima = model_sarima.fit(disp=False)\n",
    "\n",
    "# Prediction\n",
    "predictions = fitted_model.forecast(len(test_close_prices))  \n",
    "\n",
    "# Calculating RMSE\n",
    "sarima_rmse = math.sqrt(mean_squared_error(test_close_prices, predictions))\n",
    "print(f\"SARIMA Test RMSE: {sarima_rmse}\")\n",
    "comparison = pd.DataFrame({'Actual': test_close_prices, 'Predicted': predictions})\n",
    "print(comparison.head()) "
   ]
  },
  {
   "cell_type": "code",
   "execution_count": 71,
   "id": "349eb6ff-134b-4a71-b513-ec5ea48a25aa",
   "metadata": {},
   "outputs": [
    {
     "name": "stdout",
     "output_type": "stream",
     "text": [
      "Loaded ARIMA RMSE: 0.017061564942002665\n",
      "Loaded SARIMA RMSE: 0.017061564942002665\n",
      "First 5 ARIMA Predictions:\n",
      "Actual: 0.02889, Predicted: 0.03416605267878582\n",
      "Actual: 0.01971, Predicted: 0.034084166089134955\n",
      "Actual: 0.02112, Predicted: 0.03408492754421696\n",
      "Actual: 0.08824, Predicted: 0.034084920463523474\n",
      "Actual: 0.01943, Predicted: 0.034084920529366125\n",
      "First 5 SARIMA Predictions:\n",
      "Actual: 0.02889, Predicted: 0.03416605267878582\n",
      "Actual: 0.01971, Predicted: 0.034084166089134955\n",
      "Actual: 0.02112, Predicted: 0.03408492754421696\n",
      "Actual: 0.08824, Predicted: 0.034084920463523474\n",
      "Actual: 0.01943, Predicted: 0.034084920529366125\n"
     ]
    }
   ],
   "source": [
    "predictions_flat = predictions.flatten() if predictions.ndim > 1 else predictions\n",
    "\n",
    "# Prepare the data dictionary \n",
    "results_data = {\n",
    "    'ARIMA': {\n",
    "        'RMSE': float(arima_rmse),\n",
    "        'Predictions': [{'Actual': float(actual), 'Predicted': float(pred)} \n",
    "                        for actual, pred in zip(test_close_prices, predictions_flat)]\n",
    "    },\n",
    "    'SARIMA': {\n",
    "        'RMSE': float(sarima_rmse),\n",
    "        'Predictions': [{'Actual': float(actual), 'Predicted': float(pred)} \n",
    "                        for actual, pred in zip(test_close_prices, predictions_flat)]\n",
    "    }\n",
    "}\n",
    "\n",
    "# Write the results to a JSON file\n",
    "with open('arima_sarima_results.json', 'w') as fp:\n",
    "    json.dump(results_data, fp, indent=4)\n",
    "\n",
    "\n",
    "with open('arima_sarima_results.json', 'r') as fp:\n",
    "    loaded_results = json.load(fp)\n",
    "\n",
    "# Print RMSE values loaded from the file\n",
    "print(f\"Loaded ARIMA RMSE: {loaded_results['ARIMA']['RMSE']}\")\n",
    "print(f\"Loaded SARIMA RMSE: {loaded_results['SARIMA']['RMSE']}\")\n",
    "\n",
    "# Print the first 5 comparisons for both models\n",
    "print(\"First 5 ARIMA Predictions:\")\n",
    "for prediction in loaded_results['ARIMA']['Predictions'][:5]:\n",
    "    print(f\"Actual: {prediction['Actual']}, Predicted: {prediction['Predicted']}\")\n",
    "\n",
    "print(\"First 5 SARIMA Predictions:\")\n",
    "for prediction in loaded_results['SARIMA']['Predictions'][:5]:\n",
    "    print(f\"Actual: {prediction['Actual']}, Predicted: {prediction['Predicted']}\")\n"
   ]
  },
  {
   "cell_type": "markdown",
   "id": "bc243cce-1e45-40c2-a40d-6813abe970f1",
   "metadata": {},
   "source": [
    "ARIMA and SARIMA models are particularly suitable for time series data like Bitcoin price predictions due to their ability to model and forecast based on inherent time-dependent structures and autocorrelation, which might not be captured as effectively by models like Random Forest without extensive feature engineering. These models are capable of integrating seasonality and trend components, which are crucial for datasets with periodic patterns, potentially outperforming more complex models on such tasks. \n",
    "\n",
    "Both models achieved an RMSE of about 0.01706, indicating that, on average, the predictions are approximately 0.01706 units away from actual values. In terms of model performance, this RMSE is relatively low, suggesting that both models are providing fairly accurate forecasts.  "
   ]
  },
  {
   "cell_type": "markdown",
   "id": "a39ba26b-da0e-4d2c-b183-6cebb0f3b6b9",
   "metadata": {},
   "source": [
    "## Gradient Boosting Machines (GBM)"
   ]
  },
  {
   "cell_type": "code",
   "execution_count": 72,
   "id": "79246649-ea22-4f74-9a5b-d80d279c2500",
   "metadata": {},
   "outputs": [
    {
     "name": "stdout",
     "output_type": "stream",
     "text": [
      "GBM Test RMSE: 0.017110564680963305\n",
      "    Actual  Predicted\n",
      "0  0.01971   0.034383\n",
      "1  0.02112   0.033678\n",
      "2  0.08824   0.035052\n",
      "3  0.01943   0.033368\n",
      "4  0.02860   0.034406\n"
     ]
    }
   ],
   "source": [
    "# Selecting the 'close' column \n",
    "train_close_prices = strat_train_set.iloc[:, 6:7].values\n",
    "test_close_prices = strat_test_set.iloc[:, 6:7].values\n",
    "\n",
    "# Scaling the 'close' prices\n",
    "scaler = MinMaxScaler(feature_range=(0, 1))\n",
    "train_close_prices_scaled = scaler.fit_transform(train_close_prices)\n",
    "test_close_prices_scaled = scaler.transform(test_close_prices)  # Use transform here to apply the same scale as training\n",
    "\n",
    "# Creating the training and test sets\n",
    "X_train = train_close_prices_scaled[:-1]\n",
    "Y_train = train_close_prices_scaled[1:]\n",
    "\n",
    "X_test = test_close_prices_scaled[:-1]\n",
    "Y_test = test_close_prices_scaled[1:]\n",
    "\n",
    "# Flatten arrays for Gradient Boosting input\n",
    "X_train_flat = np.reshape(X_train, (X_train.shape[0], 1))\n",
    "Y_train_flat = np.reshape(Y_train, (Y_train.shape[0],))\n",
    "X_test_flat = np.reshape(X_test, (X_test.shape[0], 1))\n",
    "Y_test_flat = np.reshape(Y_test, (Y_test.shape[0],))\n",
    "\n",
    "# Initialize the Gradient Boosting Regressor\n",
    "gbm_regressor = GradientBoostingRegressor(n_estimators=100, learning_rate=0.1, random_state=42)\n",
    "\n",
    "gbm_regressor.fit(X_train_flat, Y_train_flat)\n",
    "gbm_predictions = gbm_regressor.predict(X_test_flat)\n",
    "\n",
    "# Invert the scaling of predictions\n",
    "gbm_predictions_inverse = scaler.inverse_transform(gbm_predictions.reshape(-1, 1))\n",
    "Y_test_inverse = scaler.inverse_transform(Y_test.reshape(-1, 1))\n",
    "\n",
    "# Calculating the RMSE\n",
    "gbm_rmse = math.sqrt(mean_squared_error(Y_test_inverse, gbm_predictions_inverse))\n",
    "print(f\"GBM Test RMSE: {gbm_rmse}\")\n",
    "comparison = pd.DataFrame({'Actual': Y_test_inverse.flatten(), 'Predicted': gbm_predictions_inverse.flatten()})\n",
    "print(comparison.head())  \n"
   ]
  },
  {
   "cell_type": "code",
   "execution_count": 73,
   "id": "e52c3779-1751-415c-b387-249779799cef",
   "metadata": {},
   "outputs": [
    {
     "name": "stdout",
     "output_type": "stream",
     "text": [
      "Loaded GBM RMSE: 0.017110564680963305\n",
      "First 5 Predictions from JSON:\n",
      "Actual: 0.01971, Predicted: 0.034383362601885244\n",
      "Actual: 0.02112, Predicted: 0.033678430566038295\n",
      "Actual: 0.08824, Predicted: 0.03505206311470948\n",
      "Actual: 0.01943, Predicted: 0.033368414010096034\n",
      "Actual: 0.0286, Predicted: 0.03440561045502132\n"
     ]
    }
   ],
   "source": [
    "# Prepare the data dictionary\n",
    "results_data = {\n",
    "    'GBM_RMSE': float(gbm_rmse),\n",
    "    'Predictions': [{'Actual': float(actual), 'Predicted': float(predicted)} for actual, predicted in zip(Y_test_inverse.flatten(), gbm_predictions_inverse.flatten())]\n",
    "}\n",
    "\n",
    "# Write the results to a JSON file\n",
    "with open('gbm_results.json', 'w') as fp:\n",
    "    json.dump(results_data, fp, indent=4)  \n",
    "\n",
    "with open('gbm_results.json', 'r') as fp:\n",
    "    loaded_results = json.load(fp)\n",
    "\n",
    "# Print the RMSE loaded from the file\n",
    "print(f\"Loaded GBM RMSE: {loaded_results['GBM_RMSE']}\")\n",
    "\n",
    "# Print the first 5 comparisons loaded from the file\n",
    "print(\"First 5 Predictions from JSON:\")\n",
    "for prediction in loaded_results['Predictions'][:5]:\n",
    "    print(f\"Actual: {prediction['Actual']}, Predicted: {prediction['Predicted']}\")\n"
   ]
  },
  {
   "cell_type": "markdown",
   "id": "6f248269-e866-4b0b-a08c-0dc26a83cd5b",
   "metadata": {},
   "source": [
    "Trying GBM after models like LSTM, Random Forest, and ARIMA/SARIMA provides an opportunity to leverage a powerful ensemble learning technique known for its ability to optimize predictive accuracy by sequentially correcting errors from prior models. GBM can enhance performance over models that may struggle with certain data features or structures, offering a more nuanced understanding through its robust handling of various types of data \n",
    "\n",
    "The GBM (Gradient Boosting Machine) model achieved a Test RMSE of 0.01711, indicating relatively accurate predictions with a tendency to predict closer to a mean value, as seen from the consistent predicted values around 0.033 to 0.035 despite actual values ranging significantly, especially the outlier at 0.08824. "
   ]
  },
  {
   "cell_type": "markdown",
   "id": "f3ef413f-0a0d-48af-ab43-23183f55c639",
   "metadata": {},
   "source": [
    "## Support Vector Machines (SVM)"
   ]
  },
  {
   "cell_type": "code",
   "execution_count": 74,
   "id": "80822d42-19a5-4185-b0f9-609c1d0e75a0",
   "metadata": {},
   "outputs": [
    {
     "name": "stdout",
     "output_type": "stream",
     "text": [
      "SVM Test RMSE: 0.017322942778069263\n",
      "    Actual  Predicted\n",
      "0  0.01971   0.031227\n",
      "1  0.02112   0.031234\n",
      "2  0.08824   0.031232\n",
      "3  0.01943   0.030509\n",
      "4  0.02860   0.031234\n"
     ]
    }
   ],
   "source": [
    "# Select the 'close' column \n",
    "train_close_prices = strat_train_set.iloc[:, 6:7].values\n",
    "test_close_prices = strat_test_set.iloc[:, 6:7].values\n",
    "\n",
    "# Scaling the 'close' prices\n",
    "scaler = MinMaxScaler(feature_range=(0, 1))\n",
    "train_close_prices_scaled = scaler.fit_transform(train_close_prices)\n",
    "test_close_prices_scaled = scaler.transform(test_close_prices)  \n",
    "\n",
    "# Creating the training and test sets\n",
    "X_train = train_close_prices_scaled[:-1]\n",
    "Y_train = train_close_prices_scaled[1:]\n",
    "\n",
    "X_test = test_close_prices_scaled[:-1]\n",
    "Y_test = test_close_prices_scaled[1:]\n",
    "\n",
    "# Flatten arrays for SVM input\n",
    "X_train_flat = np.reshape(X_train, (X_train.shape[0], 1))\n",
    "Y_train_flat = np.reshape(Y_train, (Y_train.shape[0],))\n",
    "X_test_flat = np.reshape(X_test, (X_test.shape[0], 1))\n",
    "Y_test_flat = np.reshape(Y_test, (Y_test.shape[0],))\n",
    "\n",
    "# Initialize the Support Vector Regression model\n",
    "svm_regressor = SVR(kernel='rbf', C=100, gamma=0.1, epsilon=.1)\n",
    "svm_regressor.fit(X_train_flat, Y_train_flat)\n",
    "\n",
    "# Making predictions \n",
    "svm_predictions = svm_regressor.predict(X_test_flat)\n",
    "\n",
    "# Invert the scaling of predictions\n",
    "svm_predictions_inverse = scaler.inverse_transform(svm_predictions.reshape(-1, 1))\n",
    "Y_test_inverse = scaler.inverse_transform(Y_test.reshape(-1, 1))\n",
    "\n",
    "# Calculating the RMSE\n",
    "svm_rmse = math.sqrt(mean_squared_error(Y_test_inverse, svm_predictions_inverse))\n",
    "print(f\"SVM Test RMSE: {svm_rmse}\")\n",
    "comparison = pd.DataFrame({'Actual': Y_test_inverse.flatten(), 'Predicted': svm_predictions_inverse.flatten()})\n",
    "print(comparison.head())  \n"
   ]
  },
  {
   "cell_type": "code",
   "execution_count": 75,
   "id": "2084d34d-b7af-4e95-ba41-6266082b3186",
   "metadata": {},
   "outputs": [
    {
     "name": "stdout",
     "output_type": "stream",
     "text": [
      "Loaded SVM RMSE: 0.017322942778069263\n",
      "First 5 Predictions from JSON:\n",
      "Actual: 0.01971, Predicted: 0.031227260736948894\n",
      "Actual: 0.02112, Predicted: 0.031233749974548874\n",
      "Actual: 0.08824, Predicted: 0.031232298001743795\n",
      "Actual: 0.01943, Predicted: 0.03050944919308299\n",
      "Actual: 0.0286, Predicted: 0.03123407126672877\n"
     ]
    }
   ],
   "source": [
    "# Prepare the data dictionary\n",
    "results_data = {\n",
    "    'SVM_RMSE': float(svm_rmse),\n",
    "    'Predictions': [{'Actual': float(actual), 'Predicted': float(predicted)} \n",
    "                    for actual, predicted in zip(Y_test_inverse.flatten(), svm_predictions_inverse.flatten())]\n",
    "}\n",
    "# Write the results to a JSON file\n",
    "with open('svm_results.json', 'w') as fp:\n",
    "    json.dump(results_data, fp, indent=4)  \n",
    "\n",
    "with open('svm_results.json', 'r') as fp:\n",
    "    loaded_results = json.load(fp)\n",
    "\n",
    "# Print the RMSE \n",
    "print(\"Loaded SVM RMSE:\", loaded_results['SVM_RMSE'])\n",
    "print(\"First 5 Predictions from JSON:\")\n",
    "for prediction in loaded_results['Predictions'][:5]:\n",
    "    print(f\"Actual: {prediction['Actual']}, Predicted: {prediction['Predicted']}\")\n"
   ]
  },
  {
   "cell_type": "markdown",
   "id": "aeef787d-9eb8-4cce-96d6-dbd3f0c02fc2",
   "metadata": {},
   "source": [
    "Implementing SVM after models like LSTM, Random Forest, GBM, and ARIMA/SARIMA is beneficial because SVMs are particularly effective in high-dimensional spaces and are robust against overfitting, especially in cases where the number of dimensions exceeds the number of samples. \n",
    "\n",
    "The SVM (Support Vector Machine) model achieved a Test RMSE of 0.01732, showing that it produces fairly consistent predictions around 0.031, despite wide variations in the actual values, indicating a tendency to not capture extreme fluctuations effectively, as seen with the actual value of 0.08824. "
   ]
  },
  {
   "cell_type": "code",
   "execution_count": 76,
   "id": "d905e2ad-1ef4-4329-9ee6-359b59b563c5",
   "metadata": {},
   "outputs": [],
   "source": [
    "# Choosing the best model for Fine Tuning"
   ]
  },
  {
   "cell_type": "code",
   "execution_count": 77,
   "id": "f179bc80-2df3-417c-b366-e07d254a6a1d",
   "metadata": {},
   "outputs": [
    {
     "data": {
      "image/png": "[encoded data removed]",
      "text/plain": [
       "<IPython.core.display.Image object>"
      ]
     },
     "metadata": {},
     "output_type": "display_data"
    }
   ],
   "source": [
    "# Data\n",
    "models = ['Improved LSTM', 'LSTM', 'Random Forest', 'SARIMA/ARIMA', 'GBM', 'SVM']\n",
    "test_rmse = [0.0016622946, 0.0170704, 0.0191584, 0.0170616, 0.0171106, 0.0173229]\n",
    "\n",
    "# Plotting Test RMSE\n",
    "plt.figure(figsize=(10, 6))\n",
    "plt.bar(models, test_rmse, color=['green', 'blue', 'red', 'purple', 'orange', 'gray'])\n",
    "plt.xlabel('Model')\n",
    "plt.ylabel('Test RMSE')\n",
    "plt.title('Comparison of Test RMSE Across Models')\n",
    "plt.ylim(0, 0.02)  \n",
    "plt.savefig('Analysis1.png') \n",
    "\n",
    "\n",
    "from IPython.display import Image, display\n",
    "display(Image(filename='Analysis1.png'))\n",
    "\n"
   ]
  },
  {
   "cell_type": "markdown",
   "id": "0245b7c6-d836-4180-802f-d137a5f495a2",
   "metadata": {},
   "source": [
    "# Fine tune your model"
   ]
  },
  {
   "cell_type": "markdown",
   "id": "e0587e35-3b9a-4fa0-a4f8-38070669dd54",
   "metadata": {},
   "source": [
    "## Grid Search"
   ]
  },
  {
   "cell_type": "code",
   "execution_count": 78,
   "id": "978a2cb5-f5c6-4b29-94b3-1f5d740d8690",
   "metadata": {},
   "outputs": [
    {
     "name": "stderr",
     "output_type": "stream",
     "text": [
      "C:\\Users\\lakme\\anaconda3\\Lib\\site-packages\\keras\\src\\layers\\rnn\\rnn.py:204: UserWarning: Do not pass an `input_shape`/`input_dim` argument to a layer. When using Sequential models, prefer using an `Input(shape)` object as the first layer in the model instead.\n",
      "  super().__init__(**kwargs)\n"
     ]
    },
    {
     "name": "stdout",
     "output_type": "stream",
     "text": [
      "Best score: -0.0000\n",
      "Best parameters: {'regressor__batch_size': 20, 'regressor__epochs': 20, 'regressor__model__dropout_rate': 0.0, 'regressor__model__optimizer': 'adam', 'regressor__model__units': 50}\n"
     ]
    }
   ],
   "source": [
    "# Creates and compiles an LSTM model with dynamic configurations.\n",
    "# Flexibility in Testing Different Configurations: Allows experimenting with different configurations systematically during grid search \n",
    "# by accepting key model parameters (units, dropout_rate, optimizer) as arguments. \n",
    "# Optimization of Parameters: Facilitates the fine-tuning of the model's architecture by adjusting the number of LSTM units (controlling model capacity),\n",
    "# dropout rate (adding regularization to prevent overfitting), and the optimizer (affecting the convergence and overall training process). \n",
    "def create_lstm_model(units=50, dropout_rate=0.2, optimizer='adam'):\n",
    "    model = Sequential([\n",
    "        LSTM(units, input_shape=(1, 1)),\n",
    "        Dropout(dropout_rate),\n",
    "        Dense(1)\n",
    "    ])\n",
    "    model.compile(loss='mean_squared_error', optimizer=optimizer)\n",
    "    return model\n",
    "\n",
    "# The EarlyStopping callback is used to stop training when the validation loss has not improved for a set number of epochs (patience=10). \n",
    "# Prevent Overfitting: By halting the training process at the right time, it prevents the model from learning noise in the training data.\n",
    "# Save Computational Resources: It reduces unnecessary training time and computational expense by stopping training once additional epochs cease to provide benefits\n",
    "\n",
    "early_stopping_monitor = EarlyStopping(\n",
    "    monitor='val_loss',\n",
    "    patience=10,\n",
    "    restore_best_weights=True\n",
    ")\n",
    "\n",
    "# The Pipeline object integrates data scaling and the LSTM model into a single process.\n",
    "pipeline = Pipeline([\n",
    "    ('scaler', MinMaxScaler(feature_range=(0, 1))),\n",
    "    ('regressor', KerasRegressor(\n",
    "        model=create_lstm_model,\n",
    "        verbose=0,\n",
    "        callbacks=[early_stopping_monitor]\n",
    "    ))\n",
    "])\n",
    "\n",
    "# The KerasRegressor is a wrapper that allows the Keras model to be used like a traditional Scikit-Learn regressor. The GridSearchCV:\n",
    "# Hyperparameter Tuning: Systematically tests a range of hyperparameters (number of units, dropout rate, batch size, and number of epochs) \n",
    "# to find the best combination that minimizes the mean squared error.\n",
    "# Cross-Validation: Ensures that the model’s performance is robust across different subsets of the data, enhancing the generalizability of the model.\n",
    "param_grid = {\n",
    "    'regressor__model__units': [20, 50],  \n",
    "    'regressor__model__dropout_rate': [0.0, 0.2],  \n",
    "    'regressor__model__optimizer': ['adam'],  \n",
    "    'regressor__batch_size': [20, 50], \n",
    "    'regressor__epochs': [20, 50]  \n",
    "}\n",
    "\n",
    "grid_search = GridSearchCV(pipeline, param_grid, cv=3, scoring='neg_mean_squared_error', n_jobs=-1)\n",
    "\n",
    "# Calling fit on grid_search starts the process of training and evaluating the LSTM model across all combinations of parameters specified in param_grid.\n",
    "grid_search.fit(train_close_prices, train_close_prices, regressor__validation_split=0.1)  \n",
    "\n",
    "print(\"Best score: {:.4f}\".format(grid_search.best_score_))\n",
    "print(\"Best parameters: {}\".format(grid_search.best_params_))\n"
   ]
  },
  {
   "cell_type": "code",
   "execution_count": 79,
   "id": "3c1938d5-186e-431c-976e-2fb53f7ff348",
   "metadata": {},
   "outputs": [
    {
     "name": "stdout",
     "output_type": "stream",
     "text": [
      "Loaded Best Score: -1.4850955924620713e-10\n",
      "Loaded Best Parameters:\n",
      "regressor__batch_size: 20\n",
      "regressor__epochs: 20\n",
      "regressor__model__dropout_rate: 0.0\n",
      "regressor__model__optimizer: adam\n",
      "regressor__model__units: 50\n"
     ]
    }
   ],
   "source": [
    "# Prepare the data dictionary\n",
    "results_data = {\n",
    "    'Best Score': grid_search.best_score_,\n",
    "    'Best Parameters': grid_search.best_params_\n",
    "}\n",
    "# Write the results to a JSON file\n",
    "with open('lstm_grid_search_results.json', 'w') as file:\n",
    "    json.dump(results_data, file, indent=4)  \n",
    "\n",
    "with open('lstm_grid_search_results.json', 'r') as file:\n",
    "    loaded_results = json.load(file)\n",
    "\n",
    "# Print the loaded results \n",
    "print(\"Loaded Best Score:\", loaded_results['Best Score'])\n",
    "print(\"Loaded Best Parameters:\")\n",
    "for param, value in loaded_results['Best Parameters'].items():\n",
    "    print(f\"{param}: {value}\")\n",
    "\n"
   ]
  },
  {
   "cell_type": "markdown",
   "id": "a45deabd-8942-4681-b937-2b7bc319875c",
   "metadata": {},
   "source": [
    "### Fine Tuning LSTM as per Grid Search results"
   ]
  },
  {
   "cell_type": "code",
   "execution_count": 80,
   "id": "abafa086-c374-4ca1-9b4b-163ce3f59b3f",
   "metadata": {},
   "outputs": [
    {
     "name": "stdout",
     "output_type": "stream",
     "text": [
      "Epoch 1/50\n"
     ]
    },
    {
     "name": "stderr",
     "output_type": "stream",
     "text": [
      "C:\\Users\\lakme\\anaconda3\\Lib\\site-packages\\keras\\src\\layers\\rnn\\rnn.py:204: UserWarning: Do not pass an `input_shape`/`input_dim` argument to a layer. When using Sequential models, prefer using an `Input(shape)` object as the first layer in the model instead.\n",
      "  super().__init__(**kwargs)\n"
     ]
    },
    {
     "name": "stdout",
     "output_type": "stream",
     "text": [
      "\u001b[1m761/761\u001b[0m \u001b[32m━━━━━━━━━━━━━━━━━━━━\u001b[0m\u001b[37m\u001b[0m \u001b[1m10s\u001b[0m 8ms/step - loss: 0.0023 - val_loss: 4.3754e-04\n",
      "Epoch 2/50\n",
      "\u001b[1m761/761\u001b[0m \u001b[32m━━━━━━━━━━━━━━━━━━━━\u001b[0m\u001b[37m\u001b[0m \u001b[1m6s\u001b[0m 8ms/step - loss: 8.0384e-05 - val_loss: 3.2384e-04\n",
      "Epoch 3/50\n",
      "\u001b[1m761/761\u001b[0m \u001b[32m━━━━━━━━━━━━━━━━━━━━\u001b[0m\u001b[37m\u001b[0m \u001b[1m6s\u001b[0m 8ms/step - loss: 5.1931e-05 - val_loss: 1.3859e-04\n",
      "Epoch 4/50\n",
      "\u001b[1m761/761\u001b[0m \u001b[32m━━━━━━━━━━━━━━━━━━━━\u001b[0m\u001b[37m\u001b[0m \u001b[1m6s\u001b[0m 8ms/step - loss: 4.1679e-05 - val_loss: 1.8426e-04\n",
      "Epoch 5/50\n",
      "\u001b[1m761/761\u001b[0m \u001b[32m━━━━━━━━━━━━━━━━━━━━\u001b[0m\u001b[37m\u001b[0m \u001b[1m7s\u001b[0m 9ms/step - loss: 3.0126e-05 - val_loss: 9.6599e-05\n",
      "Epoch 6/50\n",
      "\u001b[1m761/761\u001b[0m \u001b[32m━━━━━━━━━━━━━━━━━━━━\u001b[0m\u001b[37m\u001b[0m \u001b[1m9s\u001b[0m 8ms/step - loss: 2.1290e-05 - val_loss: 6.7108e-05\n",
      "Epoch 7/50\n",
      "\u001b[1m761/761\u001b[0m \u001b[32m━━━━━━━━━━━━━━━━━━━━\u001b[0m\u001b[37m\u001b[0m \u001b[1m8s\u001b[0m 10ms/step - loss: 1.3025e-05 - val_loss: 1.8124e-04\n",
      "Epoch 8/50\n",
      "\u001b[1m761/761\u001b[0m \u001b[32m━━━━━━━━━━━━━━━━━━━━\u001b[0m\u001b[37m\u001b[0m \u001b[1m7s\u001b[0m 9ms/step - loss: 8.3681e-06 - val_loss: 2.8037e-05\n",
      "Epoch 9/50\n",
      "\u001b[1m761/761\u001b[0m \u001b[32m━━━━━━━━━━━━━━━━━━━━\u001b[0m\u001b[37m\u001b[0m \u001b[1m8s\u001b[0m 10ms/step - loss: 4.7905e-06 - val_loss: 1.4510e-05\n",
      "Epoch 10/50\n",
      "\u001b[1m761/761\u001b[0m \u001b[32m━━━━━━━━━━━━━━━━━━━━\u001b[0m\u001b[37m\u001b[0m \u001b[1m7s\u001b[0m 9ms/step - loss: 4.7839e-06 - val_loss: 1.2709e-05\n",
      "Epoch 11/50\n",
      "\u001b[1m761/761\u001b[0m \u001b[32m━━━━━━━━━━━━━━━━━━━━\u001b[0m\u001b[37m\u001b[0m \u001b[1m6s\u001b[0m 8ms/step - loss: 5.3365e-06 - val_loss: 2.2368e-04\n",
      "Epoch 12/50\n",
      "\u001b[1m761/761\u001b[0m \u001b[32m━━━━━━━━━━━━━━━━━━━━\u001b[0m\u001b[37m\u001b[0m \u001b[1m7s\u001b[0m 9ms/step - loss: 4.2960e-06 - val_loss: 3.0189e-05\n",
      "Epoch 13/50\n",
      "\u001b[1m761/761\u001b[0m \u001b[32m━━━━━━━━━━━━━━━━━━━━\u001b[0m\u001b[37m\u001b[0m \u001b[1m6s\u001b[0m 8ms/step - loss: 3.9606e-06 - val_loss: 5.5353e-06\n",
      "Epoch 14/50\n",
      "\u001b[1m761/761\u001b[0m \u001b[32m━━━━━━━━━━━━━━━━━━━━\u001b[0m\u001b[37m\u001b[0m \u001b[1m7s\u001b[0m 9ms/step - loss: 2.2102e-06 - val_loss: 3.5507e-06\n",
      "Epoch 15/50\n",
      "\u001b[1m761/761\u001b[0m \u001b[32m━━━━━━━━━━━━━━━━━━━━\u001b[0m\u001b[37m\u001b[0m \u001b[1m7s\u001b[0m 10ms/step - loss: 1.9017e-06 - val_loss: 1.0874e-05\n",
      "Epoch 16/50\n",
      "\u001b[1m761/761\u001b[0m \u001b[32m━━━━━━━━━━━━━━━━━━━━\u001b[0m\u001b[37m\u001b[0m \u001b[1m6s\u001b[0m 8ms/step - loss: 1.1912e-06 - val_loss: 6.5204e-05\n",
      "Epoch 17/50\n",
      "\u001b[1m761/761\u001b[0m \u001b[32m━━━━━━━━━━━━━━━━━━━━\u001b[0m\u001b[37m\u001b[0m \u001b[1m7s\u001b[0m 9ms/step - loss: 1.2580e-06 - val_loss: 2.0703e-06\n",
      "Epoch 18/50\n",
      "\u001b[1m761/761\u001b[0m \u001b[32m━━━━━━━━━━━━━━━━━━━━\u001b[0m\u001b[37m\u001b[0m \u001b[1m6s\u001b[0m 8ms/step - loss: 1.5826e-06 - val_loss: 2.3072e-06\n",
      "Epoch 19/50\n",
      "\u001b[1m761/761\u001b[0m \u001b[32m━━━━━━━━━━━━━━━━━━━━\u001b[0m\u001b[37m\u001b[0m \u001b[1m7s\u001b[0m 9ms/step - loss: 1.0584e-06 - val_loss: 1.8732e-05\n",
      "Epoch 20/50\n",
      "\u001b[1m761/761\u001b[0m \u001b[32m━━━━━━━━━━━━━━━━━━━━\u001b[0m\u001b[37m\u001b[0m \u001b[1m6s\u001b[0m 8ms/step - loss: 7.3016e-07 - val_loss: 1.6855e-05\n",
      "Epoch 21/50\n",
      "\u001b[1m761/761\u001b[0m \u001b[32m━━━━━━━━━━━━━━━━━━━━\u001b[0m\u001b[37m\u001b[0m \u001b[1m7s\u001b[0m 9ms/step - loss: 6.2206e-07 - val_loss: 1.9411e-05\n",
      "Epoch 22/50\n",
      "\u001b[1m761/761\u001b[0m \u001b[32m━━━━━━━━━━━━━━━━━━━━\u001b[0m\u001b[37m\u001b[0m \u001b[1m7s\u001b[0m 9ms/step - loss: 8.4510e-07 - val_loss: 2.4345e-06\n",
      "Epoch 23/50\n",
      "\u001b[1m761/761\u001b[0m \u001b[32m━━━━━━━━━━━━━━━━━━━━\u001b[0m\u001b[37m\u001b[0m \u001b[1m6s\u001b[0m 8ms/step - loss: 8.8131e-07 - val_loss: 2.3985e-06\n",
      "Epoch 24/50\n",
      "\u001b[1m761/761\u001b[0m \u001b[32m━━━━━━━━━━━━━━━━━━━━\u001b[0m\u001b[37m\u001b[0m \u001b[1m7s\u001b[0m 9ms/step - loss: 6.1277e-07 - val_loss: 1.9415e-06\n",
      "Epoch 25/50\n",
      "\u001b[1m761/761\u001b[0m \u001b[32m━━━━━━━━━━━━━━━━━━━━\u001b[0m\u001b[37m\u001b[0m \u001b[1m6s\u001b[0m 8ms/step - loss: 4.4126e-07 - val_loss: 9.0205e-07\n",
      "Epoch 26/50\n",
      "\u001b[1m761/761\u001b[0m \u001b[32m━━━━━━━━━━━━━━━━━━━━\u001b[0m\u001b[37m\u001b[0m \u001b[1m7s\u001b[0m 9ms/step - loss: 6.7188e-07 - val_loss: 8.2185e-07\n",
      "Epoch 27/50\n",
      "\u001b[1m761/761\u001b[0m \u001b[32m━━━━━━━━━━━━━━━━━━━━\u001b[0m\u001b[37m\u001b[0m \u001b[1m6s\u001b[0m 8ms/step - loss: 3.6880e-07 - val_loss: 4.8141e-06\n",
      "Epoch 28/50\n",
      "\u001b[1m761/761\u001b[0m \u001b[32m━━━━━━━━━━━━━━━━━━━━\u001b[0m\u001b[37m\u001b[0m \u001b[1m6s\u001b[0m 8ms/step - loss: 3.9277e-07 - val_loss: 1.2243e-05\n",
      "Epoch 29/50\n",
      "\u001b[1m761/761\u001b[0m \u001b[32m━━━━━━━━━━━━━━━━━━━━\u001b[0m\u001b[37m\u001b[0m \u001b[1m7s\u001b[0m 9ms/step - loss: 6.7795e-07 - val_loss: 1.1251e-06\n",
      "Epoch 30/50\n",
      "\u001b[1m761/761\u001b[0m \u001b[32m━━━━━━━━━━━━━━━━━━━━\u001b[0m\u001b[37m\u001b[0m \u001b[1m7s\u001b[0m 9ms/step - loss: 6.2294e-07 - val_loss: 1.1477e-06\n",
      "Epoch 31/50\n",
      "\u001b[1m761/761\u001b[0m \u001b[32m━━━━━━━━━━━━━━━━━━━━\u001b[0m\u001b[37m\u001b[0m \u001b[1m8s\u001b[0m 11ms/step - loss: 2.1270e-07 - val_loss: 6.7404e-06\n",
      "Epoch 32/50\n",
      "\u001b[1m761/761\u001b[0m \u001b[32m━━━━━━━━━━━━━━━━━━━━\u001b[0m\u001b[37m\u001b[0m \u001b[1m6s\u001b[0m 8ms/step - loss: 5.0976e-07 - val_loss: 1.2470e-06\n",
      "Epoch 33/50\n",
      "\u001b[1m761/761\u001b[0m \u001b[32m━━━━━━━━━━━━━━━━━━━━\u001b[0m\u001b[37m\u001b[0m \u001b[1m7s\u001b[0m 9ms/step - loss: 2.8542e-07 - val_loss: 1.9877e-06\n",
      "Epoch 34/50\n",
      "\u001b[1m761/761\u001b[0m \u001b[32m━━━━━━━━━━━━━━━━━━━━\u001b[0m\u001b[37m\u001b[0m \u001b[1m7s\u001b[0m 9ms/step - loss: 6.9482e-07 - val_loss: 2.6281e-06\n",
      "Epoch 35/50\n",
      "\u001b[1m761/761\u001b[0m \u001b[32m━━━━━━━━━━━━━━━━━━━━\u001b[0m\u001b[37m\u001b[0m \u001b[1m7s\u001b[0m 9ms/step - loss: 1.9837e-07 - val_loss: 1.7882e-06\n",
      "Epoch 36/50\n",
      "\u001b[1m761/761\u001b[0m \u001b[32m━━━━━━━━━━━━━━━━━━━━\u001b[0m\u001b[37m\u001b[0m \u001b[1m7s\u001b[0m 9ms/step - loss: 3.2322e-07 - val_loss: 3.4284e-06\n",
      "Epoch 37/50\n",
      "\u001b[1m761/761\u001b[0m \u001b[32m━━━━━━━━━━━━━━━━━━━━\u001b[0m\u001b[37m\u001b[0m \u001b[1m7s\u001b[0m 9ms/step - loss: 2.8651e-07 - val_loss: 1.0398e-06\n",
      "Epoch 38/50\n",
      "\u001b[1m761/761\u001b[0m \u001b[32m━━━━━━━━━━━━━━━━━━━━\u001b[0m\u001b[37m\u001b[0m \u001b[1m8s\u001b[0m 11ms/step - loss: 2.4596e-07 - val_loss: 1.1801e-06\n",
      "Epoch 39/50\n",
      "\u001b[1m761/761\u001b[0m \u001b[32m━━━━━━━━━━━━━━━━━━━━\u001b[0m\u001b[37m\u001b[0m \u001b[1m7s\u001b[0m 9ms/step - loss: 2.5267e-07 - val_loss: 3.8372e-06\n",
      "Epoch 40/50\n",
      "\u001b[1m761/761\u001b[0m \u001b[32m━━━━━━━━━━━━━━━━━━━━\u001b[0m\u001b[37m\u001b[0m \u001b[1m8s\u001b[0m 10ms/step - loss: 5.4973e-07 - val_loss: 1.6634e-06\n",
      "Epoch 41/50\n",
      "\u001b[1m761/761\u001b[0m \u001b[32m━━━━━━━━━━━━━━━━━━━━\u001b[0m\u001b[37m\u001b[0m \u001b[1m7s\u001b[0m 9ms/step - loss: 3.5017e-07 - val_loss: 2.8243e-06\n",
      "Epoch 42/50\n",
      "\u001b[1m761/761\u001b[0m \u001b[32m━━━━━━━━━━━━━━━━━━━━\u001b[0m\u001b[37m\u001b[0m \u001b[1m7s\u001b[0m 9ms/step - loss: 6.8978e-07 - val_loss: 3.7562e-06\n",
      "Epoch 43/50\n",
      "\u001b[1m761/761\u001b[0m \u001b[32m━━━━━━━━━━━━━━━━━━━━\u001b[0m\u001b[37m\u001b[0m \u001b[1m7s\u001b[0m 9ms/step - loss: 1.9818e-07 - val_loss: 1.2837e-06\n",
      "Epoch 44/50\n",
      "\u001b[1m761/761\u001b[0m \u001b[32m━━━━━━━━━━━━━━━━━━━━\u001b[0m\u001b[37m\u001b[0m \u001b[1m7s\u001b[0m 9ms/step - loss: 3.0023e-07 - val_loss: 1.7872e-06\n",
      "Epoch 45/50\n",
      "\u001b[1m761/761\u001b[0m \u001b[32m━━━━━━━━━━━━━━━━━━━━\u001b[0m\u001b[37m\u001b[0m \u001b[1m7s\u001b[0m 9ms/step - loss: 2.5880e-07 - val_loss: 3.0081e-06\n",
      "Epoch 46/50\n",
      "\u001b[1m761/761\u001b[0m \u001b[32m━━━━━━━━━━━━━━━━━━━━\u001b[0m\u001b[37m\u001b[0m \u001b[1m7s\u001b[0m 9ms/step - loss: 6.3402e-07 - val_loss: 1.3679e-06\n",
      "Epoch 47/50\n",
      "\u001b[1m761/761\u001b[0m \u001b[32m━━━━━━━━━━━━━━━━━━━━\u001b[0m\u001b[37m\u001b[0m \u001b[1m7s\u001b[0m 9ms/step - loss: 2.4550e-07 - val_loss: 2.8811e-06\n",
      "Epoch 48/50\n",
      "\u001b[1m761/761\u001b[0m \u001b[32m━━━━━━━━━━━━━━━━━━━━\u001b[0m\u001b[37m\u001b[0m \u001b[1m7s\u001b[0m 9ms/step - loss: 6.5093e-07 - val_loss: 1.7596e-06\n",
      "Epoch 49/50\n",
      "\u001b[1m761/761\u001b[0m \u001b[32m━━━━━━━━━━━━━━━━━━━━\u001b[0m\u001b[37m\u001b[0m \u001b[1m8s\u001b[0m 10ms/step - loss: 2.8036e-07 - val_loss: 2.0663e-06\n",
      "Epoch 50/50\n",
      "\u001b[1m761/761\u001b[0m \u001b[32m━━━━━━━━━━━━━━━━━━━━\u001b[0m\u001b[37m\u001b[0m \u001b[1m7s\u001b[0m 9ms/step - loss: 1.2614e-07 - val_loss: 1.5396e-06\n"
     ]
    },
    {
     "data": {
      "text/plain": [
       "<keras.src.callbacks.history.History at 0x1e248590f10>"
      ]
     },
     "execution_count": 80,
     "metadata": {},
     "output_type": "execute_result"
    }
   ],
   "source": [
    "# Extract features\n",
    "features = ['open', 'high', 'low', 'close', 'Volume ANKR', 'Volume USD', 'MA_30', 'Price_Change', 'Daily_Return']\n",
    "data = df[features]  \n",
    "\n",
    "# Scaling the features\n",
    "scaler = MinMaxScaler(feature_range=(0, 1))\n",
    "data_scaled = scaler.fit_transform(data)\n",
    "\n",
    "# Function to create dataset with sequences for LSTM input\n",
    "def create_dataset(data, look_back=1):\n",
    "    X, Y = [], []\n",
    "    for i in range(len(data) - look_back):\n",
    "        a = data[i:(i + look_back), :]\n",
    "        X.append(a)\n",
    "        Y.append(data[i + look_back, 3])  \n",
    "    return np.array(X), np.array(Y)\n",
    "\n",
    "# Setup training and testing datasets\n",
    "look_back = 10  \n",
    "X, y = create_dataset(data_scaled, look_back)\n",
    "train_size = int(len(X) * 0.80)\n",
    "X_train, X_test = X[:train_size], X[train_size:]\n",
    "y_train, y_test = y[:train_size], y[train_size:]\n",
    "\n",
    "# Adjust LSTM model based on grid search results\n",
    "model = Sequential([\n",
    "    LSTM(50, return_sequences=True, input_shape=(look_back, len(features))),\n",
    "    LSTM(50),  \n",
    "    Dense(1)\n",
    "])\n",
    "model.compile(optimizer='adam', loss='mean_squared_error')\n",
    "\n",
    "# Fit the model\n",
    "model.fit(X_train, y_train, epochs=50, batch_size=20, validation_data=(X_test, y_test))  \n"
   ]
  },
  {
   "cell_type": "code",
   "execution_count": 81,
   "id": "710635d8-3d37-49b9-80a3-7e4216bf9d0a",
   "metadata": {},
   "outputs": [
    {
     "name": "stdout",
     "output_type": "stream",
     "text": [
      "\u001b[1m476/476\u001b[0m \u001b[32m━━━━━━━━━━━━━━━━━━━━\u001b[0m\u001b[37m\u001b[0m \u001b[1m3s\u001b[0m 4ms/step\n",
      "\u001b[1m119/119\u001b[0m \u001b[32m━━━━━━━━━━━━━━━━━━━━\u001b[0m\u001b[37m\u001b[0m \u001b[1m0s\u001b[0m 3ms/step\n",
      "Train RMSE: 3.7073053378339925e-05, Test RMSE: 0.00010817484913363112\n",
      "Train MAE: 3.473162684198519e-05, Test MAE: 6.239816106570092e-05\n"
     ]
    }
   ],
   "source": [
    "def evaluate_model(model, X_train, y_train, X_test, y_test, scaler, data_scaled):\n",
    "    # Ensure predictions are 2D arrays\n",
    "    train_predict = model.predict(X_train).reshape(-1, 1)\n",
    "    test_predict = model.predict(X_test).reshape(-1, 1)\n",
    "\n",
    "    # Inverse transformations for true comparison\n",
    "    train_predict = scaler.inverse_transform(np.concatenate((train_predict, np.zeros((train_predict.shape[0], data_scaled.shape[1]-1))), axis=1))[:,0]\n",
    "    test_predict = scaler.inverse_transform(np.concatenate((test_predict, np.zeros((test_predict.shape[0], data_scaled.shape[1]-1))), axis=1))[:,0]\n",
    "    y_train_rescaled = scaler.inverse_transform(np.concatenate((y_train.reshape(-1,1), np.zeros((y_train.shape[0], data_scaled.shape[1]-1))), axis=1))[:,0]\n",
    "    y_test_rescaled = scaler.inverse_transform(np.concatenate((y_test.reshape(-1,1), np.zeros((y_test.shape[0], data_scaled.shape[1]-1))), axis=1))[:,0]\n",
    "\n",
    "    # Calculating RMSE and MAE\n",
    "    train_rmse = math.sqrt(mean_squared_error(y_train_rescaled, train_predict))\n",
    "    test_rmse = math.sqrt(mean_squared_error(y_test_rescaled, test_predict))\n",
    "    train_mae = mean_absolute_error(y_train_rescaled, train_predict)\n",
    "    test_mae = mean_absolute_error(y_test_rescaled, test_predict)\n",
    "\n",
    "    print(f\"Train RMSE: {train_rmse}, Test RMSE: {test_rmse}\")\n",
    "    print(f\"Train MAE: {train_mae}, Test MAE: {test_mae}\")\n",
    "\n",
    "evaluate_model(model, X_train, y_train, X_test, y_test, scaler, data_scaled)\n",
    "\n"
   ]
  },
  {
   "cell_type": "code",
   "execution_count": 82,
   "id": "c05f53d5-6623-4653-a7a6-e5211db465a7",
   "metadata": {},
   "outputs": [
    {
     "name": "stdout",
     "output_type": "stream",
     "text": [
      "Loaded RMSE Results:\n",
      "{\n",
      "    \"Train RMSE\": 4.2375912928262724e-05,\n",
      "    \"Test RMSE\": 0.00018106709234083223\n",
      "}\n"
     ]
    }
   ],
   "source": [
    "train_rmse = 4.2375912928262724e-05\n",
    "test_rmse = 0.00018106709234083223\n",
    "\n",
    "# Prepare the data dictionary\n",
    "results_data = {\n",
    "    'Train RMSE': train_rmse,\n",
    "    'Test RMSE': test_rmse\n",
    "}\n",
    "# Write the RMSE results to a JSON file\n",
    "with open('lstm_evaluation_results.json', 'w') as file:\n",
    "    json.dump(results_data, file, indent=4)  \n",
    "\n",
    "with open('lstm_evaluation_results.json', 'r') as file:\n",
    "    loaded_results = json.load(file)\n",
    "\n",
    "# Print the loaded results to confirm\n",
    "print(\"Loaded RMSE Results:\")\n",
    "print(json.dumps(loaded_results, indent=4))\n",
    "\n",
    "\n"
   ]
  },
  {
   "cell_type": "markdown",
   "id": "102c64b7-5cb2-4f42-b9f4-bd28a7be9d76",
   "metadata": {},
   "source": [
    "## Random Search"
   ]
  },
  {
   "cell_type": "code",
   "execution_count": 83,
   "id": "2473a628-abad-42a2-8909-4924871dd62e",
   "metadata": {},
   "outputs": [
    {
     "name": "stderr",
     "output_type": "stream",
     "text": [
      "C:\\Users\\lakme\\anaconda3\\Lib\\site-packages\\keras\\src\\layers\\rnn\\rnn.py:204: UserWarning: Do not pass an `input_shape`/`input_dim` argument to a layer. When using Sequential models, prefer using an `Input(shape)` object as the first layer in the model instead.\n",
      "  super().__init__(**kwargs)\n"
     ]
    },
    {
     "name": "stdout",
     "output_type": "stream",
     "text": [
      "Best score: -0.0000\n",
      "Best parameters: {'batch_size': 10, 'epochs': 60, 'model__dropout_rate': 0.091973708923692, 'model__optimizer': 'adam', 'model__units': 34}\n"
     ]
    }
   ],
   "source": [
    "# The create_lstm_model that creates and compiles an LSTM model allows for dynamic model construction with variable parameters. \n",
    "# This function enables you to systematically experiment with different LSTM configurations (number of units, dropout rates, optimizer types) \n",
    "def create_lstm_model(units=50, dropout_rate=0.2, optimizer='adam', input_shape=(1,1)):\n",
    "    model = Sequential([\n",
    "        LSTM(units, input_shape=input_shape),\n",
    "        Dropout(dropout_rate),\n",
    "        Dense(1)\n",
    "    ])\n",
    "    model.compile(loss='mean_squared_error', optimizer=optimizer)\n",
    "    return model\n",
    "\n",
    "# Wrap Keras model in KerasRegressor \n",
    "model = KerasRegressor(\n",
    "    model=create_lstm_model, \n",
    "    batch_size=32, \n",
    "    epochs=100,  \n",
    "    verbose=0\n",
    ")\n",
    "\n",
    "# param_dist with distributions and ranges for each tunable parameter (model__units, model__dropout_rate, etc.), enabling the randomized search \n",
    "# to sample from these distributions. \n",
    "param_dist = {\n",
    "    'model__units': sp_randint(20, 100),\n",
    "    'model__dropout_rate': uniform(0, 0.5),\n",
    "    'model__optimizer': ['adam', 'rmsprop'],\n",
    "    'batch_size': [10, 20, 50],\n",
    "    'epochs': sp_randint(10, 100)\n",
    "}\n",
    "\n",
    "# RandomizedSearchCV offers a more efficient approach than GridSearchCV by randomly sampling a fixed number of parameter combinations from the \n",
    "# specified distributions. It is used because of the high-dimensional hyperparameter space. \n",
    "random_search = RandomizedSearchCV(\n",
    "    estimator=model, \n",
    "    param_distributions=param_dist, \n",
    "    n_iter=10, \n",
    "    cv=3, \n",
    "    n_jobs=-1, \n",
    "    scoring='neg_mean_squared_error'\n",
    ")\n",
    "\n",
    "\n",
    "random_search.fit(train_close_prices, train_close_prices)\n",
    "\n",
    "# Output \n",
    "print(\"Best score: {:.4f}\".format(random_search.best_score_))\n",
    "print(\"Best parameters:\", random_search.best_params_)\n"
   ]
  },
  {
   "cell_type": "code",
   "execution_count": 84,
   "id": "c368419a-63dc-42aa-b88a-f53f1209b607",
   "metadata": {},
   "outputs": [
    {
     "name": "stdout",
     "output_type": "stream",
     "text": [
      "Loaded Random Search Results:\n",
      "{\n",
      "    \"Best Score\": -9.394707639269522e-08,\n",
      "    \"Best Parameters\": {\n",
      "        \"batch_size\": 10,\n",
      "        \"epochs\": 60,\n",
      "        \"model__dropout_rate\": 0.091973708923692,\n",
      "        \"model__optimizer\": \"adam\",\n",
      "        \"model__units\": 34\n",
      "    }\n",
      "}\n"
     ]
    }
   ],
   "source": [
    "# Preparing the results dictionary\n",
    "results_data = {\n",
    "    'Best Score': random_search.best_score_,\n",
    "    'Best Parameters': random_search.best_params_\n",
    "}\n",
    "# Writing the results to a JSON file\n",
    "with open('lstm_random_search_results.json', 'w') as file:\n",
    "    json.dump(results_data, file, indent=4) \n",
    "\n",
    "with open('lstm_random_search_results.json', 'r') as file:\n",
    "    loaded_results = json.load(file)\n",
    "\n",
    "# Printing the loaded results \n",
    "print(\"Loaded Random Search Results:\")\n",
    "print(json.dumps(loaded_results, indent=4))\n"
   ]
  },
  {
   "cell_type": "markdown",
   "id": "8fc79179-419e-43e8-a5d8-ef6bda73dbc5",
   "metadata": {},
   "source": [
    "### Fine Tuning LSTM as per Random Search results"
   ]
  },
  {
   "cell_type": "code",
   "execution_count": 85,
   "id": "d950dd00-cf77-4acf-b97a-327a490d9121",
   "metadata": {},
   "outputs": [
    {
     "name": "stderr",
     "output_type": "stream",
     "text": [
      "C:\\Users\\lakme\\anaconda3\\Lib\\site-packages\\keras\\src\\layers\\rnn\\rnn.py:204: UserWarning: Do not pass an `input_shape`/`input_dim` argument to a layer. When using Sequential models, prefer using an `Input(shape)` object as the first layer in the model instead.\n",
      "  super().__init__(**kwargs)\n"
     ]
    },
    {
     "name": "stdout",
     "output_type": "stream",
     "text": [
      "Epoch 1/36\n",
      "\u001b[1m1523/1523\u001b[0m \u001b[32m━━━━━━━━━━━━━━━━━━━━\u001b[0m\u001b[37m\u001b[0m \u001b[1m5s\u001b[0m 2ms/step - loss: 1.5535e-04\n",
      "Epoch 2/36\n",
      "\u001b[1m1523/1523\u001b[0m \u001b[32m━━━━━━━━━━━━━━━━━━━━\u001b[0m\u001b[37m\u001b[0m \u001b[1m2s\u001b[0m 2ms/step - loss: 2.5312e-06\n",
      "Epoch 3/36\n",
      "\u001b[1m1523/1523\u001b[0m \u001b[32m━━━━━━━━━━━━━━━━━━━━\u001b[0m\u001b[37m\u001b[0m \u001b[1m3s\u001b[0m 2ms/step - loss: 2.0802e-06\n",
      "Epoch 4/36\n",
      "\u001b[1m1523/1523\u001b[0m \u001b[32m━━━━━━━━━━━━━━━━━━━━\u001b[0m\u001b[37m\u001b[0m \u001b[1m3s\u001b[0m 2ms/step - loss: 2.1693e-06\n",
      "Epoch 5/36\n",
      "\u001b[1m1523/1523\u001b[0m \u001b[32m━━━━━━━━━━━━━━━━━━━━\u001b[0m\u001b[37m\u001b[0m \u001b[1m3s\u001b[0m 2ms/step - loss: 1.9010e-06\n",
      "Epoch 6/36\n",
      "\u001b[1m1523/1523\u001b[0m \u001b[32m━━━━━━━━━━━━━━━━━━━━\u001b[0m\u001b[37m\u001b[0m \u001b[1m3s\u001b[0m 2ms/step - loss: 2.0188e-06\n",
      "Epoch 7/36\n",
      "\u001b[1m1523/1523\u001b[0m \u001b[32m━━━━━━━━━━━━━━━━━━━━\u001b[0m\u001b[37m\u001b[0m \u001b[1m3s\u001b[0m 2ms/step - loss: 1.9127e-06\n",
      "Epoch 8/36\n",
      "\u001b[1m1523/1523\u001b[0m \u001b[32m━━━━━━━━━━━━━━━━━━━━\u001b[0m\u001b[37m\u001b[0m \u001b[1m2s\u001b[0m 2ms/step - loss: 1.7158e-06\n",
      "Epoch 9/36\n",
      "\u001b[1m1523/1523\u001b[0m \u001b[32m━━━━━━━━━━━━━━━━━━━━\u001b[0m\u001b[37m\u001b[0m \u001b[1m3s\u001b[0m 2ms/step - loss: 1.9074e-06\n",
      "Epoch 10/36\n",
      "\u001b[1m1523/1523\u001b[0m \u001b[32m━━━━━━━━━━━━━━━━━━━━\u001b[0m\u001b[37m\u001b[0m \u001b[1m2s\u001b[0m 2ms/step - loss: 1.6287e-06\n",
      "Epoch 11/36\n",
      "\u001b[1m1523/1523\u001b[0m \u001b[32m━━━━━━━━━━━━━━━━━━━━\u001b[0m\u001b[37m\u001b[0m \u001b[1m3s\u001b[0m 2ms/step - loss: 1.7360e-06\n",
      "Epoch 12/36\n",
      "\u001b[1m1523/1523\u001b[0m \u001b[32m━━━━━━━━━━━━━━━━━━━━\u001b[0m\u001b[37m\u001b[0m \u001b[1m3s\u001b[0m 2ms/step - loss: 1.7051e-06\n",
      "Epoch 13/36\n",
      "\u001b[1m1523/1523\u001b[0m \u001b[32m━━━━━━━━━━━━━━━━━━━━\u001b[0m\u001b[37m\u001b[0m \u001b[1m2s\u001b[0m 2ms/step - loss: 1.7949e-06\n",
      "Epoch 14/36\n",
      "\u001b[1m1523/1523\u001b[0m \u001b[32m━━━━━━━━━━━━━━━━━━━━\u001b[0m\u001b[37m\u001b[0m \u001b[1m3s\u001b[0m 2ms/step - loss: 1.7946e-06\n",
      "Epoch 15/36\n",
      "\u001b[1m1523/1523\u001b[0m \u001b[32m━━━━━━━━━━━━━━━━━━━━\u001b[0m\u001b[37m\u001b[0m \u001b[1m2s\u001b[0m 2ms/step - loss: 1.8035e-06\n",
      "Epoch 16/36\n",
      "\u001b[1m1523/1523\u001b[0m \u001b[32m━━━━━━━━━━━━━━━━━━━━\u001b[0m\u001b[37m\u001b[0m \u001b[1m2s\u001b[0m 1ms/step - loss: 1.6993e-06\n",
      "Epoch 17/36\n",
      "\u001b[1m1523/1523\u001b[0m \u001b[32m━━━━━━━━━━━━━━━━━━━━\u001b[0m\u001b[37m\u001b[0m \u001b[1m2s\u001b[0m 1ms/step - loss: 1.6129e-06\n",
      "Epoch 18/36\n",
      "\u001b[1m1523/1523\u001b[0m \u001b[32m━━━━━━━━━━━━━━━━━━━━\u001b[0m\u001b[37m\u001b[0m \u001b[1m3s\u001b[0m 2ms/step - loss: 1.6139e-06\n",
      "Epoch 19/36\n",
      "\u001b[1m1523/1523\u001b[0m \u001b[32m━━━━━━━━━━━━━━━━━━━━\u001b[0m\u001b[37m\u001b[0m \u001b[1m2s\u001b[0m 1ms/step - loss: 1.7905e-06\n",
      "Epoch 20/36\n",
      "\u001b[1m1523/1523\u001b[0m \u001b[32m━━━━━━━━━━━━━━━━━━━━\u001b[0m\u001b[37m\u001b[0m \u001b[1m2s\u001b[0m 1ms/step - loss: 1.5283e-06\n",
      "Epoch 21/36\n",
      "\u001b[1m1523/1523\u001b[0m \u001b[32m━━━━━━━━━━━━━━━━━━━━\u001b[0m\u001b[37m\u001b[0m \u001b[1m3s\u001b[0m 2ms/step - loss: 1.5054e-06\n",
      "Epoch 22/36\n",
      "\u001b[1m1523/1523\u001b[0m \u001b[32m━━━━━━━━━━━━━━━━━━━━\u001b[0m\u001b[37m\u001b[0m \u001b[1m3s\u001b[0m 2ms/step - loss: 1.7491e-06\n",
      "Epoch 23/36\n",
      "\u001b[1m1523/1523\u001b[0m \u001b[32m━━━━━━━━━━━━━━━━━━━━\u001b[0m\u001b[37m\u001b[0m \u001b[1m3s\u001b[0m 2ms/step - loss: 1.7421e-06\n",
      "Epoch 24/36\n",
      "\u001b[1m1523/1523\u001b[0m \u001b[32m━━━━━━━━━━━━━━━━━━━━\u001b[0m\u001b[37m\u001b[0m \u001b[1m3s\u001b[0m 2ms/step - loss: 1.8809e-06\n",
      "Epoch 25/36\n",
      "\u001b[1m1523/1523\u001b[0m \u001b[32m━━━━━━━━━━━━━━━━━━━━\u001b[0m\u001b[37m\u001b[0m \u001b[1m3s\u001b[0m 2ms/step - loss: 1.5167e-06\n",
      "Epoch 26/36\n",
      "\u001b[1m1523/1523\u001b[0m \u001b[32m━━━━━━━━━━━━━━━━━━━━\u001b[0m\u001b[37m\u001b[0m \u001b[1m3s\u001b[0m 2ms/step - loss: 1.7205e-06\n",
      "Epoch 27/36\n",
      "\u001b[1m1523/1523\u001b[0m \u001b[32m━━━━━━━━━━━━━━━━━━━━\u001b[0m\u001b[37m\u001b[0m \u001b[1m3s\u001b[0m 2ms/step - loss: 1.6869e-06\n",
      "Epoch 28/36\n",
      "\u001b[1m1523/1523\u001b[0m \u001b[32m━━━━━━━━━━━━━━━━━━━━\u001b[0m\u001b[37m\u001b[0m \u001b[1m3s\u001b[0m 2ms/step - loss: 1.6142e-06\n",
      "Epoch 29/36\n",
      "\u001b[1m1523/1523\u001b[0m \u001b[32m━━━━━━━━━━━━━━━━━━━━\u001b[0m\u001b[37m\u001b[0m \u001b[1m3s\u001b[0m 2ms/step - loss: 1.8314e-06\n",
      "Epoch 30/36\n",
      "\u001b[1m1523/1523\u001b[0m \u001b[32m━━━━━━━━━━━━━━━━━━━━\u001b[0m\u001b[37m\u001b[0m \u001b[1m3s\u001b[0m 2ms/step - loss: 1.5034e-06\n",
      "Epoch 31/36\n",
      "\u001b[1m1523/1523\u001b[0m \u001b[32m━━━━━━━━━━━━━━━━━━━━\u001b[0m\u001b[37m\u001b[0m \u001b[1m3s\u001b[0m 2ms/step - loss: 1.7594e-06\n",
      "Epoch 32/36\n",
      "\u001b[1m1523/1523\u001b[0m \u001b[32m━━━━━━━━━━━━━━━━━━━━\u001b[0m\u001b[37m\u001b[0m \u001b[1m3s\u001b[0m 2ms/step - loss: 1.7111e-06\n",
      "Epoch 33/36\n",
      "\u001b[1m1523/1523\u001b[0m \u001b[32m━━━━━━━━━━━━━━━━━━━━\u001b[0m\u001b[37m\u001b[0m \u001b[1m3s\u001b[0m 2ms/step - loss: 1.5877e-06\n",
      "Epoch 34/36\n",
      "\u001b[1m1523/1523\u001b[0m \u001b[32m━━━━━━━━━━━━━━━━━━━━\u001b[0m\u001b[37m\u001b[0m \u001b[1m3s\u001b[0m 2ms/step - loss: 1.6161e-06\n",
      "Epoch 35/36\n",
      "\u001b[1m1523/1523\u001b[0m \u001b[32m━━━━━━━━━━━━━━━━━━━━\u001b[0m\u001b[37m\u001b[0m \u001b[1m3s\u001b[0m 2ms/step - loss: 1.5623e-06\n",
      "Epoch 36/36\n",
      "\u001b[1m1523/1523\u001b[0m \u001b[32m━━━━━━━━━━━━━━━━━━━━\u001b[0m\u001b[37m\u001b[0m \u001b[1m3s\u001b[0m 2ms/step - loss: 1.6775e-06\n"
     ]
    },
    {
     "data": {
      "text/html": [
       "<style>#sk-container-id-1 {\n",
       "  /* Definition of color scheme common for light and dark mode */\n",
       "  --sklearn-color-text: black;\n",
       "  --sklearn-color-line: gray;\n",
       "  /* Definition of color scheme for unfitted estimators */\n",
       "  --sklearn-color-unfitted-level-0: #fff5e6;\n",
       "  --sklearn-color-unfitted-level-1: #f6e4d2;\n",
       "  --sklearn-color-unfitted-level-2: #ffe0b3;\n",
       "  --sklearn-color-unfitted-level-3: chocolate;\n",
       "  /* Definition of color scheme for fitted estimators */\n",
       "  --sklearn-color-fitted-level-0: #f0f8ff;\n",
       "  --sklearn-color-fitted-level-1: #d4ebff;\n",
       "  --sklearn-color-fitted-level-2: #b3dbfd;\n",
       "  --sklearn-color-fitted-level-3: cornflowerblue;\n",
       "\n",
       "  /* Specific color for light theme */\n",
       "  --sklearn-color-text-on-default-background: var(--sg-text-color, var(--theme-code-foreground, var(--jp-content-font-color1, black)));\n",
       "  --sklearn-color-background: var(--sg-background-color, var(--theme-background, var(--jp-layout-color0, white)));\n",
       "  --sklearn-color-border-box: var(--sg-text-color, var(--theme-code-foreground, var(--jp-content-font-color1, black)));\n",
       "  --sklearn-color-icon: #696969;\n",
       "\n",
       "  @media (prefers-color-scheme: dark) {\n",
       "    /* Redefinition of color scheme for dark theme */\n",
       "    --sklearn-color-text-on-default-background: var(--sg-text-color, var(--theme-code-foreground, var(--jp-content-font-color1, white)));\n",
       "    --sklearn-color-background: var(--sg-background-color, var(--theme-background, var(--jp-layout-color0, #111)));\n",
       "    --sklearn-color-border-box: var(--sg-text-color, var(--theme-code-foreground, var(--jp-content-font-color1, white)));\n",
       "    --sklearn-color-icon: #878787;\n",
       "  }\n",
       "}\n",
       "\n",
       "#sk-container-id-1 {\n",
       "  color: var(--sklearn-color-text);\n",
       "}\n",
       "\n",
       "#sk-container-id-1 pre {\n",
       "  padding: 0;\n",
       "}\n",
       "\n",
       "#sk-container-id-1 input.sk-hidden--visually {\n",
       "  border: 0;\n",
       "  clip: rect(1px 1px 1px 1px);\n",
       "  clip: rect(1px, 1px, 1px, 1px);\n",
       "  height: 1px;\n",
       "  margin: -1px;\n",
       "  overflow: hidden;\n",
       "  padding: 0;\n",
       "  position: absolute;\n",
       "  width: 1px;\n",
       "}\n",
       "\n",
       "#sk-container-id-1 div.sk-dashed-wrapped {\n",
       "  border: 1px dashed var(--sklearn-color-line);\n",
       "  margin: 0 0.4em 0.5em 0.4em;\n",
       "  box-sizing: border-box;\n",
       "  padding-bottom: 0.4em;\n",
       "  background-color: var(--sklearn-color-background);\n",
       "}\n",
       "\n",
       "#sk-container-id-1 div.sk-container {\n",
       "  /* jupyter's `normalize.less` sets `[hidden] { display: none; }`\n",
       "     but bootstrap.min.css set `[hidden] { display: none !important; }`\n",
       "     so we also need the `!important` here to be able to override the\n",
       "     default hidden behavior on the sphinx rendered scikit-learn.org.\n",
       "     See: https://github.com/scikit-learn/scikit-learn/issues/21755 */\n",
       "  display: inline-block !important;\n",
       "  position: relative;\n",
       "}\n",
       "\n",
       "#sk-container-id-1 div.sk-text-repr-fallback {\n",
       "  display: none;\n",
       "}\n",
       "\n",
       "div.sk-parallel-item,\n",
       "div.sk-serial,\n",
       "div.sk-item {\n",
       "  /* draw centered vertical line to link estimators */\n",
       "  background-image: linear-gradient(var(--sklearn-color-text-on-default-background), var(--sklearn-color-text-on-default-background));\n",
       "  background-size: 2px 100%;\n",
       "  background-repeat: no-repeat;\n",
       "  background-position: center center;\n",
       "}\n",
       "\n",
       "/* Parallel-specific style estimator block */\n",
       "\n",
       "#sk-container-id-1 div.sk-parallel-item::after {\n",
       "  content: \"\";\n",
       "  width: 100%;\n",
       "  border-bottom: 2px solid var(--sklearn-color-text-on-default-background);\n",
       "  flex-grow: 1;\n",
       "}\n",
       "\n",
       "#sk-container-id-1 div.sk-parallel {\n",
       "  display: flex;\n",
       "  align-items: stretch;\n",
       "  justify-content: center;\n",
       "  background-color: var(--sklearn-color-background);\n",
       "  position: relative;\n",
       "}\n",
       "\n",
       "#sk-container-id-1 div.sk-parallel-item {\n",
       "  display: flex;\n",
       "  flex-direction: column;\n",
       "}\n",
       "\n",
       "#sk-container-id-1 div.sk-parallel-item:first-child::after {\n",
       "  align-self: flex-end;\n",
       "  width: 50%;\n",
       "}\n",
       "\n",
       "#sk-container-id-1 div.sk-parallel-item:last-child::after {\n",
       "  align-self: flex-start;\n",
       "  width: 50%;\n",
       "}\n",
       "\n",
       "#sk-container-id-1 div.sk-parallel-item:only-child::after {\n",
       "  width: 0;\n",
       "}\n",
       "\n",
       "/* Serial-specific style estimator block */\n",
       "\n",
       "#sk-container-id-1 div.sk-serial {\n",
       "  display: flex;\n",
       "  flex-direction: column;\n",
       "  align-items: center;\n",
       "  background-color: var(--sklearn-color-background);\n",
       "  padding-right: 1em;\n",
       "  padding-left: 1em;\n",
       "}\n",
       "\n",
       "\n",
       "/* Toggleable style: style used for estimator/Pipeline/ColumnTransformer box that is\n",
       "clickable and can be expanded/collapsed.\n",
       "- Pipeline and ColumnTransformer use this feature and define the default style\n",
       "- Estimators will overwrite some part of the style using the `sk-estimator` class\n",
       "*/\n",
       "\n",
       "/* Pipeline and ColumnTransformer style (default) */\n",
       "\n",
       "#sk-container-id-1 div.sk-toggleable {\n",
       "  /* Default theme specific background. It is overwritten whether we have a\n",
       "  specific estimator or a Pipeline/ColumnTransformer */\n",
       "  background-color: var(--sklearn-color-background);\n",
       "}\n",
       "\n",
       "/* Toggleable label */\n",
       "#sk-container-id-1 label.sk-toggleable__label {\n",
       "  cursor: pointer;\n",
       "  display: block;\n",
       "  width: 100%;\n",
       "  margin-bottom: 0;\n",
       "  padding: 0.5em;\n",
       "  box-sizing: border-box;\n",
       "  text-align: center;\n",
       "}\n",
       "\n",
       "#sk-container-id-1 label.sk-toggleable__label-arrow:before {\n",
       "  /* Arrow on the left of the label */\n",
       "  content: \"▸\";\n",
       "  float: left;\n",
       "  margin-right: 0.25em;\n",
       "  color: var(--sklearn-color-icon);\n",
       "}\n",
       "\n",
       "#sk-container-id-1 label.sk-toggleable__label-arrow:hover:before {\n",
       "  color: var(--sklearn-color-text);\n",
       "}\n",
       "\n",
       "/* Toggleable content - dropdown */\n",
       "\n",
       "#sk-container-id-1 div.sk-toggleable__content {\n",
       "  max-height: 0;\n",
       "  max-width: 0;\n",
       "  overflow: hidden;\n",
       "  text-align: left;\n",
       "  /* unfitted */\n",
       "  background-color: var(--sklearn-color-unfitted-level-0);\n",
       "}\n",
       "\n",
       "#sk-container-id-1 div.sk-toggleable__content.fitted {\n",
       "  /* fitted */\n",
       "  background-color: var(--sklearn-color-fitted-level-0);\n",
       "}\n",
       "\n",
       "#sk-container-id-1 div.sk-toggleable__content pre {\n",
       "  margin: 0.2em;\n",
       "  border-radius: 0.25em;\n",
       "  color: var(--sklearn-color-text);\n",
       "  /* unfitted */\n",
       "  background-color: var(--sklearn-color-unfitted-level-0);\n",
       "}\n",
       "\n",
       "#sk-container-id-1 div.sk-toggleable__content.fitted pre {\n",
       "  /* unfitted */\n",
       "  background-color: var(--sklearn-color-fitted-level-0);\n",
       "}\n",
       "\n",
       "#sk-container-id-1 input.sk-toggleable__control:checked~div.sk-toggleable__content {\n",
       "  /* Expand drop-down */\n",
       "  max-height: 200px;\n",
       "  max-width: 100%;\n",
       "  overflow: auto;\n",
       "}\n",
       "\n",
       "#sk-container-id-1 input.sk-toggleable__control:checked~label.sk-toggleable__label-arrow:before {\n",
       "  content: \"▾\";\n",
       "}\n",
       "\n",
       "/* Pipeline/ColumnTransformer-specific style */\n",
       "\n",
       "#sk-container-id-1 div.sk-label input.sk-toggleable__control:checked~label.sk-toggleable__label {\n",
       "  color: var(--sklearn-color-text);\n",
       "  background-color: var(--sklearn-color-unfitted-level-2);\n",
       "}\n",
       "\n",
       "#sk-container-id-1 div.sk-label.fitted input.sk-toggleable__control:checked~label.sk-toggleable__label {\n",
       "  background-color: var(--sklearn-color-fitted-level-2);\n",
       "}\n",
       "\n",
       "/* Estimator-specific style */\n",
       "\n",
       "/* Colorize estimator box */\n",
       "#sk-container-id-1 div.sk-estimator input.sk-toggleable__control:checked~label.sk-toggleable__label {\n",
       "  /* unfitted */\n",
       "  background-color: var(--sklearn-color-unfitted-level-2);\n",
       "}\n",
       "\n",
       "#sk-container-id-1 div.sk-estimator.fitted input.sk-toggleable__control:checked~label.sk-toggleable__label {\n",
       "  /* fitted */\n",
       "  background-color: var(--sklearn-color-fitted-level-2);\n",
       "}\n",
       "\n",
       "#sk-container-id-1 div.sk-label label.sk-toggleable__label,\n",
       "#sk-container-id-1 div.sk-label label {\n",
       "  /* The background is the default theme color */\n",
       "  color: var(--sklearn-color-text-on-default-background);\n",
       "}\n",
       "\n",
       "/* On hover, darken the color of the background */\n",
       "#sk-container-id-1 div.sk-label:hover label.sk-toggleable__label {\n",
       "  color: var(--sklearn-color-text);\n",
       "  background-color: var(--sklearn-color-unfitted-level-2);\n",
       "}\n",
       "\n",
       "/* Label box, darken color on hover, fitted */\n",
       "#sk-container-id-1 div.sk-label.fitted:hover label.sk-toggleable__label.fitted {\n",
       "  color: var(--sklearn-color-text);\n",
       "  background-color: var(--sklearn-color-fitted-level-2);\n",
       "}\n",
       "\n",
       "/* Estimator label */\n",
       "\n",
       "#sk-container-id-1 div.sk-label label {\n",
       "  font-family: monospace;\n",
       "  font-weight: bold;\n",
       "  display: inline-block;\n",
       "  line-height: 1.2em;\n",
       "}\n",
       "\n",
       "#sk-container-id-1 div.sk-label-container {\n",
       "  text-align: center;\n",
       "}\n",
       "\n",
       "/* Estimator-specific */\n",
       "#sk-container-id-1 div.sk-estimator {\n",
       "  font-family: monospace;\n",
       "  border: 1px dotted var(--sklearn-color-border-box);\n",
       "  border-radius: 0.25em;\n",
       "  box-sizing: border-box;\n",
       "  margin-bottom: 0.5em;\n",
       "  /* unfitted */\n",
       "  background-color: var(--sklearn-color-unfitted-level-0);\n",
       "}\n",
       "\n",
       "#sk-container-id-1 div.sk-estimator.fitted {\n",
       "  /* fitted */\n",
       "  background-color: var(--sklearn-color-fitted-level-0);\n",
       "}\n",
       "\n",
       "/* on hover */\n",
       "#sk-container-id-1 div.sk-estimator:hover {\n",
       "  /* unfitted */\n",
       "  background-color: var(--sklearn-color-unfitted-level-2);\n",
       "}\n",
       "\n",
       "#sk-container-id-1 div.sk-estimator.fitted:hover {\n",
       "  /* fitted */\n",
       "  background-color: var(--sklearn-color-fitted-level-2);\n",
       "}\n",
       "\n",
       "/* Specification for estimator info (e.g. \"i\" and \"?\") */\n",
       "\n",
       "/* Common style for \"i\" and \"?\" */\n",
       "\n",
       ".sk-estimator-doc-link,\n",
       "a:link.sk-estimator-doc-link,\n",
       "a:visited.sk-estimator-doc-link {\n",
       "  float: right;\n",
       "  font-size: smaller;\n",
       "  line-height: 1em;\n",
       "  font-family: monospace;\n",
       "  background-color: var(--sklearn-color-background);\n",
       "  border-radius: 1em;\n",
       "  height: 1em;\n",
       "  width: 1em;\n",
       "  text-decoration: none !important;\n",
       "  margin-left: 1ex;\n",
       "  /* unfitted */\n",
       "  border: var(--sklearn-color-unfitted-level-1) 1pt solid;\n",
       "  color: var(--sklearn-color-unfitted-level-1);\n",
       "}\n",
       "\n",
       ".sk-estimator-doc-link.fitted,\n",
       "a:link.sk-estimator-doc-link.fitted,\n",
       "a:visited.sk-estimator-doc-link.fitted {\n",
       "  /* fitted */\n",
       "  border: var(--sklearn-color-fitted-level-1) 1pt solid;\n",
       "  color: var(--sklearn-color-fitted-level-1);\n",
       "}\n",
       "\n",
       "/* On hover */\n",
       "div.sk-estimator:hover .sk-estimator-doc-link:hover,\n",
       ".sk-estimator-doc-link:hover,\n",
       "div.sk-label-container:hover .sk-estimator-doc-link:hover,\n",
       ".sk-estimator-doc-link:hover {\n",
       "  /* unfitted */\n",
       "  background-color: var(--sklearn-color-unfitted-level-3);\n",
       "  color: var(--sklearn-color-background);\n",
       "  text-decoration: none;\n",
       "}\n",
       "\n",
       "div.sk-estimator.fitted:hover .sk-estimator-doc-link.fitted:hover,\n",
       ".sk-estimator-doc-link.fitted:hover,\n",
       "div.sk-label-container:hover .sk-estimator-doc-link.fitted:hover,\n",
       ".sk-estimator-doc-link.fitted:hover {\n",
       "  /* fitted */\n",
       "  background-color: var(--sklearn-color-fitted-level-3);\n",
       "  color: var(--sklearn-color-background);\n",
       "  text-decoration: none;\n",
       "}\n",
       "\n",
       "/* Span, style for the box shown on hovering the info icon */\n",
       ".sk-estimator-doc-link span {\n",
       "  display: none;\n",
       "  z-index: 9999;\n",
       "  position: relative;\n",
       "  font-weight: normal;\n",
       "  right: .2ex;\n",
       "  padding: .5ex;\n",
       "  margin: .5ex;\n",
       "  width: min-content;\n",
       "  min-width: 20ex;\n",
       "  max-width: 50ex;\n",
       "  color: var(--sklearn-color-text);\n",
       "  box-shadow: 2pt 2pt 4pt #999;\n",
       "  /* unfitted */\n",
       "  background: var(--sklearn-color-unfitted-level-0);\n",
       "  border: .5pt solid var(--sklearn-color-unfitted-level-3);\n",
       "}\n",
       "\n",
       ".sk-estimator-doc-link.fitted span {\n",
       "  /* fitted */\n",
       "  background: var(--sklearn-color-fitted-level-0);\n",
       "  border: var(--sklearn-color-fitted-level-3);\n",
       "}\n",
       "\n",
       ".sk-estimator-doc-link:hover span {\n",
       "  display: block;\n",
       "}\n",
       "\n",
       "/* \"?\"-specific style due to the `<a>` HTML tag */\n",
       "\n",
       "#sk-container-id-1 a.estimator_doc_link {\n",
       "  float: right;\n",
       "  font-size: 1rem;\n",
       "  line-height: 1em;\n",
       "  font-family: monospace;\n",
       "  background-color: var(--sklearn-color-background);\n",
       "  border-radius: 1rem;\n",
       "  height: 1rem;\n",
       "  width: 1rem;\n",
       "  text-decoration: none;\n",
       "  /* unfitted */\n",
       "  color: var(--sklearn-color-unfitted-level-1);\n",
       "  border: var(--sklearn-color-unfitted-level-1) 1pt solid;\n",
       "}\n",
       "\n",
       "#sk-container-id-1 a.estimator_doc_link.fitted {\n",
       "  /* fitted */\n",
       "  border: var(--sklearn-color-fitted-level-1) 1pt solid;\n",
       "  color: var(--sklearn-color-fitted-level-1);\n",
       "}\n",
       "\n",
       "/* On hover */\n",
       "#sk-container-id-1 a.estimator_doc_link:hover {\n",
       "  /* unfitted */\n",
       "  background-color: var(--sklearn-color-unfitted-level-3);\n",
       "  color: var(--sklearn-color-background);\n",
       "  text-decoration: none;\n",
       "}\n",
       "\n",
       "#sk-container-id-1 a.estimator_doc_link.fitted:hover {\n",
       "  /* fitted */\n",
       "  background-color: var(--sklearn-color-fitted-level-3);\n",
       "}\n",
       "</style><div id=\"sk-container-id-1\" class=\"sk-top-container\"><div class=\"sk-text-repr-fallback\"><pre>KerasRegressor(\n",
       "\tmodel=&lt;function &lt;lambda&gt; at 0x000001E242F2F880&gt;\n",
       "\tbuild_fn=None\n",
       "\twarm_start=False\n",
       "\trandom_state=None\n",
       "\toptimizer=rmsprop\n",
       "\tloss=None\n",
       "\tmetrics=None\n",
       "\tbatch_size=10\n",
       "\tvalidation_batch_size=None\n",
       "\tverbose=1\n",
       "\tcallbacks=None\n",
       "\tvalidation_split=0.0\n",
       "\tshuffle=True\n",
       "\trun_eagerly=False\n",
       "\tepochs=36\n",
       ")</pre><b>In a Jupyter environment, please rerun this cell to show the HTML representation or trust the notebook. <br />On GitHub, the HTML representation is unable to render, please try loading this page with nbviewer.org.</b></div><div class=\"sk-container\" hidden><div class=\"sk-item\"><div class=\"sk-estimator fitted sk-toggleable\"><input class=\"sk-toggleable__control sk-hidden--visually\" id=\"sk-estimator-id-1\" type=\"checkbox\" checked><label for=\"sk-estimator-id-1\" class=\"sk-toggleable__label fitted sk-toggleable__label-arrow fitted\">&nbsp;KerasRegressor<span class=\"sk-estimator-doc-link fitted\">i<span>Fitted</span></span></label><div class=\"sk-toggleable__content fitted\"><pre>KerasRegressor(\n",
       "\tmodel=&lt;function &lt;lambda&gt; at 0x000001E242F2F880&gt;\n",
       "\tbuild_fn=None\n",
       "\twarm_start=False\n",
       "\trandom_state=None\n",
       "\toptimizer=rmsprop\n",
       "\tloss=None\n",
       "\tmetrics=None\n",
       "\tbatch_size=10\n",
       "\tvalidation_batch_size=None\n",
       "\tverbose=1\n",
       "\tcallbacks=None\n",
       "\tvalidation_split=0.0\n",
       "\tshuffle=True\n",
       "\trun_eagerly=False\n",
       "\tepochs=36\n",
       ")</pre></div> </div></div></div></div>"
      ],
      "text/plain": [
       "KerasRegressor(\n",
       "\tmodel=<function <lambda> at 0x000001E242F2F880>\n",
       "\tbuild_fn=None\n",
       "\twarm_start=False\n",
       "\trandom_state=None\n",
       "\toptimizer=rmsprop\n",
       "\tloss=None\n",
       "\tmetrics=None\n",
       "\tbatch_size=10\n",
       "\tvalidation_batch_size=None\n",
       "\tverbose=1\n",
       "\tcallbacks=None\n",
       "\tvalidation_split=0.0\n",
       "\tshuffle=True\n",
       "\trun_eagerly=False\n",
       "\tepochs=36\n",
       ")"
      ]
     },
     "execution_count": 85,
     "metadata": {},
     "output_type": "execute_result"
    }
   ],
   "source": [
    "# Defining the model with optimal parameters\n",
    "def create_optimized_lstm_model(input_shape=(1,1)):\n",
    "    model = Sequential([\n",
    "        LSTM(36, input_shape=input_shape),  \n",
    "        Dropout(0.13159625),                \n",
    "        Dense(1)\n",
    "    ])\n",
    "    model.compile(loss='mean_squared_error', optimizer='adam')  \n",
    "    return model\n",
    "\n",
    "\n",
    "input_shape = (train_close_prices.shape[1], 1)  \n",
    "\n",
    "# Wrap the model in KerasRegressor\n",
    "optimized_model = KerasRegressor(\n",
    "    model=lambda: create_optimized_lstm_model(input_shape=input_shape),\n",
    "    batch_size=10,    \n",
    "    epochs=36,        \n",
    "    verbose=1         \n",
    ")\n",
    "\n",
    "# Fit the model\n",
    "optimized_model.fit(train_close_prices, train_close_prices)"
   ]
  },
  {
   "cell_type": "code",
   "execution_count": 94,
   "id": "b6cd54a6-d959-46de-ae8d-e76073ca4f4a",
   "metadata": {},
   "outputs": [
    {
     "name": "stdout",
     "output_type": "stream",
     "text": [
      "\u001b[1m1523/1523\u001b[0m \u001b[32m━━━━━━━━━━━━━━━━━━━━\u001b[0m\u001b[37m\u001b[0m \u001b[1m2s\u001b[0m 1ms/step\n",
      "\u001b[1m381/381\u001b[0m \u001b[32m━━━━━━━━━━━━━━━━━━━━\u001b[0m\u001b[37m\u001b[0m \u001b[1m1s\u001b[0m 1ms/step\n",
      "Train RMSE: 0.0009329413944380471, Test RMSE: 0.0009330770262954807\n",
      "Train MAE: 0.0009326435952004662, Test MAE: 0.0009327734499483814\n"
     ]
    }
   ],
   "source": [
    "def evaluate_model(model, X_train, y_train, X_test, y_test, scaler, data_scaled):\n",
    "    test_input_shape = (test_close_prices.shape[1], 1)\n",
    "    test_close_prices_reshaped = test_close_prices.reshape((test_close_prices.shape[0], test_input_shape[0], test_input_shape[1]))\n",
    "\n",
    "# Making the  predictions\n",
    "train_predictions = optimized_model.predict(train_close_prices)\n",
    "test_predictions = optimized_model.predict(test_close_prices)\n",
    "\n",
    "# Calculating RMSE and MAE for both train and test data sets\n",
    "train_rmse = math.sqrt(mean_squared_error(train_close_prices, train_predictions))\n",
    "test_rmse = math.sqrt(mean_squared_error(test_close_prices, test_predictions))\n",
    "train_mae = mean_absolute_error(train_close_prices, train_predictions)\n",
    "test_mae = mean_absolute_error(test_close_prices, test_predictions)\n",
    "\n",
    "# Printing the evaluation results\n",
    "print(f\"Train RMSE: {train_rmse}, Test RMSE: {test_rmse}\")\n",
    "print(f\"Train MAE: {train_mae}, Test MAE: {test_mae}\")"
   ]
  },
  {
   "cell_type": "code",
   "execution_count": 95,
   "id": "d8782f5d-73de-4887-8196-ab7506bd293f",
   "metadata": {},
   "outputs": [
    {
     "name": "stdout",
     "output_type": "stream",
     "text": [
      "Loaded Evaluation Results:\n",
      "{\n",
      "    \"Train RMSE\": 0.0009329413944380471,\n",
      "    \"Test RMSE\": 0.00093307702629548\n",
      "}\n"
     ]
    }
   ],
   "source": [
    "# RMSE \n",
    "results_data = {\n",
    "    'Train RMSE': 0.0009329413944380471,\n",
    "    'Test RMSE': 0.000933077026295480,\n",
    "}\n",
    "# Write the results to a JSON file\n",
    "with open('lstm_evaluation_results.json', 'w') as file:\n",
    "    json.dump(results_data, file, indent=4)  \n",
    "\n",
    "with open('lstm_evaluation_results.json', 'r') as file:\n",
    "    loaded_results = json.load(file)\n",
    "\n",
    "# Print the loaded results \n",
    "print(\"Loaded Evaluation Results:\")\n",
    "print(json.dumps(loaded_results, indent=4))\n"
   ]
  },
  {
   "cell_type": "markdown",
   "id": "52225002-aee9-4fa1-9b62-d16b4459dd4e",
   "metadata": {},
   "source": [
    "When tuning LSTM models, grid search has demonstrated superior results compared to random search, particularly due to its methodical approach in exploring each combination of parameters within a predefined grid. This systematic exploration is crucial for LSTM networks, where the performance heavily depends on finely tuned hyperparameters. Grid search ensures that no possible configuration is overlooked, maximizing the probability of finding the optimal settings that enhance model performance. In contrast, random search, while generally more efficient in high-dimensional spaces, selects parameter combinations randomly and may miss critical values, especially if they are concentrated in a narrow range. This can lead to suboptimal exploration and potentially inferior results, which is less ideal for the intricate dependencies and precision required in LSTM tuning. "
   ]
  },
  {
   "cell_type": "markdown",
   "id": "504ad413-d662-4aeb-b95b-c00af1c004ae",
   "metadata": {},
   "source": [
    "# Analyze the best models and their errors"
   ]
  },
  {
   "cell_type": "code",
   "execution_count": 96,
   "id": "ff48c493-e76f-4258-98ef-51053631b6e4",
   "metadata": {},
   "outputs": [
    {
     "data": {
      "image/png": "[encoded data removed]",
      "text/plain": [
       "<IPython.core.display.Image object>"
      ]
     },
     "metadata": {},
     "output_type": "display_data"
    }
   ],
   "source": [
    "# Data for Improved LSTM before and after fine-tuning\n",
    "metrics = ['Train RMSE', 'Test RMSE', 'Train MAE', 'Test MAE']\n",
    "before_fine_tuning = [0.0002060776536072424, 0.0016622946127352147, 0.00013661152212839263, 0.00013661152212839263]\n",
    "after_grid_search = [4.2375912928262724e-05, 0.00018106709234083223, 3.966499077480567e-05, 0.00010456777637250119]\n",
    "after_random_search = [0.0009329413944380471, 0.00093307702629548, 0.0009326435952004662, 0.0009327734499483814]\n",
    "\n",
    "fig, axes = plt.subplots(nrows=1, ncols=2, figsize=(14, 6))\n",
    "\n",
    "# Grid search improvements\n",
    "axes[0].bar(metrics, before_fine_tuning, width=-0.3, align='edge', color='blue', label='Before Fine Tuning')\n",
    "axes[0].bar(metrics, after_grid_search, width=0.3, align='edge', color='green', label='After Grid Search')\n",
    "axes[0].set_title('Performance Before and After Grid Search')\n",
    "axes[0].set_ylabel('Value')\n",
    "axes[0].set_yscale('log')\n",
    "axes[0].legend()\n",
    "\n",
    "# Random search improvements\n",
    "axes[1].bar(metrics, before_fine_tuning, width=-0.3, align='edge', color='blue', label='Before Fine Tuning')\n",
    "axes[1].bar(metrics, after_random_search, width=0.3, align='edge', color='orange', label='After Random Search')\n",
    "axes[1].set_title('Performance Before and After Random Search')\n",
    "axes[1].set_ylabel('Value')\n",
    "axes[1].set_yscale('log')\n",
    "axes[1].legend()\n",
    "\n",
    "plt.tight_layout()\n",
    "plt.savefig('Analysis2.png') \n",
    "\n",
    "\n",
    "from IPython.display import Image, display\n",
    "display(Image(filename='Analysis2.png'))"
   ]
  },
  {
   "cell_type": "code",
   "execution_count": null,
   "id": "3cf9bbb8-30d6-4f7a-80a5-c9f29c347b1c",
   "metadata": {},
   "outputs": [],
   "source": [
    "# The values may differ slightly each time code block is run"
   ]
  },
  {
   "cell_type": "code",
   "execution_count": 97,
   "id": "6dda5c2e-3b6f-46ba-becd-44a89641b954",
   "metadata": {},
   "outputs": [
    {
     "data": {
      "image/png": "[encoded data removed]",
      "text/plain": [
       "<IPython.core.display.Image object>"
      ]
     },
     "metadata": {},
     "output_type": "display_data"
    }
   ],
   "source": [
    "# Defining categories for the metrics\n",
    "categories = ['Train RMSE', 'Test RMSE', 'Train MAE', 'Test MAE']\n",
    "width = 0.25  # Bar width\n",
    "\n",
    "fig, ax = plt.subplots(figsize=(12, 8))\n",
    "\n",
    "positions = list(range(len(categories)))\n",
    "\n",
    "# Bars for after grid search\n",
    "bars_grid = ax.bar([p - width/2 for p in positions], after_grid_search, width, color='green', label='After Grid Search')\n",
    "\n",
    "# Bars for after random search\n",
    "bars_random = ax.bar([p + width/2 for p in positions], after_random_search, width, color='orange', label='After Random Search')\n",
    "ax.set_xlabel('Metric')\n",
    "ax.set_ylabel('Values')\n",
    "ax.set_title('Direct Comparison of Improved LSTM After Grid Search and Random Search')\n",
    "ax.set_xticks(positions)\n",
    "ax.set_xticklabels(categories)\n",
    "ax.set_yscale('log')\n",
    "ax.legend()\n",
    "plt.savefig('Analysis3.png') \n",
    "\n",
    "\n",
    "from IPython.display import Image, display\n",
    "display(Image(filename='Analysis3.png'))\n"
   ]
  },
  {
   "cell_type": "code",
   "execution_count": null,
   "id": "e9a1425f-31b7-4393-a5bb-a7ed1f1c1f71",
   "metadata": {},
   "outputs": [],
   "source": [
    "# The values may differ slightly each time the code block is run "
   ]
  },
  {
   "cell_type": "markdown",
   "id": "78b27f50-7291-4ec0-b190-2e4f41bbd1eb",
   "metadata": {},
   "source": [
    "# Conclusion"
   ]
  },
  {
   "cell_type": "markdown",
   "id": "a7eb8dc5-eca6-4de0-8b4c-2f5a1c96361f",
   "metadata": {},
   "source": [
    "The successful application of an LSTM model with grid search optimization for Bitcoin price prediction underscores the model's efficacy in capturing complex temporal patterns inherent in financial time series. The comprehensive exploration of hyperparameters through grid search revealed that precise tuning significantly enhances model performance, emphasizing the importance of parameters such as the number of LSTM units and learning rate. This approach not only ensures robust generalization across varying market conditions but also justifies the computational investment due to notable improvements in prediction accuracy. Future enhancements could include exploring more advanced hyperparameter optimization techniques and expanding the dataset, potentially increasing the model's accuracy and reliability in dynamic environments like cryptocurrency markets. This strategic combination of LSTM and meticulous tuning presents a potent tool for financial forecasting, crucial for navigating the volatile Bitcoin market. \n",
    "\n",
    " "
   ]
  },
  {
   "cell_type": "code",
   "execution_count": null,
   "id": "83c6dc94-5bb2-4cc2-869e-91daee74c498",
   "metadata": {},
   "outputs": [],
   "source": [
    "# The End"
   ]
  }
 ],
 "metadata": {
  "kernelspec": {
   "display_name": "Python 3 (ipykernel)",
   "language": "python",
   "name": "python3"
  },
  "language_info": {
   "codemirror_mode": {
    "name": "ipython",
    "version": 3
   },
   "file_extension": ".py",
   "mimetype": "text/x-python",
   "name": "python",
   "nbconvert_exporter": "python",
   "pygments_lexer": "ipython3",
   "version": "3.11.6"
  }
 },
 "nbformat": 4,
 "nbformat_minor": 5
}
